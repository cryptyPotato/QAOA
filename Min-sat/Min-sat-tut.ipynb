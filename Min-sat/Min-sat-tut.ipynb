{
 "cells": [
  {
   "cell_type": "markdown",
   "id": "b616f13c-01ef-43ed-9231-5d539503c2a7",
   "metadata": {
    "tags": []
   },
   "source": [
    "# <font color = red >Minimum Satisfiability"
   ]
  },
  {
   "cell_type": "markdown",
   "id": "67819e49-bcf4-427a-9822-e7532654898e",
   "metadata": {
    "tags": []
   },
   "source": [
    "### Import required libraries"
   ]
  },
  {
   "cell_type": "code",
   "execution_count": null,
   "id": "894ed926-5980-489e-a6df-e5ed019b6329",
   "metadata": {
    "tags": []
   },
   "outputs": [],
   "source": [
    "import itertools\n",
    "import functools\n",
    "from typing import Iterable\n",
    "\n",
    "import pennylane as qml\n",
    "from pennylane.wires import Wires\n",
    "from pennylane import numpy as np\n"
   ]
  },
  {
   "cell_type": "markdown",
   "id": "09a675d8-61b8-496f-a3c8-6badd00be1d1",
   "metadata": {
    "tags": []
   },
   "source": [
    "### Constructing Hamiltonian"
   ]
  },
  {
   "cell_type": "markdown",
   "id": "44f0de41-689e-4fec-a753-31044b169efb",
   "metadata": {},
   "source": [
    "$H = X_0 + X_1$\n",
    "    "
   ]
  },
  {
   "cell_type": "code",
   "execution_count": null,
   "id": "157e15b4-2744-4c83-a43d-f52984265c79",
   "metadata": {
    "tags": []
   },
   "outputs": [],
   "source": [
    "coeffs = [1,1]\n",
    "terms  = [qml.PauliX(0),qml.PauliX(1)]\n",
    "print(qml.Hamiltonian(coeffs,terms))"
   ]
  },
  {
   "cell_type": "markdown",
   "id": "d156f043-bc97-4189-9ee0-9a19e426e4d1",
   "metadata": {},
   "source": [
    "$H = X_0 Z_1 $"
   ]
  },
  {
   "cell_type": "code",
   "execution_count": null,
   "id": "21989ed5-f365-4231-9929-305a01b5bfbd",
   "metadata": {
    "tags": []
   },
   "outputs": [],
   "source": [
    "coeffs = [1]\n",
    "terms  = [qml.PauliX(0)@qml.PauliZ(1)]\n",
    "print(qml.Hamiltonian(coeffs,terms))"
   ]
  },
  {
   "cell_type": "markdown",
   "id": "c9140968-fb60-46f6-85f1-7ed8c8beb05b",
   "metadata": {},
   "source": [
    "$ H = W_0 ;$ $W = \\ket{1}\\bra{1} = 0.5(I - Z )$"
   ]
  },
  {
   "cell_type": "code",
   "execution_count": null,
   "id": "b849c1c5-f45e-4c02-8197-2e4a4db5d162",
   "metadata": {
    "tags": []
   },
   "outputs": [],
   "source": [
    "coeffs = [0.5, -0.5]\n",
    "terms = [qml.Identity(0),qml.PauliZ(0)]\n",
    "print(qml.Hamiltonian(coeffs,terms))"
   ]
  },
  {
   "cell_type": "markdown",
   "id": "bfa975cf-e944-4b7a-a7d0-591b2ca82507",
   "metadata": {},
   "source": [
    "$H = 0.5 * X_0Z_1 + 0.3 * Z_0X_1$"
   ]
  },
  {
   "cell_type": "code",
   "execution_count": null,
   "id": "f5f6589f-56b6-4e61-abc9-8b0ae03ae9e9",
   "metadata": {
    "tags": []
   },
   "outputs": [],
   "source": []
  },
  {
   "cell_type": "markdown",
   "id": "39dd3143-918f-404d-be4e-9103f3e2e638",
   "metadata": {},
   "source": [
    "$H = W_0 \\bar{W}_1$"
   ]
  },
  {
   "cell_type": "code",
   "execution_count": null,
   "id": "0c6eed81-c7b6-42f2-8ec8-170b4e707ace",
   "metadata": {
    "tags": []
   },
   "outputs": [],
   "source": [
    "coeffs_0 = [0.5,-0.5]\n",
    "coeffs_1 = [0.5, 0.5]\n",
    "n_coeffs = [coeffs_0,coeffs_1]\n",
    "\n",
    "terms_0  = [qml.Identity(0),qml.PauliZ(0)]\n",
    "terms_1  = [qml.Identity(1),qml.PauliZ(1)]\n",
    "n_terms  = [terms_0,terms_1]\n",
    "\n",
    "coeffs   = [functools.reduce(lambda x, y: x * y, list(m), 1) for m in itertools.product(*n_coeffs)]\n",
    "terms    = [qml.operation.Tensor(*list(m)).prune() for m in itertools.product(*n_terms)]\n",
    "\n",
    "print(\"n_coeffs = \", n_coeffs)\n",
    "print(\"co-efficients = \", coeffs)\n",
    "print(\"------------------------\")\n",
    "print(\"n_terms = \", *n_terms)\n",
    "print(\"terms = \", *terms) \n",
    "print(\"------------------------\")\n",
    "H = qml.Hamiltonian(coeffs,terms)\n",
    "print('H = ', H)"
   ]
  },
  {
   "cell_type": "markdown",
   "id": "17dfaa36-795e-4812-81a0-36d95cdec918",
   "metadata": {},
   "source": [
    "Try $ H = W_0 \\bar{W}_1 \\bar{W}_2 $"
   ]
  },
  {
   "cell_type": "code",
   "execution_count": null,
   "id": "72ab1bb3-4b00-4bd1-9b06-e997fd888e53",
   "metadata": {},
   "outputs": [],
   "source": []
  },
  {
   "cell_type": "markdown",
   "id": "a22f9e96-1111-47ba-9b22-99c223f06873",
   "metadata": {
    "tags": []
   },
   "source": [
    "###  Notation for clauses"
   ]
  },
  {
   "cell_type": "markdown",
   "id": "f1377a88-7900-4f0e-b5ad-3fd302bd3be3",
   "metadata": {},
   "source": [
    "<ol>\n",
    "<li>Give numbers to each literal starting from 0. </li>\n",
    "<li>Each clause is represented as tuple of two lists.</li>\n",
    "<li>First list contains literals that are not negated in the clause.</li>\n",
    "<li>Second list contains literals that are negated in the clause.</li>\n",
    "<li>If j th clause is (a v b v ~c) it is represented as c_j = ([0,1],[2]).</li>\n",
    "</ol>"
   ]
  },
  {
   "cell_type": "code",
   "execution_count": null,
   "id": "84868930-e9ff-4be2-8846-985f621ca1f3",
   "metadata": {
    "tags": []
   },
   "outputs": [],
   "source": [
    "# Using the notation described above construct the following clauses \n",
    "\n",
    "## Clause 1: a v b v c\n",
    "c_1 = ([0,1,2],[])\n",
    "## Clause 2: ~a v ~b v ~c\n",
    "\n",
    "## Clause 3: ~a v b v c\n",
    "\n",
    "## Clause 4: a v ~b v ~c\n",
    "\n",
    "## Clause 5: a v ~b v c\n",
    "\n",
    "\n",
    "# Now define a list which is a collection of all clauses\n",
    "\n",
    "Clauses = [c_1,c_2,c_3,c_4,c_5]\n"
   ]
  },
  {
   "cell_type": "markdown",
   "id": "91c4a8db-ebbb-4fb1-8b94-7dc713b6eaa2",
   "metadata": {
    "tags": []
   },
   "source": [
    "### Mixer Hamiltonian\n"
   ]
  },
  {
   "cell_type": "markdown",
   "id": "74bd259d-d7e9-4616-94e5-623a2010a89f",
   "metadata": {},
   "source": [
    "$$H_M =  \\sum_i X_i $$\n",
    "where, $i \\in Literals$"
   ]
  },
  {
   "cell_type": "code",
   "execution_count": null,
   "id": "83931aea-4513-44ad-a812-0137c752901f",
   "metadata": {
    "tags": []
   },
   "outputs": [],
   "source": [
    "def mixer_min_sat(clauses,no_of_literals):\n",
    "    \n",
    "    # Create two empty lists named coeffs and terms to store coefficients and terms for the mixer hamiltonian\n",
    "\n",
    "\n",
    "    # For all literals add a PauliX gate to terms list and coefficient of each PauliX is equal to 1\n",
    "\n",
    "\n",
    "\n",
    "    # Return hamiltonian with given Coefficients and terms\n"
   ]
  },
  {
   "cell_type": "code",
   "execution_count": null,
   "id": "7601284e-4982-49f7-b1ba-5c3ee9de204d",
   "metadata": {
    "tags": []
   },
   "outputs": [],
   "source": [
    "# Check if the hamiltonain of mixer is correct or not for constructed clauses\n",
    "print(mixer_min_sat(Clauses,3))\n"
   ]
  },
  {
   "cell_type": "markdown",
   "id": "419a1b7a-e39c-4877-a31a-6954533899bb",
   "metadata": {
    "tags": []
   },
   "source": [
    "### Cost Hamiltonian"
   ]
  },
  {
   "cell_type": "markdown",
   "id": "aea1c7e2-2d8c-4070-90e1-4e39ce91e24b",
   "metadata": {},
   "source": [
    "<ol>\n",
    "    <li> Cost hamiltonian contains sum of cost of each clause. </li>\n",
    "    <li> Each clause cost is either 1 or 0 depending on wether the clause is satisfied or not respectively.</li>\n",
    "    <li> As mentioned above each clause is represented by a tuple with two lists. First list contains the terms which are not negated and second list contains the terms which are negated.</li>\n",
    "    <li> Each clause contributes a product which contains product of $\\bar{W} = \\ket{0}\\bra{0}$ for terms in first list and $W = \\ket{1}\\bra{1}$ for terms in second list. </li>\n",
    "    <li> For clause  c_j = (p,q) where p represents list of literals that are not negated and q represents the list of literals that are negated the cost is given by $$Cost_j = \\prod_p \\bar{W}_p \\prod_q W_q$$ </li>\n",
    "    <li> Total cost hamiltonian is given by $$H_c = - \\sum_j Cost_j$$ </li>\n",
    "    \n",
    "$$\\newcommand{\\ket}[1]{\\left|{#1}\\right\\rangle}$$\n",
    "$$\\newcommand{\\bra}[1]{\\left\\langle{#1}\\right|}$$\n",
    "        "
   ]
  },
  {
   "cell_type": "code",
   "execution_count": null,
   "id": "4ae451dc-944c-420c-980e-4e357d08645f",
   "metadata": {
    "tags": []
   },
   "outputs": [],
   "source": [
    "def cost_min_sat(clauses,no_of_literals):\n",
    "    # Create two empty lists called coeffs and terms to store co-efficients and terms for the cost hamiltonian\n",
    "\n",
    "    \n",
    "    # Iterate over each clause in the list clauses\n",
    "\n",
    "        # Create two empty lists called n_coeffs and n_terms to store co-efficients and terms of each clause's cost function\n",
    "\n",
    "\n",
    "        # Add \\bar{W} terms to n_coeffs and n_terms for literals in first list \n",
    "\n",
    "\n",
    "\n",
    "        # Add W terms to n_coeffs and n_terms for literals in second list \n",
    "\n",
    "\n",
    "\n",
    "        # Compute the product of all \\bar{W} and W terms in lists n_coeffs and n_terms\n",
    "        # Store them in two new lists called final_coeffs and final_terms\n",
    "\n",
    "\n",
    "        # Add the two new lists final_coeffs and final_terms to our coeffs and terms lists\n",
    "\n",
    "\n",
    "    # Return the hamiltonain with coeffs and terms\n"
   ]
  },
  {
   "cell_type": "code",
   "execution_count": null,
   "id": "41a4c55b-f598-4d06-acd2-f92667f0476a",
   "metadata": {
    "tags": []
   },
   "outputs": [],
   "source": [
    "# Check if the hamiltonain of cost is correct or not for constructed clauses\n",
    "\n"
   ]
  },
  {
   "cell_type": "markdown",
   "id": "941bd138-1ba7-410d-9d9b-5315fbd8cfdb",
   "metadata": {
    "tags": []
   },
   "source": [
    "### QAOA"
   ]
  },
  {
   "cell_type": "markdown",
   "id": "a02fdbdc-fec6-47d5-83cf-9c07d38d7bcd",
   "metadata": {
    "tags": []
   },
   "source": [
    "Start State:$$ \\ket{s} = 1/\\sqrt{N} \\sum_i \\ket{i}$$"
   ]
  },
  {
   "cell_type": "code",
   "execution_count": null,
   "id": "a9e2093a-f42b-4e50-bd94-b8ff5c192389",
   "metadata": {},
   "outputs": [],
   "source": [
    "cost = cost_min_stat(Clauses,no_of_literals)\n",
    "mixer = mixer_min_stat(Clauses,no_of_literals)\n",
    "\n",
    "def qaoa_layer(gamma, beta):\n",
    "    qaoa.cost_layer(gamma, cost)\n",
    "    qaoa.mixer_layer(beta, mixer)\n",
    "\n",
    "wires = range(no_of_literals)\n",
    "depth = 1\n",
    "\n",
    "def circuit(params, **kwargs):\n",
    "    for w in wires:\n",
    "        qml.Hadamard(wires=w)\n",
    "    qml.layer(qaoa_layer, depth, params[0],params[1])\n",
    "\n",
    "dev = qml.device(\"default.qubit\", wires=wires)\n",
    "\n",
    "@qml.qnode(dev)\n",
    "def cost_function(params):\n",
    "    circuit(params)\n",
    "    return qml.expval(cost)\n",
    "\n",
    "\n",
    "def exp_values(cost_h,mixer_h):\n",
    "    bet   = np.arange(0,2*np.pi,0.01)\n",
    "    gam   = np.linspace(1,1,np.size(bet))\n",
    "    res   = []\n",
    "    for i in range(np.size(bet)):\n",
    "        params = np.array([[gam[i]],[bet[i]]])\n",
    "        res   += [cost_function(params)]\n",
    "    return res"
   ]
  },
  {
   "cell_type": "code",
   "execution_count": null,
   "id": "16471477-4b3a-4381-aa6b-37c480dcbbd4",
   "metadata": {},
   "outputs": [],
   "source": []
  },
  {
   "cell_type": "code",
   "execution_count": null,
   "id": "b29a92a3-bf0f-408e-abe7-6e2bff90de88",
   "metadata": {
    "tags": []
   },
   "outputs": [],
   "source": [
    "dev = qml.device(\"default.qubit\", wires=wires)\n",
    "\n",
    "@qml.qnode(dev)\n",
    "def cost_function(params):\n",
    "    circuit(params)\n",
    "    return qml.expval(cost)"
   ]
  },
  {
   "cell_type": "code",
   "execution_count": null,
   "id": "395721e0-8903-45a6-84e2-97348bf24820",
   "metadata": {
    "tags": []
   },
   "outputs": [],
   "source": [
    "optimizer = qml.GradientDescentOptimizer()\n",
    "steps = 100\n",
    "params = np.array([[1], [1]], requires_grad=True)"
   ]
  },
  {
   "cell_type": "code",
   "execution_count": null,
   "id": "de942b89-3c8b-4f86-afc8-bf5feded8f4e",
   "metadata": {
    "tags": []
   },
   "outputs": [],
   "source": [
    "for i in range(steps):\n",
    "    params = optimizer.step(cost_function, params)\n",
    "\n",
    "print(\"Optimal Parameters\")\n",
    "print(params)"
   ]
  },
  {
   "cell_type": "code",
   "execution_count": null,
   "id": "4e4d4e03-e532-47ac-a995-b45dc87e7ff8",
   "metadata": {
    "tags": []
   },
   "outputs": [],
   "source": [
    "@qml.qnode(dev)\n",
    "def probability_circuit(gamma, alpha):\n",
    "    circuit([gamma, alpha])\n",
    "    return qml.probs(wires=wires)\n",
    "\n",
    "\n",
    "probs = probability_circuit(params[0], params[1])"
   ]
  },
  {
   "cell_type": "code",
   "execution_count": null,
   "id": "dd513bf7-bbaa-48e4-a65c-faa7f383b5a3",
   "metadata": {
    "tags": []
   },
   "outputs": [],
   "source": [
    "\n",
    "plt.bar(range(2 ** len(wires)), probs)\n",
    "plt.show()\n"
   ]
  }
 ],
 "metadata": {
  "kernelspec": {
   "display_name": "Python 3 (ipykernel)",
   "language": "python",
   "name": "python3"
  },
  "language_info": {
   "codemirror_mode": {
    "name": "ipython",
    "version": 3
   },
   "file_extension": ".py",
   "mimetype": "text/x-python",
   "name": "python",
   "nbconvert_exporter": "python",
   "pygments_lexer": "ipython3",
   "version": "3.11.2"
  }
 },
 "nbformat": 4,
 "nbformat_minor": 5
}
