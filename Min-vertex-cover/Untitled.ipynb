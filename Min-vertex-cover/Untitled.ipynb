{
 "cells": [
  {
   "cell_type": "code",
   "execution_count": 1,
   "id": "6e4cf067-acb1-4223-8c0d-8981f04ab51d",
   "metadata": {
    "tags": []
   },
   "outputs": [],
   "source": [
    "import Min_vertex_cover as mvc\n",
    "import networkx as nx\n",
    "import rustworkx as rx\n",
    "import csv\n",
    "import tensorflow as tf\n",
    "import matplotlib.pyplot as plt\n",
    "\n",
    "import pennylane as qml\n",
    "from pennylane.wires import Wires\n",
    "from pennylane import numpy as np\n",
    "from pennylane import qaoa"
   ]
  },
  {
   "cell_type": "code",
   "execution_count": 2,
   "id": "f7fc5d7c-68d0-41e3-a2e8-14443ed20544",
   "metadata": {
    "tags": []
   },
   "outputs": [],
   "source": [
    "edges = [(0, 1), (1, 2),(2,3),(3,4)]\n",
    "graph = nx.Graph(edges)"
   ]
  },
  {
   "cell_type": "code",
   "execution_count": 3,
   "id": "fd2222f5-506f-4b61-9761-f91441943c42",
   "metadata": {
    "tags": []
   },
   "outputs": [
    {
     "name": "stdout",
     "output_type": "stream",
     "text": [
      "  (0.25) [X1]\n",
      "+ (0.25) [X2]\n",
      "+ (0.25) [X3]\n",
      "+ (0.5) [X0]\n",
      "+ (0.5) [X4]\n",
      "+ (-0.5) [X0 Z1]\n",
      "+ (-0.5) [X4 Z3]\n",
      "+ (-0.25) [X1 Z2]\n",
      "+ (-0.25) [X1 Z0]\n",
      "+ (-0.25) [X2 Z3]\n",
      "+ (-0.25) [X2 Z1]\n",
      "+ (-0.25) [X3 Z4]\n",
      "+ (-0.25) [X3 Z2]\n",
      "+ (0.25) [X1 Z0 Z2]\n",
      "+ (0.25) [X2 Z1 Z3]\n",
      "+ (0.25) [X3 Z2 Z4]\n"
     ]
    }
   ],
   "source": [
    "print(mvc.bit_flip_mixer(graph,1))"
   ]
  },
  {
   "cell_type": "code",
   "execution_count": 4,
   "id": "ee30a978-a8c6-4fc5-9337-d6e93f44dee1",
   "metadata": {
    "tags": []
   },
   "outputs": [
    {
     "name": "stdout",
     "output_type": "stream",
     "text": [
      "  (-1j) [Y0]\n",
      "+ (-0.5j) [Y1]\n",
      "+ (-0.5j) [Y2]\n",
      "+ (-0.5j) [Y3]\n",
      "+ (-1j) [Y4]\n",
      "+ (1j) [Y0 Z1]\n",
      "+ (0.5j) [Y1 Z2]\n",
      "+ (0.5j) [Y1 Z0]\n",
      "+ (0.5j) [Y2 Z3]\n",
      "+ (0.5j) [Y2 Z1]\n",
      "+ (0.5j) [Y3 Z4]\n",
      "+ (0.5j) [Y3 Z2]\n",
      "+ (1j) [Y4 Z3]\n",
      "+ (-0.5j) [Y1 Z0 Z2]\n",
      "+ (-0.5j) [Y2 Z1 Z3]\n",
      "+ (-0.5j) [Y3 Z2 Z4]\n"
     ]
    }
   ],
   "source": [
    "print(mvc.commutation_of_mixer_cost(graph))"
   ]
  },
  {
   "cell_type": "code",
   "execution_count": 19,
   "id": "3cd32fc3-7707-4077-b6ff-7c405be5245b",
   "metadata": {
    "tags": []
   },
   "outputs": [],
   "source": [
    "x = np.array([[0,1],[1,0]])\n",
    "w = np.array([[0,0],[0,1]])"
   ]
  },
  {
   "cell_type": "code",
   "execution_count": 23,
   "id": "f97a2013-627e-4c53-ae25-07fae34fbddb",
   "metadata": {
    "tags": []
   },
   "outputs": [],
   "source": [
    "x0 = np.kron(x,np.kron(w,np.kron(w,w)))\n",
    "x1 = np.kron(w,np.kron(w,np.kron(w,w)))\n",
    "x2 = np.kron(w,np.kron(w,np.kron(x,w)))\n",
    "x3 = np.kron(w,np.kron(w,np.kron(w,x)))"
   ]
  },
  {
   "cell_type": "code",
   "execution_count": 25,
   "id": "a482202c-3c2c-4fcc-9938-79083f39e122",
   "metadata": {
    "tags": []
   },
   "outputs": [
    {
     "data": {
      "text/plain": [
       "tensor([[0, 0, 0, 0, 0, 0, 0, 0, 0, 0, 0, 0, 0, 0, 0, 0],\n",
       "        [0, 0, 0, 0, 0, 0, 0, 0, 0, 0, 0, 0, 0, 0, 0, 0],\n",
       "        [0, 0, 0, 0, 0, 0, 0, 0, 0, 0, 0, 0, 0, 0, 0, 0],\n",
       "        [0, 0, 0, 0, 0, 0, 0, 0, 0, 0, 0, 0, 0, 0, 0, 0],\n",
       "        [0, 0, 0, 0, 0, 0, 0, 0, 0, 0, 0, 0, 0, 0, 0, 0],\n",
       "        [0, 0, 0, 0, 0, 0, 0, 0, 0, 0, 0, 0, 0, 0, 0, 0],\n",
       "        [0, 0, 0, 0, 0, 0, 0, 0, 0, 0, 0, 0, 0, 0, 0, 0],\n",
       "        [0, 0, 0, 0, 0, 0, 0, 0, 0, 0, 0, 0, 0, 0, 0, 1],\n",
       "        [0, 0, 0, 0, 0, 0, 0, 0, 0, 0, 0, 0, 0, 0, 0, 0],\n",
       "        [0, 0, 0, 0, 0, 0, 0, 0, 0, 0, 0, 0, 0, 0, 0, 0],\n",
       "        [0, 0, 0, 0, 0, 0, 0, 0, 0, 0, 0, 0, 0, 0, 0, 0],\n",
       "        [0, 0, 0, 0, 0, 0, 0, 0, 0, 0, 0, 0, 0, 0, 0, 0],\n",
       "        [0, 0, 0, 0, 0, 0, 0, 0, 0, 0, 0, 0, 0, 0, 0, 0],\n",
       "        [0, 0, 0, 0, 0, 0, 0, 0, 0, 0, 0, 0, 0, 0, 0, 1],\n",
       "        [0, 0, 0, 0, 0, 0, 0, 0, 0, 0, 0, 0, 0, 0, 0, 1],\n",
       "        [0, 0, 0, 0, 0, 0, 0, 1, 0, 0, 0, 0, 0, 1, 1, 1]], requires_grad=True)"
      ]
     },
     "execution_count": 25,
     "metadata": {},
     "output_type": "execute_result"
    }
   ],
   "source": [
    "x0+x1+x2+x3"
   ]
  },
  {
   "cell_type": "code",
   "execution_count": null,
   "id": "d1a4b7e9-b041-475f-9549-56d16fde9ae3",
   "metadata": {},
   "outputs": [],
   "source": []
  }
 ],
 "metadata": {
  "kernelspec": {
   "display_name": "Python 3 (ipykernel)",
   "language": "python",
   "name": "python3"
  },
  "language_info": {
   "codemirror_mode": {
    "name": "ipython",
    "version": 3
   },
   "file_extension": ".py",
   "mimetype": "text/x-python",
   "name": "python",
   "nbconvert_exporter": "python",
   "pygments_lexer": "ipython3",
   "version": "3.11.2"
  }
 },
 "nbformat": 4,
 "nbformat_minor": 5
}
