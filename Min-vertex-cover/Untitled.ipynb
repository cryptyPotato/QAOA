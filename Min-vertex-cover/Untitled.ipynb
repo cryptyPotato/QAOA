{
 "cells": [
  {
   "cell_type": "code",
   "execution_count": null,
   "id": "cca2aa37-9bf7-4a6d-9842-46e87ebad068",
   "metadata": {},
   "outputs": [],
   "source": []
  },
  {
   "cell_type": "code",
   "execution_count": 1,
   "id": "053f74be-ee93-4ae3-a6e3-af6904581a82",
   "metadata": {
    "tags": []
   },
   "outputs": [],
   "source": [
    "import Min_vertex_cover as mvc\n",
    "import networkx as nx\n",
    "import rustworkx as rx\n",
    "import csv\n",
    "import tensorflow as tf\n",
    "import matplotlib.pyplot as plt\n",
    "\n",
    "import pennylane as qml\n",
    "from pennylane.wires import Wires\n",
    "from pennylane import numpy as np\n",
    "from pennylane import qaoa\n"
   ]
  },
  {
   "cell_type": "code",
   "execution_count": 2,
   "id": "6e0c31f1-8cf2-4150-93d6-b35b83f288ef",
   "metadata": {
    "tags": []
   },
   "outputs": [],
   "source": [
    "edges = [(0,i) for i in range(1,4)]\n",
    "graph = nx.Graph(edges)\n"
   ]
  },
  {
   "cell_type": "code",
   "execution_count": 51,
   "id": "35537a8b-501b-4b62-916a-4c86e19183b5",
   "metadata": {},
   "outputs": [],
   "source": [
    "cost = mvc.cost_h(graph,1)\n",
    "mixer = mvc.bit_flip_mixer_2(graph,1)\n",
    "def qaoa_layer(gamma, beta):\n",
    "    qaoa.cost_layer(gamma, cost)\n",
    "    qaoa.mixer_layer(beta, mixer)\n",
    "\n",
    "wires = (graph.nodes())\n",
    "depth = 2\n",
    "\n",
    "def circuit(params, **kwargs):\n",
    "    qml.PauliX(wires=0)\n",
    "    \n",
    "    #qml.RY(2*np.arccos(1/np.sqrt(3)),wires=1)\n",
    "    #qml.ctrl(qml.Hadamard, control=1)(wires=2)\n",
    "    #qml.ctrl(qml.PauliX, control=2)(wires=3)\n",
    "    #qml.ctrl(qml.PauliX, control=1)(wires=2)\n",
    "    qml.PauliX(wires = 1)\n",
    "    \n",
    "    qml.layer(qaoa_layer, depth, params[0],params[1])\n",
    "\n",
    "dev = qml.device(\"default.qubit\", wires=wires)\n",
    "\n",
    "@qml.qnode(dev)\n",
    "def cost_function(params):\n",
    "    circuit(params)\n",
    "    return qml.expval(cost_h)\n",
    "\n",
    "\n",
    "def exp_values(cost_h,mixer_h):\n",
    "    bet   = np.arange(0,2*np.pi,0.01)\n",
    "    gam   = np.linspace(1,1,np.size(bet))\n",
    "    res   = []\n",
    "    for i in range(np.size(bet)):\n",
    "        params = np.array([[gam[i]],[bet[i]]])\n",
    "        res   += [cost_function(params)]\n",
    "    return res"
   ]
  },
  {
   "cell_type": "code",
   "execution_count": 52,
   "id": "1c0a098c-262d-448a-a372-969c571cc585",
   "metadata": {
    "tags": []
   },
   "outputs": [],
   "source": [
    "dev = qml.device(\"default.qubit\", wires=wires)\n",
    "\n",
    "@qml.qnode(dev)\n",
    "def cost_function(params):\n",
    "    circuit(params)\n",
    "    return qml.expval(cost)"
   ]
  },
  {
   "cell_type": "code",
   "execution_count": 53,
   "id": "49b739b9-7a1c-4f98-abfd-c990b8deedb5",
   "metadata": {
    "tags": []
   },
   "outputs": [],
   "source": [
    "#optimizer = qml.GradientDescentOptimizer()\n",
    "optimizer = qml.AdagradOptimizer()\n",
    "steps = 100\n",
    "#params = np.array([[0.5], []], requires_grad=True)\n",
    "params = np.array([[0.5,0.5],[6,6]],requires_grad=True)"
   ]
  },
  {
   "cell_type": "code",
   "execution_count": 54,
   "id": "d9f4e606-2664-48ee-81e2-f9d091641f62",
   "metadata": {
    "tags": []
   },
   "outputs": [
    {
     "name": "stdout",
     "output_type": "stream",
     "text": [
      "Optimal Parameters\n",
      "[[0.5        0.65179063]\n",
      " [6.00596624 5.94114312]]\n"
     ]
    }
   ],
   "source": [
    "for i in range(steps):\n",
    "    params = optimizer.step(cost_function, params)\n",
    "\n",
    "print(\"Optimal Parameters\")\n",
    "print(params)\n",
    "#params = np.array([[0.5],[3.6144076014544777]],requires_grad=True)"
   ]
  },
  {
   "cell_type": "code",
   "execution_count": 55,
   "id": "5bd106d7-f84f-491b-a073-646f4cd6a7d3",
   "metadata": {
    "tags": []
   },
   "outputs": [],
   "source": [
    "@qml.qnode(dev)\n",
    "def probability_circuit(gamma, alpha):\n",
    "    circuit([gamma, alpha])\n",
    "    return qml.probs(wires=wires)\n",
    "\n",
    "\n",
    "probs = probability_circuit(params[0], params[1])"
   ]
  },
  {
   "cell_type": "code",
   "execution_count": 56,
   "id": "c6258706-a5cc-4436-80c5-8f5651d23fff",
   "metadata": {
    "tags": []
   },
   "outputs": [
    {
     "data": {
      "image/png": "[encoded data removed]",
      "text/plain": [
       "<Figure size 640x480 with 1 Axes>"
      ]
     },
     "metadata": {},
     "output_type": "display_data"
    }
   ],
   "source": [
    "import matplotlib.pyplot as plt\n",
    "plt.bar(range(2 ** len(wires)), probs)\n",
    "plt.show()\n"
   ]
  },
  {
   "cell_type": "code",
   "execution_count": 26,
   "id": "3723a5f0-9a84-4f01-ad83-a8a6bd342e58",
   "metadata": {
    "tags": []
   },
   "outputs": [
    {
     "data": {
      "text/plain": [
       "(array([12]),)"
      ]
     },
     "execution_count": 26,
     "metadata": {},
     "output_type": "execute_result"
    }
   ],
   "source": [
    "np.where(probs == max(probs))"
   ]
  },
  {
   "cell_type": "code",
   "execution_count": 14,
   "id": "802ce93e-1923-4294-9544-fbfcc1b573ba",
   "metadata": {
    "tags": []
   },
   "outputs": [
    {
     "data": {
      "text/plain": [
       "tensor(0.99974179, requires_grad=True)"
      ]
     },
     "execution_count": 14,
     "metadata": {},
     "output_type": "execute_result"
    }
   ],
   "source": [
    "max(probs)"
   ]
  },
  {
   "cell_type": "code",
   "execution_count": null,
   "id": "6a0875b4-487c-4243-a28f-b4d9003ba023",
   "metadata": {},
   "outputs": [],
   "source": []
  },
  {
   "cell_type": "code",
   "execution_count": 15,
   "id": "87d2cf5e-e648-4408-942e-bf6d2c49a325",
   "metadata": {
    "tags": []
   },
   "outputs": [],
   "source": [
    "def qaoa_layer(gamma, beta):\n",
    "    qaoa.cost_layer(gamma, cost_h)\n",
    "    qaoa.mixer_layer(beta, mixer_h)\n",
    "\n",
    "wires = range(len(graph.nodes()))\n",
    "depth = 2\n",
    "\n",
    "def circuit(params, **kwargs):\n",
    "\n",
    "    qml.PauliX(wires=0)\n",
    "    qml.PauliX(wires = 1)\n",
    "    qml.layer(qaoa_layer, depth, params[0],params[1])\n",
    "\n",
    "dev = qml.device(\"default.qubit\", wires=wires)\n",
    "\n",
    "@qml.qnode(dev)\n",
    "def cost_function(params):\n",
    "    circuit(params)\n",
    "    return qml.expval(cost_h)\n",
    "\n",
    "\n",
    "def exp_values(cost_h,mixer_h):\n",
    "    bet   = np.arange(0,2*np.pi,0.01)\n",
    "    gam   = np.linspace(1,1,np.size(bet))\n",
    "    res   = []\n",
    "    for i in range(np.size(bet)):\n",
    "        params = np.array([[gam[i]],[bet[i]]])\n",
    "        res   += [cost_function(params)]\n",
    "    return res"
   ]
  },
  {
   "cell_type": "code",
   "execution_count": 16,
   "id": "4a5f343d-e714-42ab-95ab-59058255dea2",
   "metadata": {
    "tags": []
   },
   "outputs": [],
   "source": [
    "cost_h = mvc.cost_h(graph,1)\n",
    "\n",
    "mixer_h_1 = mvc.bit_flip_mixer(graph,1)\n",
    "mixer_h = mixer_h_1\n",
    "exp_value_1 = exp_values(cost_h,mixer_h_1)"
   ]
  },
  {
   "cell_type": "code",
   "execution_count": 18,
   "id": "0dadb287-ec26-4bc9-883f-cc35ad6fb93f",
   "metadata": {
    "tags": []
   },
   "outputs": [],
   "source": [
    "off_set = len(graph.nodes())/2\n",
    "c = []\n",
    "for a in exp_value_1:\n",
    "    c += [a.numpy()]\n",
    "c = np.array(c)\n",
    "c = c/2+off_set\n",
    "\n"
   ]
  },
  {
   "cell_type": "code",
   "execution_count": 19,
   "id": "0cf0b42a-baef-4574-9022-d3ad699dadbb",
   "metadata": {
    "tags": []
   },
   "outputs": [
    {
     "data": {
      "image/png": "[encoded data removed]",
      "text/plain": [
       "<Figure size 640x480 with 1 Axes>"
      ]
     },
     "metadata": {},
     "output_type": "display_data"
    }
   ],
   "source": [
    "import matplotlib.pyplot as plt\n",
    "bet   = np.arange(0,2*np.pi,0.01)\n",
    "plt.plot(bet,c,'r',label = 'H_M1')\n",
    "#plt.plot(bet,d,'b',label = 'H_M2')\n",
    "#plt.plot(bet,e,'g',label = 'H_M3')\n",
    "plt.plot(bet,np.linspace(np.mean(c),np.mean(c),np.size(bet)),'r')\n",
    "#plt.plot(bet,np.linspace(np.mean(d),np.mean(d),np.size(bet)),'b')\n",
    "#plt.plot(bet,np.linspace(np.mean(e),np.mean(e),np.size(bet)),'g')\n",
    "plt.xlabel('beta')\n",
    "plt.ylabel('F(beta)')\n",
    "plt.title(f'F(beta) vs beta for graph P_{int(2*off_set)} graph')\n",
    "plt.legend()\n",
    "plt.savefig(f'Results/Path-{int(2*off_set)}.png')\n",
    "plt.show()"
   ]
  },
  {
   "cell_type": "code",
   "execution_count": null,
   "id": "af444dc5-31ef-4fa4-856a-2aae81ef86b7",
   "metadata": {},
   "outputs": [],
   "source": []
  },
  {
   "cell_type": "code",
   "execution_count": 28,
   "id": "85f97766-d587-4924-89b3-ccaf95d9a1da",
   "metadata": {
    "tags": []
   },
   "outputs": [],
   "source": [
    "w = np.array([[0,0],[0,1]])\n",
    "x = np.array([[0,1],[1,0]])\n",
    "i = np.array([[1,0],[0,1]])\n",
    "def te(a,b,c,d):\n",
    "    return np.kron(a,np.kron(b,np.kron(c,d)))"
   ]
  },
  {
   "cell_type": "code",
   "execution_count": 86,
   "id": "6017238c-decf-4a46-b185-c0e5857fa852",
   "metadata": {
    "tags": []
   },
   "outputs": [],
   "source": [
    "m = te(x,w,w,w)+te(w,x,i,i)+te(w,i,x,i)+te(w,i,i,x)"
   ]
  },
  {
   "cell_type": "code",
   "execution_count": 87,
   "id": "5ffd7113-1db4-4789-84c5-07cb5399da16",
   "metadata": {
    "tags": []
   },
   "outputs": [
    {
     "ename": "AttributeError",
     "evalue": "'tensor' object has no attribute 'diagonalize'",
     "output_type": "error",
     "traceback": [
      "\u001b[0;31m---------------------------------------------------------------------------\u001b[0m",
      "\u001b[0;31mAttributeError\u001b[0m                            Traceback (most recent call last)",
      "Cell \u001b[0;32mIn[87], line 1\u001b[0m\n\u001b[0;32m----> 1\u001b[0m (p,d)\u001b[38;5;241m=\u001b[39m\u001b[43mm\u001b[49m\u001b[38;5;241;43m.\u001b[39;49m\u001b[43mdiagonalize\u001b[49m()\n",
      "\u001b[0;31mAttributeError\u001b[0m: 'tensor' object has no attribute 'diagonalize'"
     ]
    }
   ],
   "source": [
    "(p,d)=m.diagonalize()"
   ]
  },
  {
   "cell_type": "code",
   "execution_count": null,
   "id": "c709dbf3-6831-4b9c-87f7-d21d1cbaf4d5",
   "metadata": {},
   "outputs": [],
   "source": [
    "from sympy import symbols"
   ]
  },
  {
   "cell_type": "code",
   "execution_count": null,
   "id": "5e22c495-ddc3-429c-864d-00a4e383595c",
   "metadata": {},
   "outputs": [],
   "source": [
    "from sympy.interactive.printing import init_printing"
   ]
  },
  {
   "cell_type": "code",
   "execution_count": null,
   "id": "db61b0d6-0920-4b8f-ba22-daf66a61a31d",
   "metadata": {},
   "outputs": [],
   "source": [
    "from sympy.matrices import Matrix, eye, zeros, ones, diag, GramSchmidt"
   ]
  },
  {
   "cell_type": "code",
   "execution_count": null,
   "id": "a825974a-34b0-4b6f-b874-86519b18d9cf",
   "metadata": {},
   "outputs": [],
   "source": [
    "w = Matrix([[0,0],[0,1]])\n",
    "x = Matrix([[0,1],[1,0]])\n",
    "i = Matrix([[1,0],[0,1]])\n",
    "def te(a,b,c,d):\n",
    "    return np.kron(a,np.kron(b,np.kron(c,d)))"
   ]
  },
  {
   "cell_type": "code",
   "execution_count": null,
   "id": "3d199038-4eb8-4e07-a852-9cefd8507a63",
   "metadata": {},
   "outputs": [],
   "source": [
    "from sympy import KroneckerProduct as kp"
   ]
  },
  {
   "cell_type": "code",
   "execution_count": null,
   "id": "af35a25a-c943-4f9d-955c-65ead8c88621",
   "metadata": {},
   "outputs": [],
   "source": [
    "from sympy.physics.quantum import TensorProduct as tp"
   ]
  },
  {
   "cell_type": "code",
   "execution_count": null,
   "id": "6a574d22-27ba-4ec0-8678-6417660bae8c",
   "metadata": {},
   "outputs": [],
   "source": [
    "def tc(a,b,c,d):\n",
    "    return tp(a,tp(b,tp(c,d)))"
   ]
  },
  {
   "cell_type": "code",
   "execution_count": null,
   "id": "4727a6fd-ea91-45f7-a148-65e8579d1209",
   "metadata": {},
   "outputs": [],
   "source": [
    "H = tc(x,w,w,w)+tc(w,x,i,i) + tc(w,i,x,i) + tc(w,i,i,x)"
   ]
  },
  {
   "cell_type": "code",
   "execution_count": null,
   "id": "a8c6608c-c4f3-4795-91d4-3dfabd709efc",
   "metadata": {},
   "outputs": [],
   "source": [
    "(P,d)=H.diagonalize()"
   ]
  },
  {
   "cell_type": "code",
   "execution_count": null,
   "id": "e0865986-9605-4e7a-a21e-00d8ee4cc137",
   "metadata": {},
   "outputs": [],
   "source": [
    "from sympy import exp,simplify"
   ]
  },
  {
   "cell_type": "code",
   "execution_count": null,
   "id": "c60e4758-4736-4fb6-8e02-adec6baf930b",
   "metadata": {},
   "outputs": [],
   "source": [
    "beta = symbols('beta')\n",
    "Adagger = simplify(exp(1j*beta*diag(H)))"
   ]
  },
  {
   "cell_type": "code",
   "execution_count": null,
   "id": "0b399b49-ed42-4fb9-bcd6-89443caf2bf5",
   "metadata": {},
   "outputs": [],
   "source": [
    "A = simplify(exp(-1j*beta*diag(H)))"
   ]
  },
  {
   "cell_type": "code",
   "execution_count": null,
   "id": "03c4fcf2-8315-41b4-988d-1c82546f87a8",
   "metadata": {},
   "outputs": [],
   "source": [
    "z = i - 2*w\n",
    "Z = tc(z,i,i,i)+tc(i,z,i,i)+tc(i,i,z,i)+tc(i,i,i,z)"
   ]
  },
  {
   "cell_type": "code",
   "execution_count": null,
   "id": "59103d7b-1858-4ff2-836c-eda3fc810df9",
   "metadata": {},
   "outputs": [],
   "source": [
    "P*Adagger*P.inv()*Z*P*A*P.inv()"
   ]
  },
  {
   "cell_type": "code",
   "execution_count": null,
   "id": "81386592-bbe0-4e76-9f41-349ab77f68b2",
   "metadata": {},
   "outputs": [],
   "source": []
  }
 ],
 "metadata": {
  "kernelspec": {
   "display_name": "Python 3 (ipykernel)",
   "language": "python",
   "name": "python3"
  },
  "language_info": {
   "codemirror_mode": {
    "name": "ipython",
    "version": 3
   },
   "file_extension": ".py",
   "mimetype": "text/x-python",
   "name": "python",
   "nbconvert_exporter": "python",
   "pygments_lexer": "ipython3",
   "version": "3.11.4"
  }
 },
 "nbformat": 4,
 "nbformat_minor": 5
}
