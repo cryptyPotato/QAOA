{
 "cells": [
  {
   "cell_type": "code",
   "execution_count": 1,
   "id": "6120ec0f-0dcb-4b0b-abf3-0fa3611510b5",
   "metadata": {
    "tags": []
   },
   "outputs": [],
   "source": [
    "import Min_vertex_cover as mvc\n",
    "import networkx as nx\n",
    "import rustworkx as rx\n",
    "import csv\n",
    "import tensorflow as tf\n",
    "\n",
    "\n",
    "import pennylane as qml\n",
    "from pennylane.wires import Wires\n",
    "from pennylane import numpy as np\n",
    "from pennylane import qaoa\n"
   ]
  },
  {
   "cell_type": "code",
   "execution_count": 6,
   "id": "9c6f0c14-271f-41c9-a48c-50754b25e074",
   "metadata": {
    "tags": []
   },
   "outputs": [
    {
     "data": {
      "image/png": "[encoded data removed]",
      "text/plain": [
       "<Figure size 640x480 with 1 Axes>"
      ]
     },
     "metadata": {},
     "output_type": "display_data"
    }
   ],
   "source": [
    "edges = [(0,i) for i in range(1,4)]#,(2,3),(3,4)]\n",
    "graph = nx.Graph(edges)\n",
    "nx.draw(graph, with_labels=True)"
   ]
  },
  {
   "cell_type": "code",
   "execution_count": 7,
   "id": "9c3efcff-210a-405c-94a2-0045634135ec",
   "metadata": {
    "tags": []
   },
   "outputs": [],
   "source": [
    "def qaoa_layer(gamma, beta):\n",
    "    qaoa.cost_layer(gamma, cost_h)\n",
    "    qaoa.mixer_layer(beta, mixer_h)\n",
    "\n",
    "wires = range(len(graph.nodes()))\n",
    "depth = 1\n",
    "\n",
    "def circuit(params, **kwargs):\n",
    "    for w in wires:\n",
    "        qml.PauliX(wires=w)\n",
    "    qml.layer(qaoa_layer, depth, params[0],params[1])\n",
    "\n",
    "dev = qml.device(\"default.qubit\", wires=wires)\n",
    "\n",
    "@qml.qnode(dev)\n",
    "def cost_function(params):\n",
    "    circuit(params)\n",
    "    return qml.expval(cost_h)\n",
    "\n",
    "\n",
    "def exp_values(cost_h,mixer_h):\n",
    "    bet   = np.arange(0,2*np.pi,0.01)\n",
    "    gam   = np.linspace(1,1,np.size(bet))\n",
    "    res   = []\n",
    "    for i in range(np.size(bet)):\n",
    "        params = np.array([[gam[i]],[bet[i]]])\n",
    "        res   += [cost_function(params)]\n",
    "    return res"
   ]
  },
  {
   "cell_type": "code",
   "execution_count": 4,
   "id": "f7afdec0-917d-4e3d-ada2-0a53cb6f58ba",
   "metadata": {
    "tags": []
   },
   "outputs": [],
   "source": [
    "cost_h = mvc.cost_h(graph,1)\n",
    "\n",
    "mixer_h_1 = mvc.bit_flip_mixer(graph,1)\n",
    "mixer_h = mixer_h_1\n",
    "exp_value_1 = exp_values(cost_h,mixer_h_1)"
   ]
  },
  {
   "cell_type": "code",
   "execution_count": 9,
   "id": "338b8fb4-a385-4feb-a4ca-42ded69be994",
   "metadata": {
    "tags": []
   },
   "outputs": [],
   "source": [
    "cost_h = mvc.cost_h(graph,1)\n",
    "mixer_h_2 = mvc.bit_flip_mixer_2(graph,1)\n",
    "mixer_h = mixer_h_2\n",
    "exp_value_2 = exp_values(cost_h,mixer_h_2)"
   ]
  },
  {
   "cell_type": "code",
   "execution_count": 5,
   "id": "aede8f66-da90-4dc8-a4e9-46c2df183781",
   "metadata": {
    "collapsed": true,
    "jupyter": {
     "outputs_hidden": true
    },
    "tags": []
   },
   "outputs": [
    {
     "ename": "KeyboardInterrupt",
     "evalue": "",
     "output_type": "error",
     "traceback": [
      "\u001b[0;31m---------------------------------------------------------------------------\u001b[0m",
      "\u001b[0;31mKeyboardInterrupt\u001b[0m                         Traceback (most recent call last)",
      "Cell \u001b[0;32mIn[5], line 5\u001b[0m\n\u001b[1;32m      3\u001b[0m mixer_h_1 \u001b[38;5;241m=\u001b[39m mvc\u001b[38;5;241m.\u001b[39mbit_flip_mixer(graph,\u001b[38;5;241m1\u001b[39m)\n\u001b[1;32m      4\u001b[0m mixer_h \u001b[38;5;241m=\u001b[39m mixer_h_1\n\u001b[0;32m----> 5\u001b[0m exp_value_1 \u001b[38;5;241m=\u001b[39m \u001b[43mexp_values\u001b[49m\u001b[43m(\u001b[49m\u001b[43mcost_h\u001b[49m\u001b[43m,\u001b[49m\u001b[43mmixer_h_1\u001b[49m\u001b[43m)\u001b[49m\n\u001b[1;32m     11\u001b[0m mixer_h_2 \u001b[38;5;241m=\u001b[39m mvc\u001b[38;5;241m.\u001b[39mbit_flip_mixer_2(graph,\u001b[38;5;241m1\u001b[39m)\n\u001b[1;32m     12\u001b[0m mixer_h \u001b[38;5;241m=\u001b[39m mixer_h_2\n",
      "Cell \u001b[0;32mIn[4], line 27\u001b[0m, in \u001b[0;36mexp_values\u001b[0;34m(cost_h, mixer_h)\u001b[0m\n\u001b[1;32m     25\u001b[0m \u001b[38;5;28;01mfor\u001b[39;00m i \u001b[38;5;129;01min\u001b[39;00m \u001b[38;5;28mrange\u001b[39m(np\u001b[38;5;241m.\u001b[39msize(bet)):\n\u001b[1;32m     26\u001b[0m     params \u001b[38;5;241m=\u001b[39m np\u001b[38;5;241m.\u001b[39marray([[gam[i]],[bet[i]]])\n\u001b[0;32m---> 27\u001b[0m     res   \u001b[38;5;241m+\u001b[39m\u001b[38;5;241m=\u001b[39m [\u001b[43mcost_function\u001b[49m\u001b[43m(\u001b[49m\u001b[43mparams\u001b[49m\u001b[43m)\u001b[49m]\n\u001b[1;32m     28\u001b[0m \u001b[38;5;28;01mreturn\u001b[39;00m res\n",
      "File \u001b[0;32m/opt/homebrew/lib/python3.11/site-packages/pennylane/qnode.py:867\u001b[0m, in \u001b[0;36mQNode.__call__\u001b[0;34m(self, *args, **kwargs)\u001b[0m\n\u001b[1;32m    865\u001b[0m     \u001b[38;5;28mself\u001b[39m\u001b[38;5;241m.\u001b[39mexecute_kwargs\u001b[38;5;241m.\u001b[39mpop(\u001b[38;5;124m\"\u001b[39m\u001b[38;5;124mmode\u001b[39m\u001b[38;5;124m\"\u001b[39m)\n\u001b[1;32m    866\u001b[0m \u001b[38;5;66;03m# pylint: disable=unexpected-keyword-arg\u001b[39;00m\n\u001b[0;32m--> 867\u001b[0m res \u001b[38;5;241m=\u001b[39m \u001b[43mqml\u001b[49m\u001b[38;5;241;43m.\u001b[39;49m\u001b[43mexecute\u001b[49m\u001b[43m(\u001b[49m\n\u001b[1;32m    868\u001b[0m \u001b[43m    \u001b[49m\u001b[43m[\u001b[49m\u001b[38;5;28;43mself\u001b[39;49m\u001b[38;5;241;43m.\u001b[39;49m\u001b[43mtape\u001b[49m\u001b[43m]\u001b[49m\u001b[43m,\u001b[49m\n\u001b[1;32m    869\u001b[0m \u001b[43m    \u001b[49m\u001b[43mdevice\u001b[49m\u001b[38;5;241;43m=\u001b[39;49m\u001b[38;5;28;43mself\u001b[39;49m\u001b[38;5;241;43m.\u001b[39;49m\u001b[43mdevice\u001b[49m\u001b[43m,\u001b[49m\n\u001b[1;32m    870\u001b[0m \u001b[43m    \u001b[49m\u001b[43mgradient_fn\u001b[49m\u001b[38;5;241;43m=\u001b[39;49m\u001b[38;5;28;43mself\u001b[39;49m\u001b[38;5;241;43m.\u001b[39;49m\u001b[43mgradient_fn\u001b[49m\u001b[43m,\u001b[49m\n\u001b[1;32m    871\u001b[0m \u001b[43m    \u001b[49m\u001b[43minterface\u001b[49m\u001b[38;5;241;43m=\u001b[39;49m\u001b[38;5;28;43mself\u001b[39;49m\u001b[38;5;241;43m.\u001b[39;49m\u001b[43minterface\u001b[49m\u001b[43m,\u001b[49m\n\u001b[1;32m    872\u001b[0m \u001b[43m    \u001b[49m\u001b[43mgradient_kwargs\u001b[49m\u001b[38;5;241;43m=\u001b[39;49m\u001b[38;5;28;43mself\u001b[39;49m\u001b[38;5;241;43m.\u001b[39;49m\u001b[43mgradient_kwargs\u001b[49m\u001b[43m,\u001b[49m\n\u001b[1;32m    873\u001b[0m \u001b[43m    \u001b[49m\u001b[43moverride_shots\u001b[49m\u001b[38;5;241;43m=\u001b[39;49m\u001b[43moverride_shots\u001b[49m\u001b[43m,\u001b[49m\n\u001b[1;32m    874\u001b[0m \u001b[43m    \u001b[49m\u001b[38;5;241;43m*\u001b[39;49m\u001b[38;5;241;43m*\u001b[39;49m\u001b[38;5;28;43mself\u001b[39;49m\u001b[38;5;241;43m.\u001b[39;49m\u001b[43mexecute_kwargs\u001b[49m\u001b[43m,\u001b[49m\n\u001b[1;32m    875\u001b[0m \u001b[43m\u001b[49m\u001b[43m)\u001b[49m\n\u001b[1;32m    877\u001b[0m res \u001b[38;5;241m=\u001b[39m res[\u001b[38;5;241m0\u001b[39m]\n\u001b[1;32m    879\u001b[0m \u001b[38;5;28;01mif\u001b[39;00m old_interface \u001b[38;5;241m==\u001b[39m \u001b[38;5;124m\"\u001b[39m\u001b[38;5;124mauto\u001b[39m\u001b[38;5;124m\"\u001b[39m:\n",
      "File \u001b[0;32m/opt/homebrew/lib/python3.11/site-packages/pennylane/interfaces/execution.py:407\u001b[0m, in \u001b[0;36mexecute\u001b[0;34m(tapes, device, gradient_fn, interface, grad_on_execution, gradient_kwargs, cache, cachesize, max_diff, override_shots, expand_fn, max_expansion, device_batch_transform)\u001b[0m\n\u001b[1;32m    403\u001b[0m     \u001b[38;5;28;01mreturn\u001b[39;00m batch_fn(res)\n\u001b[1;32m    405\u001b[0m \u001b[38;5;28;01mif\u001b[39;00m gradient_fn \u001b[38;5;241m==\u001b[39m \u001b[38;5;124m\"\u001b[39m\u001b[38;5;124mbackprop\u001b[39m\u001b[38;5;124m\"\u001b[39m \u001b[38;5;129;01mor\u001b[39;00m interface \u001b[38;5;129;01mis\u001b[39;00m \u001b[38;5;28;01mNone\u001b[39;00m:\n\u001b[1;32m    406\u001b[0m     \u001b[38;5;28;01mreturn\u001b[39;00m batch_fn(\n\u001b[0;32m--> 407\u001b[0m         \u001b[43mqml\u001b[49m\u001b[38;5;241;43m.\u001b[39;49m\u001b[43minterfaces\u001b[49m\u001b[38;5;241;43m.\u001b[39;49m\u001b[43mcache_execute\u001b[49m\u001b[43m(\u001b[49m\n\u001b[1;32m    408\u001b[0m \u001b[43m            \u001b[49m\u001b[43mbatch_execute\u001b[49m\u001b[43m,\u001b[49m\u001b[43m \u001b[49m\u001b[43mcache\u001b[49m\u001b[43m,\u001b[49m\u001b[43m \u001b[49m\u001b[43mreturn_tuple\u001b[49m\u001b[38;5;241;43m=\u001b[39;49m\u001b[38;5;28;43;01mFalse\u001b[39;49;00m\u001b[43m,\u001b[49m\u001b[43m \u001b[49m\u001b[43mexpand_fn\u001b[49m\u001b[38;5;241;43m=\u001b[39;49m\u001b[43mexpand_fn\u001b[49m\n\u001b[1;32m    409\u001b[0m \u001b[43m        \u001b[49m\u001b[43m)\u001b[49m\u001b[43m(\u001b[49m\u001b[43mtapes\u001b[49m\u001b[43m)\u001b[49m\n\u001b[1;32m    410\u001b[0m     )\n\u001b[1;32m    412\u001b[0m \u001b[38;5;66;03m# the default execution function is batch_execute\u001b[39;00m\n\u001b[1;32m    413\u001b[0m execute_fn \u001b[38;5;241m=\u001b[39m qml\u001b[38;5;241m.\u001b[39minterfaces\u001b[38;5;241m.\u001b[39mcache_execute(batch_execute, cache, expand_fn\u001b[38;5;241m=\u001b[39mexpand_fn)\n",
      "File \u001b[0;32m/opt/homebrew/lib/python3.11/site-packages/pennylane/interfaces/execution.py:204\u001b[0m, in \u001b[0;36mcache_execute.<locals>.wrapper\u001b[0;34m(tapes, **kwargs)\u001b[0m\n\u001b[1;32m    200\u001b[0m         \u001b[38;5;28;01mreturn\u001b[39;00m (res, []) \u001b[38;5;28;01mif\u001b[39;00m return_tuple \u001b[38;5;28;01melse\u001b[39;00m res\n\u001b[1;32m    202\u001b[0m \u001b[38;5;28;01melse\u001b[39;00m:\n\u001b[1;32m    203\u001b[0m     \u001b[38;5;66;03m# execute all unique tapes that do not exist in the cache\u001b[39;00m\n\u001b[0;32m--> 204\u001b[0m     res \u001b[38;5;241m=\u001b[39m \u001b[43mfn\u001b[49m\u001b[43m(\u001b[49m\u001b[43mexecution_tapes\u001b[49m\u001b[38;5;241;43m.\u001b[39;49m\u001b[43mvalues\u001b[49m\u001b[43m(\u001b[49m\u001b[43m)\u001b[49m\u001b[43m,\u001b[49m\u001b[43m \u001b[49m\u001b[38;5;241;43m*\u001b[39;49m\u001b[38;5;241;43m*\u001b[39;49m\u001b[43mkwargs\u001b[49m\u001b[43m)\u001b[49m\n\u001b[1;32m    206\u001b[0m final_res \u001b[38;5;241m=\u001b[39m []\n\u001b[1;32m    208\u001b[0m \u001b[38;5;28;01mfor\u001b[39;00m i, tape \u001b[38;5;129;01min\u001b[39;00m \u001b[38;5;28menumerate\u001b[39m(tapes):\n",
      "File \u001b[0;32m/opt/homebrew/lib/python3.11/site-packages/pennylane/interfaces/execution.py:130\u001b[0m, in \u001b[0;36mcache_execute.<locals>.fn\u001b[0;34m(tapes, **kwargs)\u001b[0m\n\u001b[1;32m    128\u001b[0m \u001b[38;5;28;01mdef\u001b[39;00m \u001b[38;5;21mfn\u001b[39m(tapes: Sequence[QuantumTape], \u001b[38;5;241m*\u001b[39m\u001b[38;5;241m*\u001b[39mkwargs):  \u001b[38;5;66;03m# pylint: disable=function-redefined\u001b[39;00m\n\u001b[1;32m    129\u001b[0m     tapes \u001b[38;5;241m=\u001b[39m [expand_fn(tape) \u001b[38;5;28;01mfor\u001b[39;00m tape \u001b[38;5;129;01min\u001b[39;00m tapes]\n\u001b[0;32m--> 130\u001b[0m     \u001b[38;5;28;01mreturn\u001b[39;00m \u001b[43moriginal_fn\u001b[49m\u001b[43m(\u001b[49m\u001b[43mtapes\u001b[49m\u001b[43m,\u001b[49m\u001b[43m \u001b[49m\u001b[38;5;241;43m*\u001b[39;49m\u001b[38;5;241;43m*\u001b[39;49m\u001b[43mkwargs\u001b[49m\u001b[43m)\u001b[49m\n",
      "File \u001b[0;32m/opt/homebrew/Cellar/python@3.11/3.11.4/Frameworks/Python.framework/Versions/3.11/lib/python3.11/contextlib.py:81\u001b[0m, in \u001b[0;36mContextDecorator.__call__.<locals>.inner\u001b[0;34m(*args, **kwds)\u001b[0m\n\u001b[1;32m     78\u001b[0m \u001b[38;5;129m@wraps\u001b[39m(func)\n\u001b[1;32m     79\u001b[0m \u001b[38;5;28;01mdef\u001b[39;00m \u001b[38;5;21minner\u001b[39m(\u001b[38;5;241m*\u001b[39margs, \u001b[38;5;241m*\u001b[39m\u001b[38;5;241m*\u001b[39mkwds):\n\u001b[1;32m     80\u001b[0m     \u001b[38;5;28;01mwith\u001b[39;00m \u001b[38;5;28mself\u001b[39m\u001b[38;5;241m.\u001b[39m_recreate_cm():\n\u001b[0;32m---> 81\u001b[0m         \u001b[38;5;28;01mreturn\u001b[39;00m \u001b[43mfunc\u001b[49m\u001b[43m(\u001b[49m\u001b[38;5;241;43m*\u001b[39;49m\u001b[43margs\u001b[49m\u001b[43m,\u001b[49m\u001b[43m \u001b[49m\u001b[38;5;241;43m*\u001b[39;49m\u001b[38;5;241;43m*\u001b[39;49m\u001b[43mkwds\u001b[49m\u001b[43m)\u001b[49m\n",
      "File \u001b[0;32m/opt/homebrew/lib/python3.11/site-packages/pennylane/_qubit_device.py:588\u001b[0m, in \u001b[0;36mQubitDevice.batch_execute\u001b[0;34m(self, circuits)\u001b[0m\n\u001b[1;32m    583\u001b[0m \u001b[38;5;28;01mfor\u001b[39;00m circuit \u001b[38;5;129;01min\u001b[39;00m circuits:\n\u001b[1;32m    584\u001b[0m     \u001b[38;5;66;03m# we need to reset the device here, else it will\u001b[39;00m\n\u001b[1;32m    585\u001b[0m     \u001b[38;5;66;03m# not start the next computation in the zero state\u001b[39;00m\n\u001b[1;32m    586\u001b[0m     \u001b[38;5;28mself\u001b[39m\u001b[38;5;241m.\u001b[39mreset()\n\u001b[0;32m--> 588\u001b[0m     res \u001b[38;5;241m=\u001b[39m \u001b[38;5;28;43mself\u001b[39;49m\u001b[38;5;241;43m.\u001b[39;49m\u001b[43mexecute\u001b[49m\u001b[43m(\u001b[49m\u001b[43mcircuit\u001b[49m\u001b[43m)\u001b[49m\n\u001b[1;32m    589\u001b[0m     results\u001b[38;5;241m.\u001b[39mappend(res)\n\u001b[1;32m    591\u001b[0m \u001b[38;5;28;01mif\u001b[39;00m \u001b[38;5;28mself\u001b[39m\u001b[38;5;241m.\u001b[39mtracker\u001b[38;5;241m.\u001b[39mactive:\n",
      "File \u001b[0;32m/opt/homebrew/lib/python3.11/site-packages/pennylane/_qubit_device.py:318\u001b[0m, in \u001b[0;36mQubitDevice.execute\u001b[0;34m(self, circuit, **kwargs)\u001b[0m\n\u001b[1;32m    315\u001b[0m \u001b[38;5;28mself\u001b[39m\u001b[38;5;241m.\u001b[39mcheck_validity(circuit\u001b[38;5;241m.\u001b[39moperations, circuit\u001b[38;5;241m.\u001b[39mobservables)\n\u001b[1;32m    317\u001b[0m \u001b[38;5;66;03m# apply all circuit operations\u001b[39;00m\n\u001b[0;32m--> 318\u001b[0m \u001b[38;5;28;43mself\u001b[39;49m\u001b[38;5;241;43m.\u001b[39;49m\u001b[43mapply\u001b[49m\u001b[43m(\u001b[49m\u001b[43mcircuit\u001b[49m\u001b[38;5;241;43m.\u001b[39;49m\u001b[43moperations\u001b[49m\u001b[43m,\u001b[49m\u001b[43m \u001b[49m\u001b[43mrotations\u001b[49m\u001b[38;5;241;43m=\u001b[39;49m\u001b[38;5;28;43mself\u001b[39;49m\u001b[38;5;241;43m.\u001b[39;49m\u001b[43m_get_diagonalizing_gates\u001b[49m\u001b[43m(\u001b[49m\u001b[43mcircuit\u001b[49m\u001b[43m)\u001b[49m\u001b[43m,\u001b[49m\u001b[43m \u001b[49m\u001b[38;5;241;43m*\u001b[39;49m\u001b[38;5;241;43m*\u001b[39;49m\u001b[43mkwargs\u001b[49m\u001b[43m)\u001b[49m\n\u001b[1;32m    320\u001b[0m \u001b[38;5;66;03m# generate computational basis samples\u001b[39;00m\n\u001b[1;32m    321\u001b[0m \u001b[38;5;28;01mif\u001b[39;00m \u001b[38;5;28mself\u001b[39m\u001b[38;5;241m.\u001b[39mshots \u001b[38;5;129;01mis\u001b[39;00m \u001b[38;5;129;01mnot\u001b[39;00m \u001b[38;5;28;01mNone\u001b[39;00m \u001b[38;5;129;01mor\u001b[39;00m circuit\u001b[38;5;241m.\u001b[39mis_sampled:\n",
      "File \u001b[0;32m/opt/homebrew/lib/python3.11/site-packages/pennylane/devices/default_qubit.py:276\u001b[0m, in \u001b[0;36mDefaultQubit.apply\u001b[0;34m(self, operations, rotations, **kwargs)\u001b[0m\n\u001b[1;32m    274\u001b[0m         \u001b[38;5;28mself\u001b[39m\u001b[38;5;241m.\u001b[39m_state \u001b[38;5;241m=\u001b[39m \u001b[38;5;28mself\u001b[39m\u001b[38;5;241m.\u001b[39m_apply_parametrized_evolution(\u001b[38;5;28mself\u001b[39m\u001b[38;5;241m.\u001b[39m_state, operation)\n\u001b[1;32m    275\u001b[0m     \u001b[38;5;28;01melse\u001b[39;00m:\n\u001b[0;32m--> 276\u001b[0m         \u001b[38;5;28mself\u001b[39m\u001b[38;5;241m.\u001b[39m_state \u001b[38;5;241m=\u001b[39m \u001b[38;5;28;43mself\u001b[39;49m\u001b[38;5;241;43m.\u001b[39;49m\u001b[43m_apply_operation\u001b[49m\u001b[43m(\u001b[49m\u001b[38;5;28;43mself\u001b[39;49m\u001b[38;5;241;43m.\u001b[39;49m\u001b[43m_state\u001b[49m\u001b[43m,\u001b[49m\u001b[43m \u001b[49m\u001b[43moperation\u001b[49m\u001b[43m)\u001b[49m\n\u001b[1;32m    278\u001b[0m \u001b[38;5;66;03m# store the pre-rotated state\u001b[39;00m\n\u001b[1;32m    279\u001b[0m \u001b[38;5;28mself\u001b[39m\u001b[38;5;241m.\u001b[39m_pre_rotated_state \u001b[38;5;241m=\u001b[39m \u001b[38;5;28mself\u001b[39m\u001b[38;5;241m.\u001b[39m_state\n",
      "File \u001b[0;32m/opt/homebrew/lib/python3.11/site-packages/pennylane/devices/default_qubit.py:316\u001b[0m, in \u001b[0;36mDefaultQubit._apply_operation\u001b[0;34m(self, state, operation)\u001b[0m\n\u001b[1;32m    313\u001b[0m     axes \u001b[38;5;241m=\u001b[39m [ax \u001b[38;5;241m+\u001b[39m shift \u001b[38;5;28;01mfor\u001b[39;00m ax \u001b[38;5;129;01min\u001b[39;00m \u001b[38;5;28mself\u001b[39m\u001b[38;5;241m.\u001b[39mwires\u001b[38;5;241m.\u001b[39mindices(wires)]\n\u001b[1;32m    314\u001b[0m     \u001b[38;5;28;01mreturn\u001b[39;00m \u001b[38;5;28mself\u001b[39m\u001b[38;5;241m.\u001b[39m_apply_ops[operation\u001b[38;5;241m.\u001b[39mbase_name](state, axes)\n\u001b[0;32m--> 316\u001b[0m matrix \u001b[38;5;241m=\u001b[39m \u001b[38;5;28mself\u001b[39m\u001b[38;5;241m.\u001b[39m_asarray(\u001b[38;5;28;43mself\u001b[39;49m\u001b[38;5;241;43m.\u001b[39;49m\u001b[43m_get_unitary_matrix\u001b[49m\u001b[43m(\u001b[49m\u001b[43moperation\u001b[49m\u001b[43m)\u001b[49m, dtype\u001b[38;5;241m=\u001b[39m\u001b[38;5;28mself\u001b[39m\u001b[38;5;241m.\u001b[39mC_DTYPE)\n\u001b[1;32m    318\u001b[0m \u001b[38;5;28;01mif\u001b[39;00m operation \u001b[38;5;129;01min\u001b[39;00m diagonal_in_z_basis:\n\u001b[1;32m    319\u001b[0m     \u001b[38;5;28;01mreturn\u001b[39;00m \u001b[38;5;28mself\u001b[39m\u001b[38;5;241m.\u001b[39m_apply_diagonal_unitary(state, matrix, wires)\n",
      "File \u001b[0;32m/opt/homebrew/lib/python3.11/site-packages/pennylane/devices/default_qubit.py:647\u001b[0m, in \u001b[0;36mDefaultQubit._get_unitary_matrix\u001b[0;34m(self, unitary)\u001b[0m\n\u001b[1;32m    644\u001b[0m \u001b[38;5;28;01mif\u001b[39;00m unitary \u001b[38;5;129;01min\u001b[39;00m diagonal_in_z_basis:\n\u001b[1;32m    645\u001b[0m     \u001b[38;5;28;01mreturn\u001b[39;00m unitary\u001b[38;5;241m.\u001b[39meigvals()\n\u001b[0;32m--> 647\u001b[0m \u001b[38;5;28;01mreturn\u001b[39;00m \u001b[43munitary\u001b[49m\u001b[38;5;241;43m.\u001b[39;49m\u001b[43mmatrix\u001b[49m\u001b[43m(\u001b[49m\u001b[43m)\u001b[49m\n",
      "File \u001b[0;32m/opt/homebrew/lib/python3.11/site-packages/pennylane/operation.py:745\u001b[0m, in \u001b[0;36mOperator.matrix\u001b[0;34m(self, wire_order)\u001b[0m\n\u001b[1;32m    725\u001b[0m \u001b[38;5;28;01mdef\u001b[39;00m \u001b[38;5;21mmatrix\u001b[39m(\u001b[38;5;28mself\u001b[39m, wire_order\u001b[38;5;241m=\u001b[39m\u001b[38;5;28;01mNone\u001b[39;00m):\n\u001b[1;32m    726\u001b[0m \u001b[38;5;250m    \u001b[39m\u001b[38;5;124mr\u001b[39m\u001b[38;5;124;03m\"\"\"Representation of the operator as a matrix in the computational basis.\u001b[39;00m\n\u001b[1;32m    727\u001b[0m \n\u001b[1;32m    728\u001b[0m \u001b[38;5;124;03m    If ``wire_order`` is provided, the numerical representation considers the position of the\u001b[39;00m\n\u001b[0;32m   (...)\u001b[0m\n\u001b[1;32m    743\u001b[0m \u001b[38;5;124;03m        tensor_like: matrix representation\u001b[39;00m\n\u001b[1;32m    744\u001b[0m \u001b[38;5;124;03m    \"\"\"\u001b[39;00m\n\u001b[0;32m--> 745\u001b[0m     canonical_matrix \u001b[38;5;241m=\u001b[39m \u001b[38;5;28;43mself\u001b[39;49m\u001b[38;5;241;43m.\u001b[39;49m\u001b[43mcompute_matrix\u001b[49m\u001b[43m(\u001b[49m\u001b[38;5;241;43m*\u001b[39;49m\u001b[38;5;28;43mself\u001b[39;49m\u001b[38;5;241;43m.\u001b[39;49m\u001b[43mparameters\u001b[49m\u001b[43m,\u001b[49m\u001b[43m \u001b[49m\u001b[38;5;241;43m*\u001b[39;49m\u001b[38;5;241;43m*\u001b[39;49m\u001b[38;5;28;43mself\u001b[39;49m\u001b[38;5;241;43m.\u001b[39;49m\u001b[43mhyperparameters\u001b[49m\u001b[43m)\u001b[49m\n\u001b[1;32m    747\u001b[0m     \u001b[38;5;28;01mif\u001b[39;00m wire_order \u001b[38;5;129;01mis\u001b[39;00m \u001b[38;5;28;01mNone\u001b[39;00m \u001b[38;5;129;01mor\u001b[39;00m \u001b[38;5;28mself\u001b[39m\u001b[38;5;241m.\u001b[39mwires \u001b[38;5;241m==\u001b[39m Wires(wire_order):\n\u001b[1;32m    748\u001b[0m         \u001b[38;5;28;01mreturn\u001b[39;00m canonical_matrix\n",
      "File \u001b[0;32m/opt/homebrew/lib/python3.11/site-packages/pennylane/ops/qubit/parametric_ops_multi_qubit.py:396\u001b[0m, in \u001b[0;36mPauliRot.compute_matrix\u001b[0;34m(theta, pauli_word)\u001b[0m\n\u001b[1;32m    392\u001b[0m     conjugation_matrix \u001b[38;5;241m=\u001b[39m qml\u001b[38;5;241m.\u001b[39mmath\u001b[38;5;241m.\u001b[39mcast_like(conjugation_matrix, \u001b[38;5;241m1\u001b[39mj)\n\u001b[1;32m    393\u001b[0m \u001b[38;5;66;03m# Note: we use einsum with reverse arguments here because it is not multi-dispatched\u001b[39;00m\n\u001b[1;32m    394\u001b[0m \u001b[38;5;66;03m# and the tensordot containing multi_Z_rot_matrix should decide about the interface\u001b[39;00m\n\u001b[1;32m    395\u001b[0m \u001b[38;5;28;01mreturn\u001b[39;00m expand_matrix(\n\u001b[0;32m--> 396\u001b[0m     \u001b[43mqml\u001b[49m\u001b[38;5;241;43m.\u001b[39;49m\u001b[43mmath\u001b[49m\u001b[38;5;241;43m.\u001b[39;49m\u001b[43meinsum\u001b[49m\u001b[43m(\u001b[49m\n\u001b[1;32m    397\u001b[0m \u001b[43m        \u001b[49m\u001b[38;5;124;43m\"\u001b[39;49m\u001b[38;5;124;43m...jk,ij->...ik\u001b[39;49m\u001b[38;5;124;43m\"\u001b[39;49m\u001b[43m,\u001b[49m\n\u001b[1;32m    398\u001b[0m \u001b[43m        \u001b[49m\u001b[43mqml\u001b[49m\u001b[38;5;241;43m.\u001b[39;49m\u001b[43mmath\u001b[49m\u001b[38;5;241;43m.\u001b[39;49m\u001b[43mtensordot\u001b[49m\u001b[43m(\u001b[49m\u001b[43mmulti_Z_rot_matrix\u001b[49m\u001b[43m,\u001b[49m\u001b[43m \u001b[49m\u001b[43mconjugation_matrix\u001b[49m\u001b[43m,\u001b[49m\u001b[43m \u001b[49m\u001b[43maxes\u001b[49m\u001b[38;5;241;43m=\u001b[39;49m\u001b[43m[\u001b[49m\u001b[43m[\u001b[49m\u001b[38;5;241;43m-\u001b[39;49m\u001b[38;5;241;43m1\u001b[39;49m\u001b[43m]\u001b[49m\u001b[43m,\u001b[49m\u001b[43m \u001b[49m\u001b[43m[\u001b[49m\u001b[38;5;241;43m0\u001b[39;49m\u001b[43m]\u001b[49m\u001b[43m]\u001b[49m\u001b[43m)\u001b[49m\u001b[43m,\u001b[49m\n\u001b[1;32m    399\u001b[0m \u001b[43m        \u001b[49m\u001b[43mqml\u001b[49m\u001b[38;5;241;43m.\u001b[39;49m\u001b[43mmath\u001b[49m\u001b[38;5;241;43m.\u001b[39;49m\u001b[43mconj\u001b[49m\u001b[43m(\u001b[49m\u001b[43mconjugation_matrix\u001b[49m\u001b[43m)\u001b[49m\u001b[43m,\u001b[49m\n\u001b[1;32m    400\u001b[0m \u001b[43m    \u001b[49m\u001b[43m)\u001b[49m,\n\u001b[1;32m    401\u001b[0m     non_identity_wires,\n\u001b[1;32m    402\u001b[0m     \u001b[38;5;28mlist\u001b[39m(\u001b[38;5;28mrange\u001b[39m(\u001b[38;5;28mlen\u001b[39m(pauli_word))),\n\u001b[1;32m    403\u001b[0m )\n",
      "File \u001b[0;32m/opt/homebrew/lib/python3.11/site-packages/pennylane/math/multi_dispatch.py:540\u001b[0m, in \u001b[0;36meinsum\u001b[0;34m(indices, like, *operands)\u001b[0m\n\u001b[1;32m    538\u001b[0m     like \u001b[38;5;241m=\u001b[39m get_interface(\u001b[38;5;241m*\u001b[39moperands)\n\u001b[1;32m    539\u001b[0m operands \u001b[38;5;241m=\u001b[39m np\u001b[38;5;241m.\u001b[39mcoerce(operands, like\u001b[38;5;241m=\u001b[39mlike)\n\u001b[0;32m--> 540\u001b[0m \u001b[38;5;28;01mreturn\u001b[39;00m \u001b[43mnp\u001b[49m\u001b[38;5;241;43m.\u001b[39;49m\u001b[43meinsum\u001b[49m\u001b[43m(\u001b[49m\u001b[43mindices\u001b[49m\u001b[43m,\u001b[49m\u001b[43m \u001b[49m\u001b[38;5;241;43m*\u001b[39;49m\u001b[43moperands\u001b[49m\u001b[43m,\u001b[49m\u001b[43m \u001b[49m\u001b[43mlike\u001b[49m\u001b[38;5;241;43m=\u001b[39;49m\u001b[43mlike\u001b[49m\u001b[43m)\u001b[49m\n",
      "File \u001b[0;32m/opt/homebrew/lib/python3.11/site-packages/autoray/autoray.py:79\u001b[0m, in \u001b[0;36mdo\u001b[0;34m(fn, like, *args, **kwargs)\u001b[0m\n\u001b[1;32m     30\u001b[0m \u001b[38;5;250m\u001b[39m\u001b[38;5;124;03m\"\"\"Do function named ``fn`` on ``(*args, **kwargs)``, peforming single\u001b[39;00m\n\u001b[1;32m     31\u001b[0m \u001b[38;5;124;03mdispatch to retrieve ``fn`` based on whichever library defines the class of\u001b[39;00m\n\u001b[1;32m     32\u001b[0m \u001b[38;5;124;03mthe ``args[0]``, or the ``like`` keyword argument if specified.\u001b[39;00m\n\u001b[0;32m   (...)\u001b[0m\n\u001b[1;32m     76\u001b[0m \u001b[38;5;124;03m    <tf.Tensor: id=91, shape=(3, 3), dtype=float32>\u001b[39;00m\n\u001b[1;32m     77\u001b[0m \u001b[38;5;124;03m\"\"\"\u001b[39;00m\n\u001b[1;32m     78\u001b[0m backend \u001b[38;5;241m=\u001b[39m choose_backend(fn, \u001b[38;5;241m*\u001b[39margs, like\u001b[38;5;241m=\u001b[39mlike, \u001b[38;5;241m*\u001b[39m\u001b[38;5;241m*\u001b[39mkwargs)\n\u001b[0;32m---> 79\u001b[0m \u001b[38;5;28;01mreturn\u001b[39;00m \u001b[43mget_lib_fn\u001b[49m\u001b[43m(\u001b[49m\u001b[43mbackend\u001b[49m\u001b[43m,\u001b[49m\u001b[43m \u001b[49m\u001b[43mfn\u001b[49m\u001b[43m)\u001b[49m\u001b[43m(\u001b[49m\u001b[38;5;241;43m*\u001b[39;49m\u001b[43margs\u001b[49m\u001b[43m,\u001b[49m\u001b[43m \u001b[49m\u001b[38;5;241;43m*\u001b[39;49m\u001b[38;5;241;43m*\u001b[39;49m\u001b[43mkwargs\u001b[49m\u001b[43m)\u001b[49m\n",
      "File \u001b[0;32m/opt/homebrew/lib/python3.11/site-packages/pennylane/numpy/wrapper.py:117\u001b[0m, in \u001b[0;36mtensor_wrapper.<locals>._wrapped\u001b[0;34m(*args, **kwargs)\u001b[0m\n\u001b[1;32m    114\u001b[0m         tensor_kwargs[\u001b[38;5;124m\"\u001b[39m\u001b[38;5;124mrequires_grad\u001b[39m\u001b[38;5;124m\"\u001b[39m] \u001b[38;5;241m=\u001b[39m _np\u001b[38;5;241m.\u001b[39many([i\u001b[38;5;241m.\u001b[39mrequires_grad \u001b[38;5;28;01mfor\u001b[39;00m i \u001b[38;5;129;01min\u001b[39;00m tensor_args])\n\u001b[1;32m    116\u001b[0m \u001b[38;5;66;03m# evaluate the original object\u001b[39;00m\n\u001b[0;32m--> 117\u001b[0m res \u001b[38;5;241m=\u001b[39m \u001b[43mobj\u001b[49m\u001b[43m(\u001b[49m\u001b[38;5;241;43m*\u001b[39;49m\u001b[43margs\u001b[49m\u001b[43m,\u001b[49m\u001b[43m \u001b[49m\u001b[38;5;241;43m*\u001b[39;49m\u001b[38;5;241;43m*\u001b[39;49m\u001b[43mkwargs\u001b[49m\u001b[43m)\u001b[49m\n\u001b[1;32m    119\u001b[0m \u001b[38;5;28;01mif\u001b[39;00m \u001b[38;5;28misinstance\u001b[39m(res, _np\u001b[38;5;241m.\u001b[39mndarray):\n\u001b[1;32m    120\u001b[0m     \u001b[38;5;66;03m# only if the output of the object is a ndarray,\u001b[39;00m\n\u001b[1;32m    121\u001b[0m     \u001b[38;5;66;03m# then convert to a PennyLane tensor\u001b[39;00m\n\u001b[1;32m    122\u001b[0m     res \u001b[38;5;241m=\u001b[39m tensor(res, \u001b[38;5;241m*\u001b[39m\u001b[38;5;241m*\u001b[39mtensor_kwargs)\n",
      "File \u001b[0;32m/opt/homebrew/lib/python3.11/site-packages/autograd/tracer.py:48\u001b[0m, in \u001b[0;36mprimitive.<locals>.f_wrapped\u001b[0;34m(*args, **kwargs)\u001b[0m\n\u001b[1;32m     46\u001b[0m     \u001b[38;5;28;01mreturn\u001b[39;00m new_box(ans, trace, node)\n\u001b[1;32m     47\u001b[0m \u001b[38;5;28;01melse\u001b[39;00m:\n\u001b[0;32m---> 48\u001b[0m     \u001b[38;5;28;01mreturn\u001b[39;00m \u001b[43mf_raw\u001b[49m\u001b[43m(\u001b[49m\u001b[38;5;241;43m*\u001b[39;49m\u001b[43margs\u001b[49m\u001b[43m,\u001b[49m\u001b[43m \u001b[49m\u001b[38;5;241;43m*\u001b[39;49m\u001b[38;5;241;43m*\u001b[39;49m\u001b[43mkwargs\u001b[49m\u001b[43m)\u001b[49m\n",
      "File \u001b[0;32m<__array_function__ internals>:180\u001b[0m, in \u001b[0;36meinsum\u001b[0;34m(*args, **kwargs)\u001b[0m\n",
      "File \u001b[0;32m/opt/homebrew/lib/python3.11/site-packages/numpy/core/einsumfunc.py:1371\u001b[0m, in \u001b[0;36meinsum\u001b[0;34m(out, optimize, *operands, **kwargs)\u001b[0m\n\u001b[1;32m   1369\u001b[0m     \u001b[38;5;28;01mif\u001b[39;00m specified_out:\n\u001b[1;32m   1370\u001b[0m         kwargs[\u001b[38;5;124m'\u001b[39m\u001b[38;5;124mout\u001b[39m\u001b[38;5;124m'\u001b[39m] \u001b[38;5;241m=\u001b[39m out\n\u001b[0;32m-> 1371\u001b[0m     \u001b[38;5;28;01mreturn\u001b[39;00m \u001b[43mc_einsum\u001b[49m\u001b[43m(\u001b[49m\u001b[38;5;241;43m*\u001b[39;49m\u001b[43moperands\u001b[49m\u001b[43m,\u001b[49m\u001b[43m \u001b[49m\u001b[38;5;241;43m*\u001b[39;49m\u001b[38;5;241;43m*\u001b[39;49m\u001b[43mkwargs\u001b[49m\u001b[43m)\u001b[49m\n\u001b[1;32m   1373\u001b[0m \u001b[38;5;66;03m# Check the kwargs to avoid a more cryptic error later, without having to\u001b[39;00m\n\u001b[1;32m   1374\u001b[0m \u001b[38;5;66;03m# repeat default values here\u001b[39;00m\n\u001b[1;32m   1375\u001b[0m valid_einsum_kwargs \u001b[38;5;241m=\u001b[39m [\u001b[38;5;124m'\u001b[39m\u001b[38;5;124mdtype\u001b[39m\u001b[38;5;124m'\u001b[39m, \u001b[38;5;124m'\u001b[39m\u001b[38;5;124morder\u001b[39m\u001b[38;5;124m'\u001b[39m, \u001b[38;5;124m'\u001b[39m\u001b[38;5;124mcasting\u001b[39m\u001b[38;5;124m'\u001b[39m]\n",
      "\u001b[0;31mKeyboardInterrupt\u001b[0m: "
     ]
    }
   ],
   "source": [
    "mixer_h_3 = mvc.bit_flip_mixer_3(graph,1)\n",
    "mixer_h = mixer_h_3\n",
    "exp_value_3 = exp_values(cost_h,mixer_h_3)"
   ]
  },
  {
   "cell_type": "code",
   "execution_count": null,
   "id": "bdfc1c25-8fe6-4d00-9d45-0f6200988a0d",
   "metadata": {},
   "outputs": [],
   "source": []
  },
  {
   "cell_type": "code",
   "execution_count": 5,
   "id": "2459aabd-491e-4d4a-b7bd-c99f7161a0c3",
   "metadata": {
    "tags": []
   },
   "outputs": [],
   "source": [
    "off_set = len(graph.nodes())/2"
   ]
  },
  {
   "cell_type": "code",
   "execution_count": 5,
   "id": "af7f4871-aff9-41fb-a6aa-5c08444d5789",
   "metadata": {
    "tags": []
   },
   "outputs": [],
   "source": [
    "c = []\n",
    "for a in exp_value_1:\n",
    "    c += [a.numpy()]\n",
    "c = np.array(c)\n",
    "c = c/2+off_set"
   ]
  },
  {
   "cell_type": "code",
   "execution_count": 10,
   "id": "f149dbf5-a2df-4bf6-9657-102cecca9d4b",
   "metadata": {
    "tags": []
   },
   "outputs": [],
   "source": [
    "d = []\n",
    "for b in exp_value_2:\n",
    "    d +=[b.numpy()]\n",
    "    \n",
    "d = np.array(d)\n",
    "d = d/2 +off_set"
   ]
  },
  {
   "cell_type": "code",
   "execution_count": 5,
   "id": "2de0d048-26fc-469f-aafb-d43d4d9b403b",
   "metadata": {
    "collapsed": true,
    "jupyter": {
     "outputs_hidden": true,
     "source_hidden": true
    },
    "tags": []
   },
   "outputs": [
    {
     "ename": "NameError",
     "evalue": "name 'exp_value_2' is not defined",
     "output_type": "error",
     "traceback": [
      "\u001b[0;31m---------------------------------------------------------------------------\u001b[0m",
      "\u001b[0;31mNameError\u001b[0m                                 Traceback (most recent call last)",
      "Cell \u001b[0;32mIn[5], line 9\u001b[0m\n\u001b[1;32m      6\u001b[0m c \u001b[38;5;241m=\u001b[39m c\u001b[38;5;241m/\u001b[39m\u001b[38;5;241m2\u001b[39m\u001b[38;5;241m+\u001b[39moff_set\n\u001b[1;32m      8\u001b[0m d \u001b[38;5;241m=\u001b[39m []\n\u001b[0;32m----> 9\u001b[0m \u001b[38;5;28;01mfor\u001b[39;00m b \u001b[38;5;129;01min\u001b[39;00m \u001b[43mexp_value_2\u001b[49m:\n\u001b[1;32m     10\u001b[0m     d \u001b[38;5;241m+\u001b[39m\u001b[38;5;241m=\u001b[39m[b\u001b[38;5;241m.\u001b[39mnumpy()]\n\u001b[1;32m     12\u001b[0m d \u001b[38;5;241m=\u001b[39m np\u001b[38;5;241m.\u001b[39marray(d)\n",
      "\u001b[0;31mNameError\u001b[0m: name 'exp_value_2' is not defined"
     ]
    }
   ],
   "source": [
    "e = []\n",
    "for b in exp_value_3:\n",
    "    e +=[b.numpy()]\n",
    "    \n",
    "e = np.array(e)\n",
    "e = e/2 + off_set"
   ]
  },
  {
   "cell_type": "code",
   "execution_count": null,
   "id": "ddcd26ae-78e2-4d33-9536-ed7c69b40ca5",
   "metadata": {
    "jupyter": {
     "source_hidden": true
    },
    "tags": []
   },
   "outputs": [],
   "source": [
    "with open(f'Results/Path_{2*off_set}.csv', 'w', newline='') as file:\n",
    "    writer = csv.writer(file)\n",
    "\n",
    "    writer.writerow([\"HMv\", \"Minimum\", \"mean\"])\n",
    "    writer.writerow([1, f\"{np.min(c)}\", f\"{np.mean(c)}\"])\n",
    "    writer.writerow([2, f\"{np.min(d)}\", f\"{np.mean(d)}\"])\n",
    "    writer.writerow([3, f\"{np.min(e)}\", f\"{np.mean(e)}\"])"
   ]
  },
  {
   "cell_type": "code",
   "execution_count": 11,
   "id": "1e39fa5d-1193-43ba-baa2-3fd3a985628f",
   "metadata": {},
   "outputs": [
    {
     "data": {
      "image/png": "[encoded data removed]",
      "text/plain": [
       "<Figure size 640x480 with 1 Axes>"
      ]
     },
     "metadata": {},
     "output_type": "display_data"
    }
   ],
   "source": [
    "import matplotlib.pyplot as plt\n",
    "bet   = np.arange(0,2*np.pi,0.01)\n",
    "#plt.plot(bet,c,'r',label = 'H_M1')\n",
    "plt.plot(bet,d,'b',label = 'H_M2')\n",
    "#plt.plot(bet,e,'g',label = 'H_M3')\n",
    "#plt.plot(bet,np.linspace(np.mean(c),np.mean(c),np.size(bet)),'r')\n",
    "plt.plot(bet,np.linspace(np.mean(d),np.mean(d),np.size(bet)),'b')\n",
    "#plt.plot(bet,np.linspace(np.mean(e),np.mean(e),np.size(bet)),'g')\n",
    "plt.xlabel('beta')\n",
    "plt.ylabel('F(beta)')\n",
    "plt.title(f'F(beta) vs beta for graph P_{int(2*off_set)} graph')\n",
    "plt.legend()\n",
    "plt.savefig(f'Results/Path-{int(2*off_set)}.png')\n",
    "plt.show()"
   ]
  },
  {
   "cell_type": "code",
   "execution_count": 8,
   "id": "b74d60f2-dc6a-4517-9618-a8c7827ca7aa",
   "metadata": {
    "tags": []
   },
   "outputs": [
    {
     "ename": "KeyError",
     "evalue": "'Hamiltonian'",
     "output_type": "error",
     "traceback": [
      "\u001b[0;31m---------------------------------------------------------------------------\u001b[0m",
      "\u001b[0;31mKeyError\u001b[0m                                  Traceback (most recent call last)",
      "Cell \u001b[0;32mIn[8], line 1\u001b[0m\n\u001b[0;32m----> 1\u001b[0m \u001b[43mqml\u001b[49m\u001b[38;5;241;43m.\u001b[39;49m\u001b[43mis_commuting\u001b[49m\u001b[43m(\u001b[49m\u001b[43mmixer_h_1\u001b[49m\u001b[43m,\u001b[49m\u001b[43mmixer_h_2\u001b[49m\u001b[38;5;241;43m-\u001b[39;49m\u001b[43mmixer_h_1\u001b[49m\u001b[43m)\u001b[49m\n",
      "File \u001b[0;32m/opt/homebrew/lib/python3.11/site-packages/pennylane/ops/functions/is_commuting.py:396\u001b[0m, in \u001b[0;36mis_commuting\u001b[0;34m(operation1, operation2, wire_map)\u001b[0m\n\u001b[1;32m    393\u001b[0m target_wires_1 \u001b[38;5;241m=\u001b[39m qml\u001b[38;5;241m.\u001b[39mwires\u001b[38;5;241m.\u001b[39mWires([w \u001b[38;5;28;01mfor\u001b[39;00m w \u001b[38;5;129;01min\u001b[39;00m operation1\u001b[38;5;241m.\u001b[39mwires \u001b[38;5;28;01mif\u001b[39;00m w \u001b[38;5;129;01mnot\u001b[39;00m \u001b[38;5;129;01min\u001b[39;00m op1_control_wires])\n\u001b[1;32m    394\u001b[0m target_wires_2 \u001b[38;5;241m=\u001b[39m qml\u001b[38;5;241m.\u001b[39mwires\u001b[38;5;241m.\u001b[39mWires([w \u001b[38;5;28;01mfor\u001b[39;00m w \u001b[38;5;129;01min\u001b[39;00m operation2\u001b[38;5;241m.\u001b[39mwires \u001b[38;5;28;01mif\u001b[39;00m w \u001b[38;5;129;01mnot\u001b[39;00m \u001b[38;5;129;01min\u001b[39;00m op2_control_wires])\n\u001b[0;32m--> 396\u001b[0m \u001b[38;5;28;01mif\u001b[39;00m intersection(target_wires_1, target_wires_2) \u001b[38;5;129;01mand\u001b[39;00m \u001b[38;5;129;01mnot\u001b[39;00m \u001b[43m_commutes\u001b[49m\u001b[43m(\u001b[49m\u001b[43mctrl_base_1\u001b[49m\u001b[43m,\u001b[49m\u001b[43m \u001b[49m\u001b[43mctrl_base_2\u001b[49m\u001b[43m)\u001b[49m:\n\u001b[1;32m    397\u001b[0m     \u001b[38;5;28;01mreturn\u001b[39;00m \u001b[38;5;28;01mFalse\u001b[39;00m\n\u001b[1;32m    399\u001b[0m \u001b[38;5;28;01mif\u001b[39;00m intersection(target_wires_1, op2_control_wires) \u001b[38;5;129;01mand\u001b[39;00m \u001b[38;5;129;01mnot\u001b[39;00m _commutes(\u001b[38;5;124m\"\u001b[39m\u001b[38;5;124mctrl\u001b[39m\u001b[38;5;124m\"\u001b[39m, ctrl_base_1):\n",
      "File \u001b[0;32m/opt/homebrew/lib/python3.11/site-packages/pennylane/ops/functions/is_commuting.py:156\u001b[0m, in \u001b[0;36m_create_commute_function.<locals>.commutes_inner\u001b[0;34m(op_name1, op_name2)\u001b[0m\n\u001b[1;32m    143\u001b[0m \u001b[38;5;28;01mdef\u001b[39;00m \u001b[38;5;21mcommutes_inner\u001b[39m(op_name1, op_name2):\n\u001b[1;32m    144\u001b[0m \u001b[38;5;250m    \u001b[39m\u001b[38;5;124;03m\"\"\"Determine whether or not two operations commute.\u001b[39;00m\n\u001b[1;32m    145\u001b[0m \n\u001b[1;32m    146\u001b[0m \u001b[38;5;124;03m    Relies on ``commutation_map`` from the enclosing namespace of ``_create_commute_function``.\u001b[39;00m\n\u001b[0;32m   (...)\u001b[0m\n\u001b[1;32m    154\u001b[0m \n\u001b[1;32m    155\u001b[0m \u001b[38;5;124;03m    \"\"\"\u001b[39;00m\n\u001b[0;32m--> 156\u001b[0m     \u001b[38;5;28;01mreturn\u001b[39;00m op_name1 \u001b[38;5;129;01min\u001b[39;00m \u001b[43mcommutation_map\u001b[49m\u001b[43m[\u001b[49m\u001b[43mop_name2\u001b[49m\u001b[43m]\u001b[49m\n",
      "\u001b[0;31mKeyError\u001b[0m: 'Hamiltonian'"
     ]
    }
   ],
   "source": [
    "qml.is_commuting(mixer_h_1,mixer_h_2-mixer_h_1)"
   ]
  },
  {
   "cell_type": "code",
   "execution_count": 10,
   "id": "3f9cc044-99ac-43f2-b29e-8a87f7095c1c",
   "metadata": {
    "tags": []
   },
   "outputs": [],
   "source": [
    "H_1 = qml.PauliX(wires = 2) - qml.PauliX(wires=2)@qml.PauliZ(wires = 1) - qml.PauliX(wires =2 ) @qml.PauliZ(wires = 3) + qml.PauliX(wires =2 ) @qml.PauliZ(wires = 1) @qml.PauliZ(wires = 3)"
   ]
  },
  {
   "cell_type": "code",
   "execution_count": 11,
   "id": "fc4df57b-4c13-4872-a12c-50b24cf3a140",
   "metadata": {
    "tags": []
   },
   "outputs": [
    {
     "name": "stdout",
     "output_type": "stream",
     "text": [
      "  (1) [X2]\n",
      "+ (-1) [X2 Z1]\n",
      "+ (-1) [X2 Z3]\n",
      "+ (1) [X2 Z1 Z3]\n"
     ]
    }
   ],
   "source": [
    "H_1"
   ]
  },
  {
   "cell_type": "code",
   "execution_count": 12,
   "id": "6359e537-e9ce-43fc-a104-041c578ca096",
   "metadata": {
    "tags": []
   },
   "outputs": [],
   "source": [
    "H_2 = qml.PauliX(wires = 1) @qml.PauliX(wires = 3) - qml.PauliX(wires = 1)@qml.PauliX(wires = 3) @qml.PauliZ(wires = 2) - qml.PauliX(wires = 1)@qml.PauliX(wires = 3) @qml.PauliZ(wires =0) + qml.PauliX(wires = 1)@qml.PauliX(wires = 3) @qml.PauliZ(wires = 0)@qml.PauliZ(wires = 2)"
   ]
  },
  {
   "cell_type": "code",
   "execution_count": 13,
   "id": "7d2f425a-0f07-422f-a30c-ecea87eb6e71",
   "metadata": {
    "tags": []
   },
   "outputs": [
    {
     "name": "stdout",
     "output_type": "stream",
     "text": [
      "  (1) [X1 X3]\n",
      "+ (-1) [X1 X3 Z2]\n",
      "+ (-1) [X1 X3 Z0]\n",
      "+ (1) [X1 X3 Z0 Z2]\n"
     ]
    }
   ],
   "source": [
    "H_2"
   ]
  },
  {
   "cell_type": "code",
   "execution_count": 15,
   "id": "b48c7513-9423-4f42-ace3-72c4330d583e",
   "metadata": {
    "tags": []
   },
   "outputs": [
    {
     "ename": "KeyError",
     "evalue": "'Hamiltonian'",
     "output_type": "error",
     "traceback": [
      "\u001b[0;31m---------------------------------------------------------------------------\u001b[0m",
      "\u001b[0;31mKeyError\u001b[0m                                  Traceback (most recent call last)",
      "Cell \u001b[0;32mIn[15], line 1\u001b[0m\n\u001b[0;32m----> 1\u001b[0m \u001b[43mqml\u001b[49m\u001b[38;5;241;43m.\u001b[39;49m\u001b[43mis_commuting\u001b[49m\u001b[43m(\u001b[49m\u001b[43mqml\u001b[49m\u001b[38;5;241;43m.\u001b[39;49m\u001b[43mPauliX\u001b[49m\u001b[43m(\u001b[49m\u001b[43mwires\u001b[49m\u001b[43m \u001b[49m\u001b[38;5;241;43m=\u001b[39;49m\u001b[43m \u001b[49m\u001b[38;5;241;43m2\u001b[39;49m\u001b[43m)\u001b[49m\u001b[43m \u001b[49m\u001b[38;5;241;43m-\u001b[39;49m\u001b[43m \u001b[49m\u001b[43mqml\u001b[49m\u001b[38;5;241;43m.\u001b[39;49m\u001b[43mPauliX\u001b[49m\u001b[43m(\u001b[49m\u001b[43mwires\u001b[49m\u001b[38;5;241;43m=\u001b[39;49m\u001b[38;5;241;43m2\u001b[39;49m\u001b[43m)\u001b[49m\u001b[38;5;129;43m@qml\u001b[39;49m\u001b[38;5;241;43m.\u001b[39;49m\u001b[43mPauliZ\u001b[49m\u001b[43m(\u001b[49m\u001b[43mwires\u001b[49m\u001b[43m \u001b[49m\u001b[38;5;241;43m=\u001b[39;49m\u001b[43m \u001b[49m\u001b[38;5;241;43m1\u001b[39;49m\u001b[43m)\u001b[49m\u001b[43m \u001b[49m\u001b[38;5;241;43m-\u001b[39;49m\u001b[43m \u001b[49m\u001b[43mqml\u001b[49m\u001b[38;5;241;43m.\u001b[39;49m\u001b[43mPauliX\u001b[49m\u001b[43m(\u001b[49m\u001b[43mwires\u001b[49m\u001b[43m \u001b[49m\u001b[38;5;241;43m=\u001b[39;49m\u001b[38;5;241;43m2\u001b[39;49m\u001b[43m \u001b[49m\u001b[43m)\u001b[49m\u001b[43m \u001b[49m\u001b[38;5;129;43m@qml\u001b[39;49m\u001b[38;5;241;43m.\u001b[39;49m\u001b[43mPauliZ\u001b[49m\u001b[43m(\u001b[49m\u001b[43mwires\u001b[49m\u001b[43m \u001b[49m\u001b[38;5;241;43m=\u001b[39;49m\u001b[43m \u001b[49m\u001b[38;5;241;43m3\u001b[39;49m\u001b[43m)\u001b[49m\u001b[43m \u001b[49m\u001b[38;5;241;43m+\u001b[39;49m\u001b[43m \u001b[49m\u001b[43mqml\u001b[49m\u001b[38;5;241;43m.\u001b[39;49m\u001b[43mPauliX\u001b[49m\u001b[43m(\u001b[49m\u001b[43mwires\u001b[49m\u001b[43m \u001b[49m\u001b[38;5;241;43m=\u001b[39;49m\u001b[38;5;241;43m2\u001b[39;49m\u001b[43m \u001b[49m\u001b[43m)\u001b[49m\u001b[43m \u001b[49m\u001b[38;5;129;43m@qml\u001b[39;49m\u001b[38;5;241;43m.\u001b[39;49m\u001b[43mPauliZ\u001b[49m\u001b[43m(\u001b[49m\u001b[43mwires\u001b[49m\u001b[43m \u001b[49m\u001b[38;5;241;43m=\u001b[39;49m\u001b[43m \u001b[49m\u001b[38;5;241;43m1\u001b[39;49m\u001b[43m)\u001b[49m\u001b[43m \u001b[49m\u001b[38;5;129;43m@qml\u001b[39;49m\u001b[38;5;241;43m.\u001b[39;49m\u001b[43mPauliZ\u001b[49m\u001b[43m(\u001b[49m\u001b[43mwires\u001b[49m\u001b[43m \u001b[49m\u001b[38;5;241;43m=\u001b[39;49m\u001b[43m \u001b[49m\u001b[38;5;241;43m3\u001b[39;49m\u001b[43m)\u001b[49m\u001b[43m,\u001b[49m\u001b[43mqml\u001b[49m\u001b[38;5;241;43m.\u001b[39;49m\u001b[43mPauliX\u001b[49m\u001b[43m(\u001b[49m\u001b[43mwires\u001b[49m\u001b[43m \u001b[49m\u001b[38;5;241;43m=\u001b[39;49m\u001b[43m \u001b[49m\u001b[38;5;241;43m1\u001b[39;49m\u001b[43m)\u001b[49m\u001b[43m \u001b[49m\u001b[38;5;129;43m@qml\u001b[39;49m\u001b[38;5;241;43m.\u001b[39;49m\u001b[43mPauliX\u001b[49m\u001b[43m(\u001b[49m\u001b[43mwires\u001b[49m\u001b[43m \u001b[49m\u001b[38;5;241;43m=\u001b[39;49m\u001b[43m \u001b[49m\u001b[38;5;241;43m3\u001b[39;49m\u001b[43m)\u001b[49m\u001b[43m \u001b[49m\u001b[38;5;241;43m-\u001b[39;49m\u001b[43m \u001b[49m\u001b[43mqml\u001b[49m\u001b[38;5;241;43m.\u001b[39;49m\u001b[43mPauliX\u001b[49m\u001b[43m(\u001b[49m\u001b[43mwires\u001b[49m\u001b[43m \u001b[49m\u001b[38;5;241;43m=\u001b[39;49m\u001b[43m \u001b[49m\u001b[38;5;241;43m1\u001b[39;49m\u001b[43m)\u001b[49m\u001b[38;5;129;43m@qml\u001b[39;49m\u001b[38;5;241;43m.\u001b[39;49m\u001b[43mPauliX\u001b[49m\u001b[43m(\u001b[49m\u001b[43mwires\u001b[49m\u001b[43m \u001b[49m\u001b[38;5;241;43m=\u001b[39;49m\u001b[43m \u001b[49m\u001b[38;5;241;43m3\u001b[39;49m\u001b[43m)\u001b[49m\u001b[43m \u001b[49m\u001b[38;5;129;43m@qml\u001b[39;49m\u001b[38;5;241;43m.\u001b[39;49m\u001b[43mPauliZ\u001b[49m\u001b[43m(\u001b[49m\u001b[43mwires\u001b[49m\u001b[43m \u001b[49m\u001b[38;5;241;43m=\u001b[39;49m\u001b[43m \u001b[49m\u001b[38;5;241;43m2\u001b[39;49m\u001b[43m)\u001b[49m\u001b[43m \u001b[49m\u001b[38;5;241;43m-\u001b[39;49m\u001b[43m \u001b[49m\u001b[43mqml\u001b[49m\u001b[38;5;241;43m.\u001b[39;49m\u001b[43mPauliX\u001b[49m\u001b[43m(\u001b[49m\u001b[43mwires\u001b[49m\u001b[43m \u001b[49m\u001b[38;5;241;43m=\u001b[39;49m\u001b[43m \u001b[49m\u001b[38;5;241;43m1\u001b[39;49m\u001b[43m)\u001b[49m\u001b[38;5;129;43m@qml\u001b[39;49m\u001b[38;5;241;43m.\u001b[39;49m\u001b[43mPauliX\u001b[49m\u001b[43m(\u001b[49m\u001b[43mwires\u001b[49m\u001b[43m \u001b[49m\u001b[38;5;241;43m=\u001b[39;49m\u001b[43m \u001b[49m\u001b[38;5;241;43m3\u001b[39;49m\u001b[43m)\u001b[49m\u001b[43m \u001b[49m\u001b[38;5;129;43m@qml\u001b[39;49m\u001b[38;5;241;43m.\u001b[39;49m\u001b[43mPauliZ\u001b[49m\u001b[43m(\u001b[49m\u001b[43mwires\u001b[49m\u001b[43m \u001b[49m\u001b[38;5;241;43m=\u001b[39;49m\u001b[38;5;241;43m0\u001b[39;49m\u001b[43m)\u001b[49m\u001b[43m \u001b[49m\u001b[38;5;241;43m+\u001b[39;49m\u001b[43m \u001b[49m\u001b[43mqml\u001b[49m\u001b[38;5;241;43m.\u001b[39;49m\u001b[43mPauliX\u001b[49m\u001b[43m(\u001b[49m\u001b[43mwires\u001b[49m\u001b[43m \u001b[49m\u001b[38;5;241;43m=\u001b[39;49m\u001b[43m \u001b[49m\u001b[38;5;241;43m1\u001b[39;49m\u001b[43m)\u001b[49m\u001b[38;5;129;43m@qml\u001b[39;49m\u001b[38;5;241;43m.\u001b[39;49m\u001b[43mPauliX\u001b[49m\u001b[43m(\u001b[49m\u001b[43mwires\u001b[49m\u001b[43m \u001b[49m\u001b[38;5;241;43m=\u001b[39;49m\u001b[43m \u001b[49m\u001b[38;5;241;43m3\u001b[39;49m\u001b[43m)\u001b[49m\u001b[43m \u001b[49m\u001b[38;5;129;43m@qml\u001b[39;49m\u001b[38;5;241;43m.\u001b[39;49m\u001b[43mPauliZ\u001b[49m\u001b[43m(\u001b[49m\u001b[43mwires\u001b[49m\u001b[43m \u001b[49m\u001b[38;5;241;43m=\u001b[39;49m\u001b[43m \u001b[49m\u001b[38;5;241;43m0\u001b[39;49m\u001b[43m)\u001b[49m\u001b[38;5;129;43m@qml\u001b[39;49m\u001b[38;5;241;43m.\u001b[39;49m\u001b[43mPauliZ\u001b[49m\u001b[43m(\u001b[49m\u001b[43mwires\u001b[49m\u001b[43m \u001b[49m\u001b[38;5;241;43m=\u001b[39;49m\u001b[43m \u001b[49m\u001b[38;5;241;43m2\u001b[39;49m\u001b[43m)\u001b[49m\u001b[43m)\u001b[49m\n",
      "File \u001b[0;32m/opt/homebrew/lib/python3.11/site-packages/pennylane/ops/functions/is_commuting.py:396\u001b[0m, in \u001b[0;36mis_commuting\u001b[0;34m(operation1, operation2, wire_map)\u001b[0m\n\u001b[1;32m    393\u001b[0m target_wires_1 \u001b[38;5;241m=\u001b[39m qml\u001b[38;5;241m.\u001b[39mwires\u001b[38;5;241m.\u001b[39mWires([w \u001b[38;5;28;01mfor\u001b[39;00m w \u001b[38;5;129;01min\u001b[39;00m operation1\u001b[38;5;241m.\u001b[39mwires \u001b[38;5;28;01mif\u001b[39;00m w \u001b[38;5;129;01mnot\u001b[39;00m \u001b[38;5;129;01min\u001b[39;00m op1_control_wires])\n\u001b[1;32m    394\u001b[0m target_wires_2 \u001b[38;5;241m=\u001b[39m qml\u001b[38;5;241m.\u001b[39mwires\u001b[38;5;241m.\u001b[39mWires([w \u001b[38;5;28;01mfor\u001b[39;00m w \u001b[38;5;129;01min\u001b[39;00m operation2\u001b[38;5;241m.\u001b[39mwires \u001b[38;5;28;01mif\u001b[39;00m w \u001b[38;5;129;01mnot\u001b[39;00m \u001b[38;5;129;01min\u001b[39;00m op2_control_wires])\n\u001b[0;32m--> 396\u001b[0m \u001b[38;5;28;01mif\u001b[39;00m intersection(target_wires_1, target_wires_2) \u001b[38;5;129;01mand\u001b[39;00m \u001b[38;5;129;01mnot\u001b[39;00m \u001b[43m_commutes\u001b[49m\u001b[43m(\u001b[49m\u001b[43mctrl_base_1\u001b[49m\u001b[43m,\u001b[49m\u001b[43m \u001b[49m\u001b[43mctrl_base_2\u001b[49m\u001b[43m)\u001b[49m:\n\u001b[1;32m    397\u001b[0m     \u001b[38;5;28;01mreturn\u001b[39;00m \u001b[38;5;28;01mFalse\u001b[39;00m\n\u001b[1;32m    399\u001b[0m \u001b[38;5;28;01mif\u001b[39;00m intersection(target_wires_1, op2_control_wires) \u001b[38;5;129;01mand\u001b[39;00m \u001b[38;5;129;01mnot\u001b[39;00m _commutes(\u001b[38;5;124m\"\u001b[39m\u001b[38;5;124mctrl\u001b[39m\u001b[38;5;124m\"\u001b[39m, ctrl_base_1):\n",
      "File \u001b[0;32m/opt/homebrew/lib/python3.11/site-packages/pennylane/ops/functions/is_commuting.py:156\u001b[0m, in \u001b[0;36m_create_commute_function.<locals>.commutes_inner\u001b[0;34m(op_name1, op_name2)\u001b[0m\n\u001b[1;32m    143\u001b[0m \u001b[38;5;28;01mdef\u001b[39;00m \u001b[38;5;21mcommutes_inner\u001b[39m(op_name1, op_name2):\n\u001b[1;32m    144\u001b[0m \u001b[38;5;250m    \u001b[39m\u001b[38;5;124;03m\"\"\"Determine whether or not two operations commute.\u001b[39;00m\n\u001b[1;32m    145\u001b[0m \n\u001b[1;32m    146\u001b[0m \u001b[38;5;124;03m    Relies on ``commutation_map`` from the enclosing namespace of ``_create_commute_function``.\u001b[39;00m\n\u001b[0;32m   (...)\u001b[0m\n\u001b[1;32m    154\u001b[0m \n\u001b[1;32m    155\u001b[0m \u001b[38;5;124;03m    \"\"\"\u001b[39;00m\n\u001b[0;32m--> 156\u001b[0m     \u001b[38;5;28;01mreturn\u001b[39;00m op_name1 \u001b[38;5;129;01min\u001b[39;00m \u001b[43mcommutation_map\u001b[49m\u001b[43m[\u001b[49m\u001b[43mop_name2\u001b[49m\u001b[43m]\u001b[49m\n",
      "\u001b[0;31mKeyError\u001b[0m: 'Hamiltonian'"
     ]
    }
   ],
   "source": [
    "qml.is_commuting(qml.PauliX(wires = 2) - qml.PauliX(wires=2)@qml.PauliZ(wires = 1) - qml.PauliX(wires =2 ) @qml.PauliZ(wires = 3) + qml.PauliX(wires =2 ) @qml.PauliZ(wires = 1) @qml.PauliZ(wires = 3),qml.PauliX(wires = 1) @qml.PauliX(wires = 3) - qml.PauliX(wires = 1)@qml.PauliX(wires = 3) @qml.PauliZ(wires = 2) - qml.PauliX(wires = 1)@qml.PauliX(wires = 3) @qml.PauliZ(wires =0) + qml.PauliX(wires = 1)@qml.PauliX(wires = 3) @qml.PauliZ(wires = 0)@qml.PauliZ(wires = 2))"
   ]
  },
  {
   "cell_type": "code",
   "execution_count": 7,
   "id": "29eeb350-ab59-45d5-b36b-5634f94f90b3",
   "metadata": {
    "tags": []
   },
   "outputs": [],
   "source": [
    "Hmat1 = qml.Hamiltonian.sparse_matrix(mixer_h).real\n",
    "mat1 = Hmat1.toarray()"
   ]
  },
  {
   "cell_type": "code",
   "execution_count": 8,
   "id": "ae0817a2-39e3-4fa9-9e2f-7b0c5e3ab105",
   "metadata": {
    "tags": []
   },
   "outputs": [
    {
     "data": {
      "text/plain": [
       "array([[0., 0., 0., 0., 0., 0., 0., 0.],\n",
       "       [0., 0., 0., 0., 0., 0., 0., 0.],\n",
       "       [0., 0., 0., 1., 0., 0., 1., 0.],\n",
       "       [0., 0., 1., 0., 0., 0., 0., 1.],\n",
       "       [0., 0., 0., 0., 0., 0., 0., 0.],\n",
       "       [0., 0., 0., 0., 0., 0., 0., 1.],\n",
       "       [0., 0., 1., 0., 0., 0., 0., 1.],\n",
       "       [0., 0., 0., 1., 0., 1., 1., 0.]])"
      ]
     },
     "execution_count": 8,
     "metadata": {},
     "output_type": "execute_result"
    }
   ],
   "source": [
    "mat1"
   ]
  },
  {
   "cell_type": "code",
   "execution_count": 22,
   "id": "3d62aab9-ac5c-479c-8b01-7766a726f10e",
   "metadata": {
    "tags": []
   },
   "outputs": [],
   "source": [
    "Hmat2 = qml.Hamiltonian.sparse_matrix(H_2).real\n",
    "mat2 = Hmat2.toarray()"
   ]
  },
  {
   "cell_type": "code",
   "execution_count": 24,
   "id": "9fb5f5da-8af6-4c1f-80da-f058ab1673e0",
   "metadata": {
    "tags": []
   },
   "outputs": [
    {
     "data": {
      "text/plain": [
       "array([[0., 0., 0., 0., 0., 0., 0., 0.],\n",
       "       [0., 0., 0., 0., 0., 0., 0., 0.],\n",
       "       [0., 0., 0., 0., 0., 0., 0., 0.],\n",
       "       [0., 0., 0., 0., 0., 0., 0., 0.],\n",
       "       [0., 0., 0., 0., 0., 0., 0., 0.],\n",
       "       [0., 0., 0., 0., 0., 0., 0., 4.],\n",
       "       [0., 0., 0., 0., 0., 0., 0., 0.],\n",
       "       [0., 0., 0., 0., 0., 4., 0., 0.]])"
      ]
     },
     "execution_count": 24,
     "metadata": {},
     "output_type": "execute_result"
    }
   ],
   "source": [
    "mat1"
   ]
  },
  {
   "cell_type": "code",
   "execution_count": 25,
   "id": "3cc28c06-1181-4ccd-ba23-843a4c73e412",
   "metadata": {
    "tags": []
   },
   "outputs": [
    {
     "data": {
      "text/plain": [
       "array([[0., 0., 0., 0., 0., 0., 0., 0., 0., 0., 0., 0., 0., 0., 0., 0.],\n",
       "       [0., 0., 0., 0., 0., 0., 0., 0., 0., 0., 0., 0., 0., 0., 0., 0.],\n",
       "       [0., 0., 0., 0., 0., 0., 0., 0., 0., 0., 0., 0., 0., 0., 0., 0.],\n",
       "       [0., 0., 0., 0., 0., 0., 0., 0., 0., 0., 0., 0., 0., 0., 0., 0.],\n",
       "       [0., 0., 0., 0., 0., 0., 0., 0., 0., 0., 0., 0., 0., 0., 0., 0.],\n",
       "       [0., 0., 0., 0., 0., 0., 0., 0., 0., 0., 0., 0., 0., 0., 0., 0.],\n",
       "       [0., 0., 0., 0., 0., 0., 0., 0., 0., 0., 0., 0., 0., 0., 0., 0.],\n",
       "       [0., 0., 0., 0., 0., 0., 0., 0., 0., 0., 0., 0., 0., 0., 0., 0.],\n",
       "       [0., 0., 0., 0., 0., 0., 0., 0., 0., 0., 0., 0., 0., 0., 0., 0.],\n",
       "       [0., 0., 0., 0., 0., 0., 0., 0., 0., 0., 0., 0., 0., 0., 0., 0.],\n",
       "       [0., 0., 0., 0., 0., 0., 0., 0., 0., 0., 0., 0., 0., 0., 0., 4.],\n",
       "       [0., 0., 0., 0., 0., 0., 0., 0., 0., 0., 0., 0., 0., 0., 4., 0.],\n",
       "       [0., 0., 0., 0., 0., 0., 0., 0., 0., 0., 0., 0., 0., 0., 0., 0.],\n",
       "       [0., 0., 0., 0., 0., 0., 0., 0., 0., 0., 0., 0., 0., 0., 0., 0.],\n",
       "       [0., 0., 0., 0., 0., 0., 0., 0., 0., 0., 0., 4., 0., 0., 0., 0.],\n",
       "       [0., 0., 0., 0., 0., 0., 0., 0., 0., 0., 4., 0., 0., 0., 0., 0.]])"
      ]
     },
     "execution_count": 25,
     "metadata": {},
     "output_type": "execute_result"
    }
   ],
   "source": [
    "mat2"
   ]
  },
  {
   "cell_type": "code",
   "execution_count": 27,
   "id": "c7a8d0a4-3d12-4195-ad80-34701842bf20",
   "metadata": {
    "tags": []
   },
   "outputs": [],
   "source": [
    "w = np.array([[0,0],[0,1]])\n",
    "x = np.array([[0,1],[1,0]])\n",
    "i = np.array([[1,0],[0,1]])"
   ]
  },
  {
   "cell_type": "code",
   "execution_count": 30,
   "id": "41d7ce20-7656-4b16-8fbc-29d13d6203bc",
   "metadata": {
    "tags": []
   },
   "outputs": [],
   "source": [
    "def t(a,b,c,d):\n",
    "    return np.kron(a,np.kron(b,np.kron(c,d)))\n",
    "h1 = t(x,w,i,w) + t(w,x,w,i)+t(i,w,x,w)+t(w,i,w,x)\n",
    "h2 = t(x,w,x,w) + t(w,x,w,x)\n"
   ]
  },
  {
   "cell_type": "code",
   "execution_count": 31,
   "id": "aa83e421-5efb-4a2e-9d1f-ce014503f6a6",
   "metadata": {
    "tags": []
   },
   "outputs": [
    {
     "data": {
      "text/plain": [
       "tensor([[ True,  True,  True,  True,  True,  True,  True,  True,  True,\n",
       "          True,  True,  True,  True,  True,  True,  True],\n",
       "        [ True,  True,  True,  True,  True,  True,  True,  True,  True,\n",
       "          True,  True,  True,  True,  True,  True,  True],\n",
       "        [ True,  True,  True,  True,  True,  True,  True,  True,  True,\n",
       "          True,  True,  True,  True,  True,  True,  True],\n",
       "        [ True,  True,  True,  True,  True,  True,  True,  True,  True,\n",
       "          True,  True,  True,  True,  True,  True,  True],\n",
       "        [ True,  True,  True,  True,  True,  True,  True,  True,  True,\n",
       "          True,  True,  True,  True,  True,  True,  True],\n",
       "        [ True,  True,  True,  True,  True,  True,  True,  True,  True,\n",
       "          True,  True, False,  True,  True, False,  True],\n",
       "        [ True,  True,  True,  True,  True,  True,  True,  True,  True,\n",
       "          True,  True,  True,  True,  True,  True,  True],\n",
       "        [ True,  True,  True,  True,  True,  True,  True,  True,  True,\n",
       "          True, False,  True,  True,  True,  True,  True],\n",
       "        [ True,  True,  True,  True,  True,  True,  True,  True,  True,\n",
       "          True,  True,  True,  True,  True,  True,  True],\n",
       "        [ True,  True,  True,  True,  True,  True,  True,  True,  True,\n",
       "          True,  True,  True,  True,  True,  True,  True],\n",
       "        [ True,  True,  True,  True,  True,  True,  True, False,  True,\n",
       "          True,  True,  True,  True, False,  True,  True],\n",
       "        [ True,  True,  True,  True,  True, False,  True,  True,  True,\n",
       "          True,  True,  True,  True,  True,  True,  True],\n",
       "        [ True,  True,  True,  True,  True,  True,  True,  True,  True,\n",
       "          True,  True,  True,  True,  True,  True,  True],\n",
       "        [ True,  True,  True,  True,  True,  True,  True,  True,  True,\n",
       "          True, False,  True,  True,  True,  True,  True],\n",
       "        [ True,  True,  True,  True,  True, False,  True,  True,  True,\n",
       "          True,  True,  True,  True,  True,  True,  True],\n",
       "        [ True,  True,  True,  True,  True,  True,  True,  True,  True,\n",
       "          True,  True,  True,  True,  True,  True,  True]], requires_grad=True)"
      ]
     },
     "execution_count": 31,
     "metadata": {},
     "output_type": "execute_result"
    }
   ],
   "source": [
    "np.matmul(h1,h2) == np.matmul(h2,h1)"
   ]
  },
  {
   "cell_type": "code",
   "execution_count": null,
   "id": "8190d7eb-7ecd-46a1-ab95-817f41e71a27",
   "metadata": {},
   "outputs": [],
   "source": []
  }
 ],
 "metadata": {
  "kernelspec": {
   "display_name": "Python 3 (ipykernel)",
   "language": "python",
   "name": "python3"
  },
  "language_info": {
   "codemirror_mode": {
    "name": "ipython",
    "version": 3
   },
   "file_extension": ".py",
   "mimetype": "text/x-python",
   "name": "python",
   "nbconvert_exporter": "python",
   "pygments_lexer": "ipython3",
   "version": "3.11.4"
  }
 },
 "nbformat": 4,
 "nbformat_minor": 5
}
