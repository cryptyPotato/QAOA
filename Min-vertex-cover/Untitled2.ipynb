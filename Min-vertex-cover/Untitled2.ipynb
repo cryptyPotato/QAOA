{
 "cells": [
  {
   "cell_type": "code",
   "execution_count": null,
   "id": "e94eacf7-88ff-47ac-9412-3f51d295c4de",
   "metadata": {},
   "outputs": [],
   "source": []
  },
  {
   "cell_type": "code",
   "execution_count": 1,
   "id": "6c8583aa-2b39-49c0-af35-6523f7d8726a",
   "metadata": {
    "tags": []
   },
   "outputs": [],
   "source": [
    "from sympy import symbols"
   ]
  },
  {
   "cell_type": "code",
   "execution_count": 2,
   "id": "990ca1b0-322a-476c-b6f4-4f97b0928f69",
   "metadata": {},
   "outputs": [],
   "source": [
    "from sympy.interactive.printing import init_printing"
   ]
  },
  {
   "cell_type": "code",
   "execution_count": 3,
   "id": "91f9bc48-c75c-402f-b3cf-2675b8345a55",
   "metadata": {
    "tags": []
   },
   "outputs": [],
   "source": [
    "from sympy.matrices import Matrix, eye, zeros, ones, diag, GramSchmidt"
   ]
  },
  {
   "cell_type": "code",
   "execution_count": 4,
   "id": "f1c9595c-6284-4a18-acab-2ae08d262465",
   "metadata": {
    "tags": []
   },
   "outputs": [],
   "source": [
    "w = Matrix([[0,0],[0,1]])\n",
    "x = Matrix([[0,1],[1,0]])\n",
    "i = Matrix([[1,0],[0,1]])\n",
    "def te(a,b,c,d):\n",
    "    return np.kron(a,np.kron(b,np.kron(c,d)))"
   ]
  },
  {
   "cell_type": "code",
   "execution_count": 5,
   "id": "9aa3b55a-ed02-4d5d-866c-ede27d657ae3",
   "metadata": {
    "tags": []
   },
   "outputs": [],
   "source": [
    "from sympy import KroneckerProduct as kp"
   ]
  },
  {
   "cell_type": "code",
   "execution_count": 6,
   "id": "486789cb-8988-4804-8851-01f10ea6fb21",
   "metadata": {
    "tags": []
   },
   "outputs": [],
   "source": [
    "from sympy.physics.quantum import TensorProduct as tp"
   ]
  },
  {
   "cell_type": "code",
   "execution_count": 7,
   "id": "2f4f4c37-0d94-4f4f-a555-ffc34ae31abd",
   "metadata": {
    "tags": []
   },
   "outputs": [],
   "source": [
    "def tc(a,b,c,d):\n",
    "    return tp(a,tp(b,tp(c,d)))"
   ]
  },
  {
   "cell_type": "code",
   "execution_count": 8,
   "id": "5594a406-a11e-41b4-be4d-c96d9c526e72",
   "metadata": {
    "tags": []
   },
   "outputs": [],
   "source": [
    "H = tc(x,w,w,w)+tc(w,x,i,i) + tc(w,i,x,i) + tc(w,i,i,x)"
   ]
  },
  {
   "cell_type": "code",
   "execution_count": 9,
   "id": "d930cbd5-6bc6-482b-b900-9a4efcf039e6",
   "metadata": {
    "tags": []
   },
   "outputs": [],
   "source": [
    "(P,d)=H.diagonalize()"
   ]
  },
  {
   "cell_type": "code",
   "execution_count": 10,
   "id": "915a547d-9c27-412e-8a83-7c8500a5328b",
   "metadata": {
    "tags": []
   },
   "outputs": [],
   "source": [
    "from sympy import exp,simplify"
   ]
  },
  {
   "cell_type": "code",
   "execution_count": 11,
   "id": "021e13b4-4451-4bd4-a01f-35129faa2dce",
   "metadata": {
    "tags": []
   },
   "outputs": [],
   "source": [
    "beta = symbols('beta')\n",
    "Adagger = simplify(exp(1j*beta*H))"
   ]
  },
  {
   "cell_type": "code",
   "execution_count": 12,
   "id": "62bedaa5-8a93-4d89-a090-e5977d3bc7c2",
   "metadata": {
    "tags": []
   },
   "outputs": [],
   "source": [
    "A = simplify(exp(-1j*beta*H))"
   ]
  },
  {
   "cell_type": "code",
   "execution_count": 13,
   "id": "a88198ca-77e5-4d98-9bdb-0185dc503040",
   "metadata": {
    "tags": []
   },
   "outputs": [],
   "source": [
    "z = i - 2*w\n",
    "Z = tc(z,i,i,i)+tc(i,z,i,i)+tc(i,i,z,i)+tc(i,i,i,z)"
   ]
  },
  {
   "cell_type": "code",
   "execution_count": 94,
   "id": "d0a0f469-bfec-4d2d-bc26-24038920fa26",
   "metadata": {
    "tags": []
   },
   "outputs": [
    {
     "data": {
      "text/latex": [
       "$\\displaystyle \\left[\\begin{array}{cccccccccccccccc}4 & 0 & 0 & 0 & 0 & 0 & 0 & 0 & 0 & 0 & 0 & 0 & 0 & 0 & 0 & 0\\\\0 & 2 & 0 & 0 & 0 & 0 & 0 & 0 & 0 & 0 & 0 & 0 & 0 & 0 & 0 & 0\\\\0 & 0 & 2 & 0 & 0 & 0 & 0 & 0 & 0 & 0 & 0 & 0 & 0 & 0 & 0 & 0\\\\0 & 0 & 0 & 0 & 0 & 0 & 0 & 0 & 0 & 0 & 0 & 0 & 0 & 0 & 0 & 0\\\\0 & 0 & 0 & 0 & 2 & 0 & 0 & 0 & 0 & 0 & 0 & 0 & 0 & 0 & 0 & 0\\\\0 & 0 & 0 & 0 & 0 & 0 & 0 & 0 & 0 & 0 & 0 & 0 & 0 & 0 & 0 & 0\\\\0 & 0 & 0 & 0 & 0 & 0 & 0 & 0 & 0 & 0 & 0 & 0 & 0 & 0 & 0 & 0\\\\0 & 0 & 0 & 0 & 0 & 0 & 0 & -2 & 0 & 0 & 0 & 0 & 0 & 0 & 0 & 0\\\\0 & 0 & 0 & 0 & 0 & 0 & 0 & 0 & 2 & 0 & 0 & 0 & 0 & 0 & 0 & 0\\\\0 & 0 & 0 & 0 & 0 & 0 & 0 & 0 & 0 & 0 & 0 & 0 & 0 & 0 & 0 & 0\\\\0 & 0 & 0 & 0 & 0 & 0 & 0 & 0 & 0 & 0 & 0 & 0 & 0 & 0 & 0 & 0\\\\0 & 0 & 0 & 0 & 0 & 0 & 0 & 0 & 0 & 0 & 0 & -2 & 0 & 0 & 0 & 0\\\\0 & 0 & 0 & 0 & 0 & 0 & 0 & 0 & 0 & 0 & 0 & 0 & 0 & 0 & 0 & 0\\\\0 & 0 & 0 & 0 & 0 & 0 & 0 & 0 & 0 & 0 & 0 & 0 & 0 & -2 & 0 & 0\\\\0 & 0 & 0 & 0 & 0 & 0 & 0 & 0 & 0 & 0 & 0 & 0 & 0 & 0 & -2 & 0\\\\0 & 0 & 0 & 0 & 0 & 0 & 0 & 0 & 0 & 0 & 0 & 0 & 0 & 0 & 0 & -4\\end{array}\\right]$"
      ],
      "text/plain": [
       "Matrix([\n",
       "[4, 0, 0, 0, 0, 0, 0,  0, 0, 0, 0,  0, 0,  0,  0,  0],\n",
       "[0, 2, 0, 0, 0, 0, 0,  0, 0, 0, 0,  0, 0,  0,  0,  0],\n",
       "[0, 0, 2, 0, 0, 0, 0,  0, 0, 0, 0,  0, 0,  0,  0,  0],\n",
       "[0, 0, 0, 0, 0, 0, 0,  0, 0, 0, 0,  0, 0,  0,  0,  0],\n",
       "[0, 0, 0, 0, 2, 0, 0,  0, 0, 0, 0,  0, 0,  0,  0,  0],\n",
       "[0, 0, 0, 0, 0, 0, 0,  0, 0, 0, 0,  0, 0,  0,  0,  0],\n",
       "[0, 0, 0, 0, 0, 0, 0,  0, 0, 0, 0,  0, 0,  0,  0,  0],\n",
       "[0, 0, 0, 0, 0, 0, 0, -2, 0, 0, 0,  0, 0,  0,  0,  0],\n",
       "[0, 0, 0, 0, 0, 0, 0,  0, 2, 0, 0,  0, 0,  0,  0,  0],\n",
       "[0, 0, 0, 0, 0, 0, 0,  0, 0, 0, 0,  0, 0,  0,  0,  0],\n",
       "[0, 0, 0, 0, 0, 0, 0,  0, 0, 0, 0,  0, 0,  0,  0,  0],\n",
       "[0, 0, 0, 0, 0, 0, 0,  0, 0, 0, 0, -2, 0,  0,  0,  0],\n",
       "[0, 0, 0, 0, 0, 0, 0,  0, 0, 0, 0,  0, 0,  0,  0,  0],\n",
       "[0, 0, 0, 0, 0, 0, 0,  0, 0, 0, 0,  0, 0, -2,  0,  0],\n",
       "[0, 0, 0, 0, 0, 0, 0,  0, 0, 0, 0,  0, 0,  0, -2,  0],\n",
       "[0, 0, 0, 0, 0, 0, 0,  0, 0, 0, 0,  0, 0,  0,  0, -4]])"
      ]
     },
     "execution_count": 94,
     "metadata": {},
     "output_type": "execute_result"
    }
   ],
   "source": [
    "Z"
   ]
  },
  {
   "cell_type": "code",
   "execution_count": 16,
   "id": "13ee704b-3ee4-4ac2-a674-0972e54e7ada",
   "metadata": {
    "tags": []
   },
   "outputs": [],
   "source": [
    "cost = Adagger*Z*A"
   ]
  },
  {
   "cell_type": "code",
   "execution_count": 117,
   "id": "8573f975-cb57-44e2-9f5e-8746b687192e",
   "metadata": {
    "tags": []
   },
   "outputs": [],
   "source": [
    "ze = Matrix([1,0])\n",
    "oe = Matrix([0,1])\n",
    "#vec = (1/np.sqrt(3))*(tc(oe,oe,ze,ze)+ tc(oe,ze,oe,ze)+tc(oe,ze,ze,oe))\n",
    "vec = tc(oe,oe,ze,ze)"
   ]
  },
  {
   "cell_type": "code",
   "execution_count": 118,
   "id": "194ed7c3-5b30-4774-a8bd-4153b9f2156b",
   "metadata": {
    "tags": []
   },
   "outputs": [],
   "source": [
    "F = simplify(vec.transpose()*cost*vec)"
   ]
  },
  {
   "cell_type": "code",
   "execution_count": 119,
   "id": "878933dd-695c-4f8c-b12f-c1ffa0f05785",
   "metadata": {
    "tags": []
   },
   "outputs": [
    {
     "data": {
      "text/latex": [
       "$\\displaystyle \\left[\\begin{array}{cccccccccccccccc}0 & 0 & 0 & 0 & 0 & 0 & 0 & 0 & 0 & 0 & 0 & 0 & 1 & 0 & 0 & 0\\end{array}\\right]$"
      ],
      "text/plain": [
       "Matrix([[0, 0, 0, 0, 0, 0, 0, 0, 0, 0, 0, 0, 1, 0, 0, 0]])"
      ]
     },
     "execution_count": 119,
     "metadata": {},
     "output_type": "execute_result"
    }
   ],
   "source": [
    "vec.transpose()"
   ]
  },
  {
   "cell_type": "code",
   "execution_count": 120,
   "id": "007cdd9b-8436-43b6-8e90-8d224846aed2",
   "metadata": {
    "tags": []
   },
   "outputs": [
    {
     "data": {
      "text/latex": [
       "$\\displaystyle \\left[\\begin{matrix}4.54677442389836 \\cdot 10^{-17} e^{0.313424067985899 i \\beta} + 1.64781947976122 \\cdot 10^{-33} e^{1.0 i \\beta} - 2.82990456422704 \\cdot 10^{-18} e^{1.3134240679859 i \\beta} + 0.0350877192982456 e^{1.73205080756887 i \\beta} + 0.210526315789474 e^{1.73205080756888 i \\beta} + 0.333333333333333 e^{2.0 i \\beta} - 1.76096556598508 \\cdot 10^{-17} e^{2.04547487555477 i \\beta} + 4.56394149566785 \\cdot 10^{-17} e^{2.3134240679859 i \\beta} - 0.0725869931371524 e^{2.6268481359718 i \\beta} - 2.82990456422704 \\cdot 10^{-18} e^{3.04547487555477 i \\beta} - 4.54145187516427 \\cdot 10^{-17} e^{4.04547487555477 i \\beta} - 0.105263157894737 e^{4.35889894354067 i \\beta} + 0.140350877192983 e^{4.35889894354068 i \\beta} + 0.063815063312591 e^{6.09094975110955 i \\beta} - 0.0701754385964913 e^{6.09094975110956 i \\beta} - 1.07017543859649 - 0.00636037528390023 e^{- 6.09094975110955 i \\beta} + 0.0350877192982456 e^{- 4.35889894354068 i \\beta} - 1.98038905515352 \\cdot 10^{-17} e^{- 4.04547487555477 i \\beta} + 2.82990456422704 \\cdot 10^{-18} e^{- 3.04547487555477 i \\beta} - 0.0725869931371524 e^{- 2.6268481359718 i \\beta} - 8.05419802759755 \\cdot 10^{-18} e^{- 2.31342406798591 i \\beta} - 4.28696791521471 \\cdot 10^{-17} e^{- 2.04547487555477 i \\beta} + 0.333333333333333 e^{- 2.0 i \\beta} + 0.245614035087719 e^{- 1.73205080756888 i \\beta} + 2.82990456422704 \\cdot 10^{-18} e^{- 1.31342406798591 i \\beta} + 2.36905976057971 \\cdot 10^{-33} e^{- 1.0 i \\beta} + 1.83586542834361 \\cdot 10^{-17} e^{- 0.313424067985906 i \\beta}\\end{matrix}\\right]$"
      ],
      "text/plain": [
       "Matrix([[4.54677442389836e-17*exp(0.313424067985899*I*beta) + 1.64781947976122e-33*exp(1.0*I*beta) - 2.82990456422704e-18*exp(1.3134240679859*I*beta) + 0.0350877192982456*exp(1.73205080756887*I*beta) + 0.210526315789474*exp(1.73205080756888*I*beta) + 0.333333333333333*exp(2.0*I*beta) - 1.76096556598508e-17*exp(2.04547487555477*I*beta) + 4.56394149566785e-17*exp(2.3134240679859*I*beta) - 0.0725869931371524*exp(2.6268481359718*I*beta) - 2.82990456422704e-18*exp(3.04547487555477*I*beta) - 4.54145187516427e-17*exp(4.04547487555477*I*beta) - 0.105263157894737*exp(4.35889894354067*I*beta) + 0.140350877192983*exp(4.35889894354068*I*beta) + 0.063815063312591*exp(6.09094975110955*I*beta) - 0.0701754385964913*exp(6.09094975110956*I*beta) - 1.07017543859649 - 0.00636037528390023*exp(-6.09094975110955*I*beta) + 0.0350877192982456*exp(-4.35889894354068*I*beta) - 1.98038905515352e-17*exp(-4.04547487555477*I*beta) + 2.82990456422704e-18*exp(-3.04547487555477*I*beta) - 0.0725869931371524*exp(-2.6268481359718*I*beta) - 8.05419802759755e-18*exp(-2.31342406798591*I*beta) - 4.28696791521471e-17*exp(-2.04547487555477*I*beta) + 0.333333333333333*exp(-2.0*I*beta) + 0.245614035087719*exp(-1.73205080756888*I*beta) + 2.82990456422704e-18*exp(-1.31342406798591*I*beta) + 2.36905976057971e-33*exp(-1.0*I*beta) + 1.83586542834361e-17*exp(-0.313424067985906*I*beta)]])"
      ]
     },
     "execution_count": 120,
     "metadata": {},
     "output_type": "execute_result"
    }
   ],
   "source": [
    "F"
   ]
  },
  {
   "cell_type": "code",
   "execution_count": 121,
   "id": "612cacfb-5a55-4ebf-84a4-e034727dfd2c",
   "metadata": {
    "tags": []
   },
   "outputs": [],
   "source": [
    "f = F[0]"
   ]
  },
  {
   "cell_type": "code",
   "execution_count": 122,
   "id": "c3b47436-0c1c-464f-8497-2f337facdac7",
   "metadata": {
    "tags": []
   },
   "outputs": [],
   "source": [
    "import numpy as np"
   ]
  },
  {
   "cell_type": "code",
   "execution_count": 123,
   "id": "3ecb8473-49f9-4881-a411-0b832948bbb8",
   "metadata": {
    "tags": []
   },
   "outputs": [],
   "source": [
    "b = np.linspace(0,2*np.pi,300)"
   ]
  },
  {
   "cell_type": "code",
   "execution_count": 124,
   "id": "7d58e15a-2d79-440b-8cbf-ba2bb7b7165c",
   "metadata": {
    "tags": []
   },
   "outputs": [],
   "source": [
    "c = [simplify(f.subs({beta:i})) for i in b]"
   ]
  },
  {
   "cell_type": "code",
   "execution_count": 125,
   "id": "b48a8bf8-358d-4ac9-8e34-d696006df149",
   "metadata": {
    "tags": []
   },
   "outputs": [],
   "source": [
    "d = [str(i) for i in c]"
   ]
  },
  {
   "cell_type": "code",
   "execution_count": 126,
   "id": "b609db63-b804-4b80-916a-1cfda5fa8f1c",
   "metadata": {
    "tags": []
   },
   "outputs": [],
   "source": [
    "e = [0]+[eval(k[:-2]) for k in d[1:]]"
   ]
  },
  {
   "cell_type": "code",
   "execution_count": 127,
   "id": "6f4d23a3-be23-4d45-a6aa-a127be17f441",
   "metadata": {
    "tags": []
   },
   "outputs": [],
   "source": [
    "e = np.array(e)"
   ]
  },
  {
   "cell_type": "code",
   "execution_count": 128,
   "id": "21c851c4-41a4-4d7c-ab44-148f2a4e6fe6",
   "metadata": {
    "tags": []
   },
   "outputs": [
    {
     "data": {
      "text/plain": [
       "array([ 0.00000000e+00, -8.83046200e-04, -3.53062360e-03, -7.93804190e-03,\n",
       "       -1.40974617e-02, -2.19978614e-02, -3.16249939e-02, -4.29613333e-02,\n",
       "       -5.59860152e-02, -7.06747727e-02, -8.69998724e-02, -1.04930051e-01,\n",
       "       -1.24430463e-01, -1.45462628e-01, -1.67984409e-01, -1.91949990e-01,\n",
       "       -2.17309888e-01, -2.44010988e-01, -2.71996597e-01, -3.01206547e-01,\n",
       "       -3.31577309e-01, -3.63042166e-01, -3.95531402e-01, -4.28972542e-01,\n",
       "       -4.63290626e-01, -4.98408511e-01, -5.34247225e-01, -5.70726337e-01,\n",
       "       -6.07764368e-01, -6.45279224e-01, -6.83188652e-01, -7.21410714e-01,\n",
       "       -7.59864276e-01, -7.98469497e-01, -8.37148321e-01, -8.75824971e-01,\n",
       "       -9.14426415e-01, -9.52882824e-01, -9.91128001e-01, -1.02909977e+00,\n",
       "       -1.06674035e+00, -1.10399664e+00, -1.14082050e+00, -1.17716894e+00,\n",
       "       -1.21300427e+00, -1.24829420e+00, -1.28301181e+00, -1.31713555e+00,\n",
       "       -1.35064907e+00, -1.38354105e+00, -1.41580493e+00, -1.44743860e+00,\n",
       "       -1.47844399e+00, -1.50882663e+00, -1.53859515e+00, -1.56776072e+00,\n",
       "       -1.59633645e+00, -1.62433678e+00, -1.65177682e+00, -1.67867169e+00,\n",
       "       -1.70503579e+00, -1.73088220e+00, -1.75622195e+00, -1.78106339e+00,\n",
       "       -1.80541156e+00, -1.82926765e+00, -1.85262841e+00, -1.87548572e+00,\n",
       "       -1.89782615e+00, -1.91963062e+00, -1.94087413e+00, -1.96152561e+00,\n",
       "       -1.98154778e+00, -2.00089715e+00, -2.01952412e+00, -2.03737315e+00,\n",
       "       -2.05438302e+00, -2.07048719e+00, -2.08561422e+00, -2.09968834e+00,\n",
       "       -2.11263003e+00, -2.12435669e+00, -2.13478337e+00, -2.14382359e+00,\n",
       "       -2.15139015e+00, -2.15739604e+00, -2.16175531e+00, -2.16438401e+00,\n",
       "       -2.16520110e+00, -2.16412937e+00, -2.16109637e+00, -2.15603523e+00,\n",
       "       -2.14888552e+00, -2.13959406e+00, -2.12811559e+00, -2.11441348e+00,\n",
       "       -2.09846029e+00, -2.08023828e+00, -2.05973982e+00, -2.03696774e+00,\n",
       "       -2.01193549e+00, -1.98466735e+00, -1.95519840e+00, -1.92357448e+00,\n",
       "       -1.88985198e+00, -1.85409763e+00, -1.81638809e+00, -1.77680953e+00,\n",
       "       -1.73545709e+00, -1.69243429e+00, -1.64785234e+00, -1.60182942e+00,\n",
       "       -1.55448988e+00, -1.50596345e+00, -1.45638435e+00, -1.40589046e+00,\n",
       "       -1.35462236e+00, -1.30272251e+00, -1.25033434e+00, -1.19760138e+00,\n",
       "       -1.14466642e+00, -1.09167074e+00, -1.03875331e+00, -9.86050074e-01,\n",
       "       -9.33693342e-01, -8.81811146e-01, -8.30526727e-01, -7.79958068e-01,\n",
       "       -7.30217499e-01, -6.81411375e-01, -6.33639822e-01, -5.86996557e-01,\n",
       "       -5.41568770e-01, -4.97437083e-01, -4.54675559e-01, -4.13351780e-01,\n",
       "       -3.73526968e-01, -3.35256165e-01, -2.98588445e-01, -2.63567172e-01,\n",
       "       -2.30230276e-01, -1.98610561e-01, -1.68736026e-01, -1.40630200e-01,\n",
       "       -1.14312470e-01, -8.97984209e-02, -6.71001563e-02, -4.62266142e-02,\n",
       "       -2.71838606e-02, -9.97536400e-03,  5.39775530e-03,  1.89365028e-02,\n",
       "        3.06438161e-02,  4.05244022e-02,  4.85846045e-02,  5.48323012e-02,\n",
       "        5.92768321e-02,  6.19289544e-02,  6.28008240e-02,  6.19060002e-02,\n",
       "        5.92594706e-02,  5.48776933e-02,  4.87786520e-02,  4.09819212e-02,\n",
       "        3.15087362e-02,  2.03820649e-02,  7.62667780e-03, -6.73078860e-03,\n",
       "       -2.26617780e-02, -4.01357723e-02, -5.91202660e-02, -7.95807575e-02,\n",
       "       -1.01480761e-01, -1.24781837e-01, -1.49443649e-01, -1.75424036e-01,\n",
       "       -2.02679110e-01, -2.31163376e-01, -2.60829863e-01, -2.91630280e-01,\n",
       "       -3.23515183e-01, -3.56434150e-01, -3.90335971e-01, -4.25168833e-01,\n",
       "       -4.60880515e-01, -4.97418569e-01, -5.34730503e-01, -5.72763946e-01,\n",
       "       -6.11466798e-01, -6.50787362e-01, -6.90674450e-01, -7.31077469e-01,\n",
       "       -7.71946474e-01, -8.13232186e-01, -8.54885989e-01, -8.96859886e-01,\n",
       "       -9.39106419e-01, -9.81578567e-01, -1.02422960e+00, -1.06701292e+00,\n",
       "       -1.10988186e+00, -1.15278943e+00, -1.19568814e+00, -1.23852970e+00,\n",
       "       -1.28126477e+00, -1.32384265e+00, -1.36621108e+00, -1.40831591e+00,\n",
       "       -1.45010089e+00, -1.49150740e+00, -1.53247428e+00, -1.57293764e+00,\n",
       "       -1.61283069e+00, -1.65208372e+00, -1.69062397e+00, -1.72837570e+00,\n",
       "       -1.76526020e+00, -1.80119594e+00, -1.83609877e+00, -1.86988211e+00,\n",
       "       -1.90245731e+00, -1.93373400e+00, -1.96362052e+00, -1.99202441e+00,\n",
       "       -2.01885299e+00, -2.04401389e+00, -2.06741576e+00, -2.08896893e+00,\n",
       "       -2.10858609e+00, -2.12618309e+00, -2.14167966e+00, -2.15500016e+00,\n",
       "       -2.16607438e+00, -2.17483826e+00, -2.18123464e+00, -2.18521393e+00,\n",
       "       -2.18673482e+00, -2.18576482e+00, -2.18228090e+00, -2.17626988e+00,\n",
       "       -2.16772894e+00, -2.15666588e+00, -2.14309940e+00, -2.12705925e+00,\n",
       "       -2.10858630e+00, -2.08773249e+00, -2.06456071e+00, -2.03914455e+00,\n",
       "       -2.01156796e+00, -1.98192487e+00, -1.95031858e+00, -1.91686125e+00,\n",
       "       -1.88167312e+00, -1.84488179e+00, -1.80662136e+00, -1.76703154e+00,\n",
       "       -1.72625671e+00, -1.68444489e+00, -1.64174679e+00, -1.59831469e+00,\n",
       "       -1.55430147e+00, -1.50985952e+00, -1.46513973e+00, -1.42029049e+00,\n",
       "       -1.37545673e+00, -1.33077898e+00, -1.28639253e+00, -1.24242662e+00,\n",
       "       -1.19900375e+00, -1.15623897e+00, -1.11423940e+00, -1.07310372e+00,\n",
       "       -1.03292178e+00, -9.93774377e-01, -9.55733042e-01, -9.18859969e-01,\n",
       "       -8.83208034e-01, -8.48820905e-01, -8.15733246e-01, -7.83971004e-01,\n",
       "       -7.53551776e-01, -7.24485249e-01, -6.96773713e-01, -6.70412616e-01,\n",
       "       -6.45391187e-01, -6.21693082e-01, -5.99297072e-01, -5.78177742e-01,\n",
       "       -5.58306212e-01, -5.39650844e-01, -5.22177955e-01, -5.05852504e-01,\n",
       "       -4.90638757e-01, -4.76500915e-01, -4.63403701e-01, -4.51312906e-01,\n",
       "       -4.40195870e-01, -4.30021915e-01, -4.20762712e-01, -4.12392582e-01])"
      ]
     },
     "execution_count": 128,
     "metadata": {},
     "output_type": "execute_result"
    }
   ],
   "source": [
    "np.round(e,10)"
   ]
  },
  {
   "cell_type": "code",
   "execution_count": 129,
   "id": "8a9ebb18-587c-4515-b00b-9af19b8e4acf",
   "metadata": {
    "tags": []
   },
   "outputs": [],
   "source": [
    "l = e*(-1)\n",
    "l = l/2 + 2"
   ]
  },
  {
   "cell_type": "code",
   "execution_count": 130,
   "id": "f2c6a125-28cb-4caf-8563-9617a26c46e7",
   "metadata": {
    "tags": []
   },
   "outputs": [],
   "source": [
    "import matplotlib.pyplot as plt"
   ]
  },
  {
   "cell_type": "code",
   "execution_count": 131,
   "id": "fd4abdcd-e254-4f82-a6b6-fdde4c740bab",
   "metadata": {
    "tags": []
   },
   "outputs": [
    {
     "data": {
      "text/plain": [
       "[<matplotlib.lines.Line2D at 0x154921e50>]"
      ]
     },
     "execution_count": 131,
     "metadata": {},
     "output_type": "execute_result"
    },
    {
     "data": {
      "image/png": "[encoded data removed]",
      "text/plain": [
       "<Figure size 640x480 with 1 Axes>"
      ]
     },
     "metadata": {},
     "output_type": "display_data"
    }
   ],
   "source": [
    "plt.plot(b,l)"
   ]
  },
  {
   "cell_type": "code",
   "execution_count": 132,
   "id": "b503d1b5-557c-4a2a-912b-7dc6dc20cf25",
   "metadata": {
    "tags": []
   },
   "outputs": [],
   "source": [
    "f = F[0].copy()"
   ]
  },
  {
   "cell_type": "code",
   "execution_count": 133,
   "id": "035dd05a-d688-4faf-8758-ca349d33867e",
   "metadata": {},
   "outputs": [
    {
     "data": {
      "text/latex": [
       "$\\displaystyle -8.32667268468867 \\cdot 10^{-17}$"
      ],
      "text/plain": [
       "-8.32667268468867e-17"
      ]
     },
     "execution_count": 133,
     "metadata": {},
     "output_type": "execute_result"
    }
   ],
   "source": [
    "f.subs({beta:0})"
   ]
  },
  {
   "cell_type": "code",
   "execution_count": 134,
   "id": "7a09cda7-b444-455d-9e64-9c92d897c41a",
   "metadata": {
    "tags": []
   },
   "outputs": [
    {
     "data": {
      "text/plain": [
       "1.9685995879830303"
      ]
     },
     "execution_count": 134,
     "metadata": {},
     "output_type": "execute_result"
    }
   ],
   "source": [
    "min(l)"
   ]
  },
  {
   "cell_type": "code",
   "execution_count": 135,
   "id": "8dfd82b4-d02f-4e27-bc3d-63cb9ef0f858",
   "metadata": {
    "tags": []
   },
   "outputs": [
    {
     "data": {
      "text/plain": [
       "(array([158]),)"
      ]
     },
     "execution_count": 135,
     "metadata": {},
     "output_type": "execute_result"
    }
   ],
   "source": [
    "np.where(l==np.min(l))"
   ]
  },
  {
   "cell_type": "code",
   "execution_count": 137,
   "id": "6d08703b-39ea-440d-9b20-39758fd98dbb",
   "metadata": {
    "tags": []
   },
   "outputs": [
    {
     "data": {
      "text/plain": [
       "3.3202116338942296"
      ]
     },
     "execution_count": 137,
     "metadata": {},
     "output_type": "execute_result"
    }
   ],
   "source": [
    "b[158]"
   ]
  },
  {
   "cell_type": "code",
   "execution_count": null,
   "id": "afa9f444-26bb-4cb5-956b-62d9b9c2e3ea",
   "metadata": {},
   "outputs": [],
   "source": []
  }
 ],
 "metadata": {
  "kernelspec": {
   "display_name": "Python 3 (ipykernel)",
   "language": "python",
   "name": "python3"
  },
  "language_info": {
   "codemirror_mode": {
    "name": "ipython",
    "version": 3
   },
   "file_extension": ".py",
   "mimetype": "text/x-python",
   "name": "python",
   "nbconvert_exporter": "python",
   "pygments_lexer": "ipython3",
   "version": "3.11.4"
  }
 },
 "nbformat": 4,
 "nbformat_minor": 5
}
