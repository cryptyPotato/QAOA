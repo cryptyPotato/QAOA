{
 "cells": [
  {
   "cell_type": "code",
   "execution_count": null,
   "id": "cca2aa37-9bf7-4a6d-9842-46e87ebad068",
   "metadata": {},
   "outputs": [],
   "source": []
  },
  {
   "cell_type": "code",
   "execution_count": 1,
   "id": "053f74be-ee93-4ae3-a6e3-af6904581a82",
   "metadata": {
    "tags": []
   },
   "outputs": [],
   "source": [
    "import Min_vertex_cover as mvc\n",
    "import networkx as nx\n",
    "import rustworkx as rx\n",
    "import csv\n",
    "import tensorflow as tf\n",
    "import matplotlib.pyplot as plt\n",
    "\n",
    "import pennylane as qml\n",
    "from pennylane.wires import Wires\n",
    "from pennylane import numpy as np\n",
    "from pennylane import qaoa\n"
   ]
  },
  {
   "cell_type": "code",
   "execution_count": 12,
   "id": "6e0c31f1-8cf2-4150-93d6-b35b83f288ef",
   "metadata": {
    "tags": []
   },
   "outputs": [],
   "source": [
    "edges = [(0,i) for i in range(1,7)]\n",
    "graph = nx.Graph(edges)\n"
   ]
  },
  {
   "cell_type": "code",
   "execution_count": 13,
   "id": "35537a8b-501b-4b62-916a-4c86e19183b5",
   "metadata": {},
   "outputs": [],
   "source": [
    "cost = mvc.cost_h(graph,1)\n",
    "mixer = mvc.bit_flip_mixer(graph,1)\n",
    "def qaoa_layer(gamma, beta):\n",
    "    qaoa.cost_layer(gamma, cost)\n",
    "    qaoa.mixer_layer(beta, mixer)\n",
    "\n",
    "wires = (graph.nodes())\n",
    "depth = 2\n",
    "\n",
    "def circuit(params, **kwargs):\n",
    "    qml.PauliX(wires=0)\n",
    "    qml.PauliX(wires=5)\n",
    "    qml.layer(qaoa_layer, depth, params[0],params[1])\n",
    "\n",
    "dev = qml.device(\"default.qubit\", wires=wires)\n",
    "\n",
    "@qml.qnode(dev)\n",
    "def cost_function(params):\n",
    "    circuit(params)\n",
    "    return qml.expval(cost_h)\n",
    "\n",
    "\n",
    "def exp_values(cost_h,mixer_h):\n",
    "    bet   = np.arange(0,2*np.pi,0.01)\n",
    "    gam   = np.linspace(1,1,np.size(bet))\n",
    "    res   = []\n",
    "    for i in range(np.size(bet)):\n",
    "        params = np.array([[gam[i]],[bet[i]]])\n",
    "        res   += [cost_function(params)]\n",
    "    return res"
   ]
  },
  {
   "cell_type": "code",
   "execution_count": null,
   "id": "b84035a0-b9fa-4139-b8a6-df69a332134f",
   "metadata": {},
   "outputs": [],
   "source": []
  },
  {
   "cell_type": "code",
   "execution_count": 14,
   "id": "1c0a098c-262d-448a-a372-969c571cc585",
   "metadata": {
    "tags": []
   },
   "outputs": [],
   "source": [
    "dev = qml.device(\"default.qubit\", wires=wires)\n",
    "\n",
    "@qml.qnode(dev)\n",
    "def cost_function(params):\n",
    "    circuit(params)\n",
    "    return qml.expval(cost)"
   ]
  },
  {
   "cell_type": "code",
   "execution_count": 15,
   "id": "49b739b9-7a1c-4f98-abfd-c990b8deedb5",
   "metadata": {
    "tags": []
   },
   "outputs": [],
   "source": [
    "optimizer = qml.GradientDescentOptimizer()\n",
    "steps = 100\n",
    "params = np.array([[0.5,0.5], [0.5,0.5]], requires_grad=True)"
   ]
  },
  {
   "cell_type": "code",
   "execution_count": 16,
   "id": "d9f4e606-2664-48ee-81e2-f9d091641f62",
   "metadata": {
    "tags": []
   },
   "outputs": [
    {
     "name": "stdout",
     "output_type": "stream",
     "text": [
      "Optimal Parameters\n",
      "[[5.00000000e-01 7.30709841e-01]\n",
      " [2.14023573e-09 2.11928282e-09]]\n"
     ]
    }
   ],
   "source": [
    "for i in range(steps):\n",
    "    params = optimizer.step(cost_function, params)\n",
    "\n",
    "print(\"Optimal Parameters\")\n",
    "print(params)"
   ]
  },
  {
   "cell_type": "code",
   "execution_count": 17,
   "id": "5bd106d7-f84f-491b-a073-646f4cd6a7d3",
   "metadata": {
    "tags": []
   },
   "outputs": [],
   "source": [
    "@qml.qnode(dev)\n",
    "def probability_circuit(gamma, alpha):\n",
    "    circuit([gamma, alpha])\n",
    "    return qml.probs(wires=wires)\n",
    "\n",
    "\n",
    "probs = probability_circuit(params[0], params[1])"
   ]
  },
  {
   "cell_type": "code",
   "execution_count": 18,
   "id": "c6258706-a5cc-4436-80c5-8f5651d23fff",
   "metadata": {
    "tags": []
   },
   "outputs": [
    {
     "data": {
      "image/png": "[encoded data removed]",
      "text/plain": [
       "<Figure size 640x480 with 1 Axes>"
      ]
     },
     "metadata": {},
     "output_type": "display_data"
    }
   ],
   "source": [
    "import matplotlib.pyplot as plt\n",
    "plt.bar(range(2 ** len(wires)), probs)\n",
    "plt.show()\n"
   ]
  },
  {
   "cell_type": "code",
   "execution_count": 27,
   "id": "3723a5f0-9a84-4f01-ad83-a8a6bd342e58",
   "metadata": {
    "tags": []
   },
   "outputs": [
    {
     "data": {
      "text/plain": [
       "(array([66]),)"
      ]
     },
     "execution_count": 27,
     "metadata": {},
     "output_type": "execute_result"
    }
   ],
   "source": [
    "np.where(probs == max(probs))"
   ]
  },
  {
   "cell_type": "code",
   "execution_count": 18,
   "id": "802ce93e-1923-4294-9544-fbfcc1b573ba",
   "metadata": {
    "tags": []
   },
   "outputs": [
    {
     "data": {
      "text/plain": [
       "tensor(1., requires_grad=True)"
      ]
     },
     "execution_count": 18,
     "metadata": {},
     "output_type": "execute_result"
    }
   ],
   "source": [
    "max(probs)"
   ]
  },
  {
   "cell_type": "code",
   "execution_count": null,
   "id": "6a0875b4-487c-4243-a28f-b4d9003ba023",
   "metadata": {},
   "outputs": [],
   "source": []
  },
  {
   "cell_type": "code",
   "execution_count": 20,
   "id": "87d2cf5e-e648-4408-942e-bf6d2c49a325",
   "metadata": {
    "tags": []
   },
   "outputs": [],
   "source": [
    "def qaoa_layer(gamma, beta):\n",
    "    qaoa.cost_layer(gamma, cost_h)\n",
    "    qaoa.mixer_layer(beta, mixer_h)\n",
    "\n",
    "wires = range(len(graph.nodes()))\n",
    "depth = 1\n",
    "\n",
    "def circuit(params, **kwargs):\n",
    "    for w in wires:\n",
    "        qml.PauliX(wires=w)\n",
    "    qml.layer(qaoa_layer, depth, params[0],params[1])\n",
    "\n",
    "dev = qml.device(\"default.qubit\", wires=wires)\n",
    "\n",
    "@qml.qnode(dev)\n",
    "def cost_function(params):\n",
    "    circuit(params)\n",
    "    return qml.expval(cost_h)\n",
    "\n",
    "\n",
    "def exp_values(cost_h,mixer_h):\n",
    "    bet   = np.arange(0,2*np.pi,0.01)\n",
    "    gam   = np.linspace(1,1,np.size(bet))\n",
    "    res   = []\n",
    "    for i in range(np.size(bet)):\n",
    "        params = np.array([[gam[i]],[bet[i]]])\n",
    "        res   += [cost_function(params)]\n",
    "    return res"
   ]
  },
  {
   "cell_type": "code",
   "execution_count": null,
   "id": "4a5f343d-e714-42ab-95ab-59058255dea2",
   "metadata": {
    "tags": []
   },
   "outputs": [],
   "source": [
    "cost_h = mvc.cost_h(graph,1)\n",
    "\n",
    "mixer_h_1 = mvc.bit_flip_mixer(graph,1)\n",
    "mixer_h = mixer_h_1\n",
    "exp_value_1 = exp_values(cost_h,mixer_h_1)"
   ]
  },
  {
   "cell_type": "code",
   "execution_count": null,
   "id": "0dadb287-ec26-4bc9-883f-cc35ad6fb93f",
   "metadata": {
    "tags": []
   },
   "outputs": [],
   "source": [
    "off_set = len(graph.nodes())/2\n",
    "c = []\n",
    "for a in exp_value_1:\n",
    "    c += [a.numpy()]\n",
    "c = np.array(c)\n",
    "c = c/2+off_set\n",
    "\n",
    "d = []\n",
    "for b in exp_value_2:\n",
    "    d +=[b.numpy()]\n",
    "    \n",
    "d = np.array(d)\n",
    "d = d/2 +off_set\n",
    "\n",
    "e = []\n",
    "for b in exp_value_3:\n",
    "    e +=[b.numpy()]\n",
    "    \n",
    "e = np.array(e)\n",
    "e = e/2 + off_set"
   ]
  },
  {
   "cell_type": "code",
   "execution_count": null,
   "id": "0cf0b42a-baef-4574-9022-d3ad699dadbb",
   "metadata": {
    "tags": []
   },
   "outputs": [],
   "source": [
    "import matplotlib.pyplot as plt\n",
    "bet   = np.arange(0,2*np.pi,0.01)\n",
    "plt.plot(bet,c,'r',label = 'H_M1')\n",
    "#plt.plot(bet,d,'b',label = 'H_M2')\n",
    "#plt.plot(bet,e,'g',label = 'H_M3')\n",
    "plt.plot(bet,np.linspace(np.mean(c),np.mean(c),np.size(bet)),'r')\n",
    "#plt.plot(bet,np.linspace(np.mean(d),np.mean(d),np.size(bet)),'b')\n",
    "#plt.plot(bet,np.linspace(np.mean(e),np.mean(e),np.size(bet)),'g')\n",
    "plt.xlabel('beta')\n",
    "plt.ylabel('F(beta)')\n",
    "plt.title(f'F(beta) vs beta for graph P_{int(2*off_set)} graph')\n",
    "plt.legend()\n",
    "plt.savefig(f'Results/Path-{int(2*off_set)}.png')\n",
    "plt.show()"
   ]
  }
 ],
 "metadata": {
  "kernelspec": {
   "display_name": "Python 3 (ipykernel)",
   "language": "python",
   "name": "python3"
  },
  "language_info": {
   "codemirror_mode": {
    "name": "ipython",
    "version": 3
   },
   "file_extension": ".py",
   "mimetype": "text/x-python",
   "name": "python",
   "nbconvert_exporter": "python",
   "pygments_lexer": "ipython3",
   "version": "3.11.4"
  }
 },
 "nbformat": 4,
 "nbformat_minor": 5
}
