{
 "cells": [
  {
   "cell_type": "code",
   "execution_count": null,
   "id": "cca2aa37-9bf7-4a6d-9842-46e87ebad068",
   "metadata": {},
   "outputs": [],
   "source": []
  },
  {
   "cell_type": "code",
   "execution_count": 2,
   "id": "053f74be-ee93-4ae3-a6e3-af6904581a82",
   "metadata": {
    "tags": []
   },
   "outputs": [],
   "source": [
    "import Min_vertex_cover as mvc\n",
    "import networkx as nx\n",
    "import rustworkx as rx\n",
    "import csv\n",
    "import tensorflow as tf\n",
    "import matplotlib.pyplot as plt\n",
    "\n",
    "import pennylane as qml\n",
    "from pennylane.wires import Wires\n",
    "from pennylane import numpy as np\n",
    "from pennylane import qaoa\n"
   ]
  },
  {
   "cell_type": "code",
   "execution_count": 3,
   "id": "6e0c31f1-8cf2-4150-93d6-b35b83f288ef",
   "metadata": {
    "tags": []
   },
   "outputs": [],
   "source": [
    "edges = [(0,i) for i in range(1,4)]\n",
    "graph = nx.Graph(edges)\n"
   ]
  },
  {
   "cell_type": "code",
   "execution_count": 4,
   "id": "35537a8b-501b-4b62-916a-4c86e19183b5",
   "metadata": {},
   "outputs": [],
   "source": [
    "cost = mvc.cost_h(graph,1)\n",
    "mixer = mvc.bit_flip_mixer_2(graph,1)\n",
    "def qaoa_layer(gamma, beta):\n",
    "    qaoa.cost_layer(gamma, cost)\n",
    "    qaoa.mixer_layer(beta, mixer)\n",
    "\n",
    "wires = (graph.nodes())\n",
    "depth = 2\n",
    "\n",
    "def circuit(params, **kwargs):\n",
    "    qml.PauliX(wires=0)\n",
    "    \n",
    "    qml.RY(2*np.arccos(1/np.sqrt(3)),wires=1)\n",
    "    qml.ctrl(qml.Hadamard, control=1)(wires=2)\n",
    "    qml.ctrl(qml.PauliX, control=2)(wires=3)\n",
    "    qml.ctrl(qml.PauliX, control=1)(wires=2)\n",
    "    #qml.PauliX(wires = 1)\n",
    "    \n",
    "    qml.layer(qaoa_layer, depth, params[0],params[1])\n",
    "\n",
    "dev = qml.device(\"default.qubit\", wires=wires)\n",
    "\n",
    "@qml.qnode(dev)\n",
    "def cost_function(params):\n",
    "    circuit(params)\n",
    "    return qml.expval(cost_h)\n",
    "\n",
    "\n",
    "def exp_values(cost_h,mixer_h):\n",
    "    bet   = np.arange(0,2*np.pi,0.01)\n",
    "    gam   = np.linspace(1,1,np.size(bet))\n",
    "    res   = []\n",
    "    for i in range(np.size(bet)):\n",
    "        params = np.array([[gam[i]],[bet[i]]])\n",
    "        res   += [cost_function(params)]\n",
    "    return res"
   ]
  },
  {
   "cell_type": "code",
   "execution_count": 5,
   "id": "1c0a098c-262d-448a-a372-969c571cc585",
   "metadata": {
    "tags": []
   },
   "outputs": [],
   "source": [
    "dev = qml.device(\"default.qubit\", wires=wires)\n",
    "\n",
    "@qml.qnode(dev)\n",
    "def cost_function(params):\n",
    "    circuit(params)\n",
    "    return qml.expval(cost)"
   ]
  },
  {
   "cell_type": "code",
   "execution_count": 6,
   "id": "49b739b9-7a1c-4f98-abfd-c990b8deedb5",
   "metadata": {
    "tags": []
   },
   "outputs": [],
   "source": [
    "#optimizer = qml.GradientDescentOptimizer()\n",
    "optimizer = qml.AdagradOptimizer()\n",
    "steps = 100\n",
    "#params = np.array([[0.5], []], requires_grad=True)\n",
    "params = np.array([[0.5,0.5],[6,6]],requires_grad=True)"
   ]
  },
  {
   "cell_type": "code",
   "execution_count": 7,
   "id": "d9f4e606-2664-48ee-81e2-f9d091641f62",
   "metadata": {
    "tags": []
   },
   "outputs": [
    {
     "name": "stdout",
     "output_type": "stream",
     "text": [
      "Optimal Parameters\n",
      "[[0.34001893 0.31610562]\n",
      " [6.10359477 6.13355728]]\n"
     ]
    }
   ],
   "source": [
    "for i in range(steps):\n",
    "    params = optimizer.step(cost_function, params)\n",
    "\n",
    "print(\"Optimal Parameters\")\n",
    "print(params)\n",
    "#params = np.array([[0.5],[3.6144076014544777]],requires_grad=True)"
   ]
  },
  {
   "cell_type": "code",
   "execution_count": 8,
   "id": "5bd106d7-f84f-491b-a073-646f4cd6a7d3",
   "metadata": {
    "tags": []
   },
   "outputs": [],
   "source": [
    "@qml.qnode(dev)\n",
    "def probability_circuit(gamma, alpha):\n",
    "    circuit([gamma, alpha])\n",
    "    return qml.probs(wires=wires)\n",
    "\n",
    "\n",
    "probs = probability_circuit(params[0], params[1])"
   ]
  },
  {
   "cell_type": "code",
   "execution_count": 9,
   "id": "c6258706-a5cc-4436-80c5-8f5651d23fff",
   "metadata": {
    "tags": []
   },
   "outputs": [
    {
     "data": {
      "image/png": "[encoded data removed]",
      "text/plain": [
       "<Figure size 640x480 with 1 Axes>"
      ]
     },
     "metadata": {},
     "output_type": "display_data"
    }
   ],
   "source": [
    "import matplotlib.pyplot as plt\n",
    "plt.bar(range(2 ** len(wires)), probs)\n",
    "plt.show()\n"
   ]
  },
  {
   "cell_type": "code",
   "execution_count": 10,
   "id": "8295c2b5-d3c8-4168-997d-533f30ac92fa",
   "metadata": {
    "tags": []
   },
   "outputs": [
    {
     "data": {
      "text/plain": [
       "tensor([ 4,  2,  1,  3,  6,  0,  5,  7, 15, 11, 12, 10,  9, 14, 13,  8], requires_grad=True)"
      ]
     },
     "execution_count": 10,
     "metadata": {},
     "output_type": "execute_result"
    }
   ],
   "source": [
    "np.argsort(probs)"
   ]
  },
  {
   "cell_type": "code",
   "execution_count": 11,
   "id": "3723a5f0-9a84-4f01-ad83-a8a6bd342e58",
   "metadata": {
    "tags": []
   },
   "outputs": [
    {
     "data": {
      "text/plain": [
       "(array([8]),)"
      ]
     },
     "execution_count": 11,
     "metadata": {},
     "output_type": "execute_result"
    }
   ],
   "source": [
    "np.where(probs == max(probs))"
   ]
  },
  {
   "cell_type": "code",
   "execution_count": 10,
   "id": "802ce93e-1923-4294-9544-fbfcc1b573ba",
   "metadata": {
    "tags": []
   },
   "outputs": [
    {
     "data": {
      "text/plain": [
       "tensor(0.34447771, requires_grad=True)"
      ]
     },
     "execution_count": 10,
     "metadata": {},
     "output_type": "execute_result"
    }
   ],
   "source": [
    "max(probs)"
   ]
  },
  {
   "cell_type": "code",
   "execution_count": null,
   "id": "6a0875b4-487c-4243-a28f-b4d9003ba023",
   "metadata": {},
   "outputs": [],
   "source": []
  },
  {
   "cell_type": "code",
   "execution_count": 11,
   "id": "87d2cf5e-e648-4408-942e-bf6d2c49a325",
   "metadata": {
    "tags": []
   },
   "outputs": [],
   "source": [
    "def qaoa_layer(gamma, beta):\n",
    "    qaoa.cost_layer(gamma, cost_h)\n",
    "    qaoa.mixer_layer(beta, mixer_h)\n",
    "\n",
    "wires = range(len(graph.nodes()))\n",
    "depth = 2\n",
    "\n",
    "def circuit(params, **kwargs):\n",
    "\n",
    "    qml.PauliX(wires=0)\n",
    "    qml.PauliX(wires = 1)\n",
    "    qml.layer(qaoa_layer, depth, params[0],params[1])\n",
    "\n",
    "dev = qml.device(\"default.qubit\", wires=wires)\n",
    "\n",
    "@qml.qnode(dev)\n",
    "def cost_function(params):\n",
    "    circuit(params)\n",
    "    return qml.expval(cost_h)\n",
    "\n",
    "\n",
    "def exp_values(cost_h,mixer_h):\n",
    "    bet   = np.arange(0,2*np.pi,0.01)\n",
    "    gam   = np.linspace(1,1,np.size(bet))\n",
    "    res   = []\n",
    "    for i in range(np.size(bet)):\n",
    "        params = np.array([[gam[i]],[bet[i]]])\n",
    "        res   += [cost_function(params)]\n",
    "    return res"
   ]
  },
  {
   "cell_type": "code",
   "execution_count": 12,
   "id": "4a5f343d-e714-42ab-95ab-59058255dea2",
   "metadata": {
    "tags": []
   },
   "outputs": [
    {
     "ename": "ValueError",
     "evalue": "Each positional argument must have length matching 'depth'; expected 2 got 1",
     "output_type": "error",
     "traceback": [
      "\u001b[0;31m---------------------------------------------------------------------------\u001b[0m",
      "\u001b[0;31mValueError\u001b[0m                                Traceback (most recent call last)",
      "Cell \u001b[0;32mIn[12], line 5\u001b[0m\n\u001b[1;32m      3\u001b[0m mixer_h_1 \u001b[38;5;241m=\u001b[39m mvc\u001b[38;5;241m.\u001b[39mbit_flip_mixer(graph,\u001b[38;5;241m1\u001b[39m)\n\u001b[1;32m      4\u001b[0m mixer_h \u001b[38;5;241m=\u001b[39m mixer_h_1\n\u001b[0;32m----> 5\u001b[0m exp_value_1 \u001b[38;5;241m=\u001b[39m \u001b[43mexp_values\u001b[49m\u001b[43m(\u001b[49m\u001b[43mcost_h\u001b[49m\u001b[43m,\u001b[49m\u001b[43mmixer_h_1\u001b[49m\u001b[43m)\u001b[49m\n",
      "Cell \u001b[0;32mIn[4], line 35\u001b[0m, in \u001b[0;36mexp_values\u001b[0;34m(cost_h, mixer_h)\u001b[0m\n\u001b[1;32m     33\u001b[0m \u001b[38;5;28;01mfor\u001b[39;00m i \u001b[38;5;129;01min\u001b[39;00m \u001b[38;5;28mrange\u001b[39m(np\u001b[38;5;241m.\u001b[39msize(bet)):\n\u001b[1;32m     34\u001b[0m     params \u001b[38;5;241m=\u001b[39m np\u001b[38;5;241m.\u001b[39marray([[gam[i]],[bet[i]]])\n\u001b[0;32m---> 35\u001b[0m     res   \u001b[38;5;241m+\u001b[39m\u001b[38;5;241m=\u001b[39m [\u001b[43mcost_function\u001b[49m\u001b[43m(\u001b[49m\u001b[43mparams\u001b[49m\u001b[43m)\u001b[49m]\n\u001b[1;32m     36\u001b[0m \u001b[38;5;28;01mreturn\u001b[39;00m res\n",
      "File \u001b[0;32m/opt/homebrew/lib/python3.11/site-packages/pennylane/qnode.py:853\u001b[0m, in \u001b[0;36mQNode.__call__\u001b[0;34m(self, *args, **kwargs)\u001b[0m\n\u001b[1;32m    850\u001b[0m         set_shots(\u001b[38;5;28mself\u001b[39m\u001b[38;5;241m.\u001b[39m_original_device, override_shots)(\u001b[38;5;28mself\u001b[39m\u001b[38;5;241m.\u001b[39m_update_gradient_fn)()\n\u001b[1;32m    852\u001b[0m \u001b[38;5;66;03m# construct the tape\u001b[39;00m\n\u001b[0;32m--> 853\u001b[0m \u001b[38;5;28;43mself\u001b[39;49m\u001b[38;5;241;43m.\u001b[39;49m\u001b[43mconstruct\u001b[49m\u001b[43m(\u001b[49m\u001b[43margs\u001b[49m\u001b[43m,\u001b[49m\u001b[43m \u001b[49m\u001b[43mkwargs\u001b[49m\u001b[43m)\u001b[49m\n\u001b[1;32m    855\u001b[0m cache \u001b[38;5;241m=\u001b[39m \u001b[38;5;28mself\u001b[39m\u001b[38;5;241m.\u001b[39mexecute_kwargs\u001b[38;5;241m.\u001b[39mget(\u001b[38;5;124m\"\u001b[39m\u001b[38;5;124mcache\u001b[39m\u001b[38;5;124m\"\u001b[39m, \u001b[38;5;28;01mFalse\u001b[39;00m)\n\u001b[1;32m    856\u001b[0m using_custom_cache \u001b[38;5;241m=\u001b[39m (\n\u001b[1;32m    857\u001b[0m     \u001b[38;5;28mhasattr\u001b[39m(cache, \u001b[38;5;124m\"\u001b[39m\u001b[38;5;124m__getitem__\u001b[39m\u001b[38;5;124m\"\u001b[39m)\n\u001b[1;32m    858\u001b[0m     \u001b[38;5;129;01mand\u001b[39;00m \u001b[38;5;28mhasattr\u001b[39m(cache, \u001b[38;5;124m\"\u001b[39m\u001b[38;5;124m__setitem__\u001b[39m\u001b[38;5;124m\"\u001b[39m)\n\u001b[1;32m    859\u001b[0m     \u001b[38;5;129;01mand\u001b[39;00m \u001b[38;5;28mhasattr\u001b[39m(cache, \u001b[38;5;124m\"\u001b[39m\u001b[38;5;124m__delitem__\u001b[39m\u001b[38;5;124m\"\u001b[39m)\n\u001b[1;32m    860\u001b[0m )\n",
      "File \u001b[0;32m/opt/homebrew/lib/python3.11/site-packages/pennylane/qnode.py:757\u001b[0m, in \u001b[0;36mQNode.construct\u001b[0;34m(self, args, kwargs)\u001b[0m\n\u001b[1;32m    754\u001b[0m \u001b[38;5;28;01mif\u001b[39;00m old_interface \u001b[38;5;241m==\u001b[39m \u001b[38;5;124m\"\u001b[39m\u001b[38;5;124mauto\u001b[39m\u001b[38;5;124m\"\u001b[39m:\n\u001b[1;32m    755\u001b[0m     \u001b[38;5;28mself\u001b[39m\u001b[38;5;241m.\u001b[39minterface \u001b[38;5;241m=\u001b[39m qml\u001b[38;5;241m.\u001b[39mmath\u001b[38;5;241m.\u001b[39mget_interface(\u001b[38;5;241m*\u001b[39margs, \u001b[38;5;241m*\u001b[39m\u001b[38;5;28mlist\u001b[39m(kwargs\u001b[38;5;241m.\u001b[39mvalues()))\n\u001b[0;32m--> 757\u001b[0m \u001b[38;5;28mself\u001b[39m\u001b[38;5;241m.\u001b[39m_tape \u001b[38;5;241m=\u001b[39m \u001b[43mmake_qscript\u001b[49m\u001b[43m(\u001b[49m\u001b[38;5;28;43mself\u001b[39;49m\u001b[38;5;241;43m.\u001b[39;49m\u001b[43mfunc\u001b[49m\u001b[43m)\u001b[49m\u001b[43m(\u001b[49m\u001b[38;5;241;43m*\u001b[39;49m\u001b[43margs\u001b[49m\u001b[43m,\u001b[49m\u001b[43m \u001b[49m\u001b[38;5;241;43m*\u001b[39;49m\u001b[38;5;241;43m*\u001b[39;49m\u001b[43mkwargs\u001b[49m\u001b[43m)\u001b[49m\n\u001b[1;32m    758\u001b[0m \u001b[38;5;28mself\u001b[39m\u001b[38;5;241m.\u001b[39m_qfunc_output \u001b[38;5;241m=\u001b[39m \u001b[38;5;28mself\u001b[39m\u001b[38;5;241m.\u001b[39mtape\u001b[38;5;241m.\u001b[39m_qfunc_output\n\u001b[1;32m    760\u001b[0m params \u001b[38;5;241m=\u001b[39m \u001b[38;5;28mself\u001b[39m\u001b[38;5;241m.\u001b[39mtape\u001b[38;5;241m.\u001b[39mget_parameters(trainable_only\u001b[38;5;241m=\u001b[39m\u001b[38;5;28;01mFalse\u001b[39;00m)\n",
      "File \u001b[0;32m/opt/homebrew/lib/python3.11/site-packages/pennylane/tape/qscript.py:1378\u001b[0m, in \u001b[0;36mmake_qscript.<locals>.wrapper\u001b[0;34m(*args, **kwargs)\u001b[0m\n\u001b[1;32m   1376\u001b[0m \u001b[38;5;28;01mdef\u001b[39;00m \u001b[38;5;21mwrapper\u001b[39m(\u001b[38;5;241m*\u001b[39margs, \u001b[38;5;241m*\u001b[39m\u001b[38;5;241m*\u001b[39mkwargs):\n\u001b[1;32m   1377\u001b[0m     \u001b[38;5;28;01mwith\u001b[39;00m AnnotatedQueue() \u001b[38;5;28;01mas\u001b[39;00m q:\n\u001b[0;32m-> 1378\u001b[0m         result \u001b[38;5;241m=\u001b[39m \u001b[43mfn\u001b[49m\u001b[43m(\u001b[49m\u001b[38;5;241;43m*\u001b[39;49m\u001b[43margs\u001b[49m\u001b[43m,\u001b[49m\u001b[43m \u001b[49m\u001b[38;5;241;43m*\u001b[39;49m\u001b[38;5;241;43m*\u001b[39;49m\u001b[43mkwargs\u001b[49m\u001b[43m)\u001b[49m\n\u001b[1;32m   1380\u001b[0m     qscript \u001b[38;5;241m=\u001b[39m QuantumScript\u001b[38;5;241m.\u001b[39mfrom_queue(q)\n\u001b[1;32m   1381\u001b[0m     qscript\u001b[38;5;241m.\u001b[39m_qfunc_output \u001b[38;5;241m=\u001b[39m result\n",
      "Cell \u001b[0;32mIn[5], line 5\u001b[0m, in \u001b[0;36mcost_function\u001b[0;34m(params)\u001b[0m\n\u001b[1;32m      3\u001b[0m \u001b[38;5;129m@qml\u001b[39m\u001b[38;5;241m.\u001b[39mqnode(dev)\n\u001b[1;32m      4\u001b[0m \u001b[38;5;28;01mdef\u001b[39;00m \u001b[38;5;21mcost_function\u001b[39m(params):\n\u001b[0;32m----> 5\u001b[0m     \u001b[43mcircuit\u001b[49m\u001b[43m(\u001b[49m\u001b[43mparams\u001b[49m\u001b[43m)\u001b[49m\n\u001b[1;32m      6\u001b[0m     \u001b[38;5;28;01mreturn\u001b[39;00m qml\u001b[38;5;241m.\u001b[39mexpval(cost)\n",
      "Cell \u001b[0;32mIn[4], line 19\u001b[0m, in \u001b[0;36mcircuit\u001b[0;34m(params, **kwargs)\u001b[0m\n\u001b[1;32m     16\u001b[0m qml\u001b[38;5;241m.\u001b[39mctrl(qml\u001b[38;5;241m.\u001b[39mPauliX, control\u001b[38;5;241m=\u001b[39m\u001b[38;5;241m1\u001b[39m)(wires\u001b[38;5;241m=\u001b[39m\u001b[38;5;241m2\u001b[39m)\n\u001b[1;32m     17\u001b[0m \u001b[38;5;66;03m#qml.PauliX(wires = 1)\u001b[39;00m\n\u001b[0;32m---> 19\u001b[0m \u001b[43mqml\u001b[49m\u001b[38;5;241;43m.\u001b[39;49m\u001b[43mlayer\u001b[49m\u001b[43m(\u001b[49m\u001b[43mqaoa_layer\u001b[49m\u001b[43m,\u001b[49m\u001b[43m \u001b[49m\u001b[43mdepth\u001b[49m\u001b[43m,\u001b[49m\u001b[43m \u001b[49m\u001b[43mparams\u001b[49m\u001b[43m[\u001b[49m\u001b[38;5;241;43m0\u001b[39;49m\u001b[43m]\u001b[49m\u001b[43m,\u001b[49m\u001b[43mparams\u001b[49m\u001b[43m[\u001b[49m\u001b[38;5;241;43m1\u001b[39;49m\u001b[43m]\u001b[49m\u001b[43m)\u001b[49m\n",
      "File \u001b[0;32m/opt/homebrew/lib/python3.11/site-packages/pennylane/templates/layer.py:208\u001b[0m, in \u001b[0;36mlayer\u001b[0;34m(template, depth, *args, **kwargs)\u001b[0m\n\u001b[1;32m     39\u001b[0m \u001b[38;5;28;01mdef\u001b[39;00m \u001b[38;5;21mlayer\u001b[39m(template, depth, \u001b[38;5;241m*\u001b[39margs, \u001b[38;5;241m*\u001b[39m\u001b[38;5;241m*\u001b[39mkwargs):\n\u001b[1;32m     40\u001b[0m \u001b[38;5;250m    \u001b[39m\u001b[38;5;124mr\u001b[39m\u001b[38;5;124;03m\"\"\"Repeatedly applies a unitary a given number of times.\u001b[39;00m\n\u001b[1;32m     41\u001b[0m \n\u001b[1;32m     42\u001b[0m \u001b[38;5;124;03m    Args:\u001b[39;00m\n\u001b[0;32m   (...)\u001b[0m\n\u001b[1;32m    205\u001b[0m \n\u001b[1;32m    206\u001b[0m \u001b[38;5;124;03m    \"\"\"\u001b[39;00m\n\u001b[0;32m--> 208\u001b[0m     \u001b[43m_preprocess\u001b[49m\u001b[43m(\u001b[49m\u001b[43margs\u001b[49m\u001b[43m,\u001b[49m\u001b[43m \u001b[49m\u001b[43mdepth\u001b[49m\u001b[43m)\u001b[49m\n\u001b[1;32m    210\u001b[0m     \u001b[38;5;28;01mfor\u001b[39;00m i \u001b[38;5;129;01min\u001b[39;00m \u001b[38;5;28mrange\u001b[39m(\u001b[38;5;241m0\u001b[39m, \u001b[38;5;28mint\u001b[39m(depth)):\n\u001b[1;32m    211\u001b[0m         arg_params \u001b[38;5;241m=\u001b[39m [k[i] \u001b[38;5;28;01mfor\u001b[39;00m k \u001b[38;5;129;01min\u001b[39;00m args]\n",
      "File \u001b[0;32m/opt/homebrew/lib/python3.11/site-packages/pennylane/templates/layer.py:34\u001b[0m, in \u001b[0;36m_preprocess\u001b[0;34m(args, depth)\u001b[0m\n\u001b[1;32m     31\u001b[0m \u001b[38;5;28;01mfor\u001b[39;00m arg \u001b[38;5;129;01min\u001b[39;00m args:\n\u001b[1;32m     32\u001b[0m     \u001b[38;5;66;03m# TODO: handle ragged arrays without warnings\u001b[39;00m\n\u001b[1;32m     33\u001b[0m     \u001b[38;5;28;01mif\u001b[39;00m shape(arg)[\u001b[38;5;241m0\u001b[39m] \u001b[38;5;241m!=\u001b[39m depth:\n\u001b[0;32m---> 34\u001b[0m         \u001b[38;5;28;01mraise\u001b[39;00m \u001b[38;5;167;01mValueError\u001b[39;00m(\n\u001b[1;32m     35\u001b[0m             \u001b[38;5;124mf\u001b[39m\u001b[38;5;124m\"\u001b[39m\u001b[38;5;124mEach positional argument must have length matching \u001b[39m\u001b[38;5;124m'\u001b[39m\u001b[38;5;124mdepth\u001b[39m\u001b[38;5;124m'\u001b[39m\u001b[38;5;124m; expected \u001b[39m\u001b[38;5;132;01m{\u001b[39;00mdepth\u001b[38;5;132;01m}\u001b[39;00m\u001b[38;5;124m got \u001b[39m\u001b[38;5;132;01m{\u001b[39;00m\u001b[38;5;28mlen\u001b[39m(arg)\u001b[38;5;132;01m}\u001b[39;00m\u001b[38;5;124m\"\u001b[39m\n\u001b[1;32m     36\u001b[0m         )\n",
      "\u001b[0;31mValueError\u001b[0m: Each positional argument must have length matching 'depth'; expected 2 got 1"
     ]
    }
   ],
   "source": [
    "cost_h = mvc.cost_h(graph,1)\n",
    "\n",
    "mixer_h_1 = mvc.bit_flip_mixer(graph,1)\n",
    "mixer_h = mixer_h_1\n",
    "exp_value_1 = exp_values(cost_h,mixer_h_1)"
   ]
  },
  {
   "cell_type": "code",
   "execution_count": null,
   "id": "0dadb287-ec26-4bc9-883f-cc35ad6fb93f",
   "metadata": {
    "tags": []
   },
   "outputs": [],
   "source": [
    "off_set = len(graph.nodes())/2\n",
    "c = []\n",
    "for a in exp_value_1:\n",
    "    c += [a.numpy()]\n",
    "c = np.array(c)\n",
    "c = c/2+off_set\n",
    "\n"
   ]
  },
  {
   "cell_type": "code",
   "execution_count": null,
   "id": "0cf0b42a-baef-4574-9022-d3ad699dadbb",
   "metadata": {
    "tags": []
   },
   "outputs": [],
   "source": [
    "import matplotlib.pyplot as plt\n",
    "bet   = np.arange(0,2*np.pi,0.01)\n",
    "plt.plot(bet,c,'r',label = 'H_M1')\n",
    "#plt.plot(bet,d,'b',label = 'H_M2')\n",
    "#plt.plot(bet,e,'g',label = 'H_M3')\n",
    "plt.plot(bet,np.linspace(np.mean(c),np.mean(c),np.size(bet)),'r')\n",
    "#plt.plot(bet,np.linspace(np.mean(d),np.mean(d),np.size(bet)),'b')\n",
    "#plt.plot(bet,np.linspace(np.mean(e),np.mean(e),np.size(bet)),'g')\n",
    "plt.xlabel('beta')\n",
    "plt.ylabel('F(beta)')\n",
    "plt.title(f'F(beta) vs beta for graph P_{int(2*off_set)} graph')\n",
    "plt.legend()\n",
    "plt.savefig(f'Results/Path-{int(2*off_set)}.png')\n",
    "plt.show()"
   ]
  },
  {
   "cell_type": "code",
   "execution_count": null,
   "id": "af444dc5-31ef-4fa4-856a-2aae81ef86b7",
   "metadata": {},
   "outputs": [],
   "source": []
  },
  {
   "cell_type": "code",
   "execution_count": 13,
   "id": "85f97766-d587-4924-89b3-ccaf95d9a1da",
   "metadata": {
    "tags": []
   },
   "outputs": [],
   "source": [
    "w = np.array([[0,0],[0,1]])\n",
    "x = np.array([[0,1],[1,0]])\n",
    "i = np.array([[1,0],[0,1]])\n",
    "def te(a,b,c,d):\n",
    "    return np.kron(a,np.kron(b,np.kron(c,d)))"
   ]
  },
  {
   "cell_type": "code",
   "execution_count": 14,
   "id": "6017238c-decf-4a46-b185-c0e5857fa852",
   "metadata": {
    "tags": []
   },
   "outputs": [],
   "source": [
    "m = te(x,w,w,w)+te(w,x,i,i)+te(w,i,x,i)+te(w,i,i,x)"
   ]
  },
  {
   "cell_type": "code",
   "execution_count": 15,
   "id": "5ffd7113-1db4-4789-84c5-07cb5399da16",
   "metadata": {
    "tags": []
   },
   "outputs": [
    {
     "ename": "AttributeError",
     "evalue": "'tensor' object has no attribute 'diagonalize'",
     "output_type": "error",
     "traceback": [
      "\u001b[0;31m---------------------------------------------------------------------------\u001b[0m",
      "\u001b[0;31mAttributeError\u001b[0m                            Traceback (most recent call last)",
      "Cell \u001b[0;32mIn[15], line 1\u001b[0m\n\u001b[0;32m----> 1\u001b[0m (p,d)\u001b[38;5;241m=\u001b[39m\u001b[43mm\u001b[49m\u001b[38;5;241;43m.\u001b[39;49m\u001b[43mdiagonalize\u001b[49m()\n",
      "\u001b[0;31mAttributeError\u001b[0m: 'tensor' object has no attribute 'diagonalize'"
     ]
    }
   ],
   "source": [
    "(p,d)=m.diagonalize()"
   ]
  },
  {
   "cell_type": "code",
   "execution_count": 16,
   "id": "c709dbf3-6831-4b9c-87f7-d21d1cbaf4d5",
   "metadata": {},
   "outputs": [],
   "source": [
    "from sympy import symbols"
   ]
  },
  {
   "cell_type": "code",
   "execution_count": null,
   "id": "5e22c495-ddc3-429c-864d-00a4e383595c",
   "metadata": {},
   "outputs": [],
   "source": [
    "from sympy.interactive.printing import init_printing"
   ]
  },
  {
   "cell_type": "code",
   "execution_count": null,
   "id": "db61b0d6-0920-4b8f-ba22-daf66a61a31d",
   "metadata": {},
   "outputs": [],
   "source": [
    "from sympy.matrices import Matrix, eye, zeros, ones, diag, GramSchmidt"
   ]
  },
  {
   "cell_type": "code",
   "execution_count": null,
   "id": "a825974a-34b0-4b6f-b874-86519b18d9cf",
   "metadata": {},
   "outputs": [],
   "source": [
    "w = Matrix([[0,0],[0,1]])\n",
    "x = Matrix([[0,1],[1,0]])\n",
    "i = Matrix([[1,0],[0,1]])\n",
    "def te(a,b,c,d):\n",
    "    return np.kron(a,np.kron(b,np.kron(c,d)))"
   ]
  },
  {
   "cell_type": "code",
   "execution_count": null,
   "id": "3d199038-4eb8-4e07-a852-9cefd8507a63",
   "metadata": {},
   "outputs": [],
   "source": [
    "from sympy import KroneckerProduct as kp"
   ]
  },
  {
   "cell_type": "code",
   "execution_count": null,
   "id": "af35a25a-c943-4f9d-955c-65ead8c88621",
   "metadata": {},
   "outputs": [],
   "source": [
    "from sympy.physics.quantum import TensorProduct as tp"
   ]
  },
  {
   "cell_type": "code",
   "execution_count": null,
   "id": "6a574d22-27ba-4ec0-8678-6417660bae8c",
   "metadata": {},
   "outputs": [],
   "source": [
    "def tc(a,b,c,d):\n",
    "    return tp(a,tp(b,tp(c,d)))"
   ]
  },
  {
   "cell_type": "code",
   "execution_count": null,
   "id": "4727a6fd-ea91-45f7-a148-65e8579d1209",
   "metadata": {},
   "outputs": [],
   "source": [
    "H = tc(x,w,w,w)+tc(w,x,i,i) + tc(w,i,x,i) + tc(w,i,i,x)"
   ]
  },
  {
   "cell_type": "code",
   "execution_count": null,
   "id": "a8c6608c-c4f3-4795-91d4-3dfabd709efc",
   "metadata": {},
   "outputs": [],
   "source": [
    "(P,d)=H.diagonalize()"
   ]
  },
  {
   "cell_type": "code",
   "execution_count": null,
   "id": "e0865986-9605-4e7a-a21e-00d8ee4cc137",
   "metadata": {},
   "outputs": [],
   "source": [
    "from sympy import exp,simplify"
   ]
  },
  {
   "cell_type": "code",
   "execution_count": null,
   "id": "c60e4758-4736-4fb6-8e02-adec6baf930b",
   "metadata": {},
   "outputs": [],
   "source": [
    "beta = symbols('beta')\n",
    "Adagger = simplify(exp(1j*beta*diag(H)))"
   ]
  },
  {
   "cell_type": "code",
   "execution_count": null,
   "id": "0b399b49-ed42-4fb9-bcd6-89443caf2bf5",
   "metadata": {},
   "outputs": [],
   "source": [
    "A = simplify(exp(-1j*beta*diag(H)))"
   ]
  },
  {
   "cell_type": "code",
   "execution_count": null,
   "id": "03c4fcf2-8315-41b4-988d-1c82546f87a8",
   "metadata": {},
   "outputs": [],
   "source": [
    "z = i - 2*w\n",
    "Z = tc(z,i,i,i)+tc(i,z,i,i)+tc(i,i,z,i)+tc(i,i,i,z)"
   ]
  },
  {
   "cell_type": "code",
   "execution_count": null,
   "id": "59103d7b-1858-4ff2-836c-eda3fc810df9",
   "metadata": {},
   "outputs": [],
   "source": [
    "P*Adagger*P.inv()*Z*P*A*P.inv()"
   ]
  },
  {
   "cell_type": "code",
   "execution_count": null,
   "id": "81386592-bbe0-4e76-9f41-349ab77f68b2",
   "metadata": {},
   "outputs": [],
   "source": []
  }
 ],
 "metadata": {
  "kernelspec": {
   "display_name": "Python 3 (ipykernel)",
   "language": "python",
   "name": "python3"
  },
  "language_info": {
   "codemirror_mode": {
    "name": "ipython",
    "version": 3
   },
   "file_extension": ".py",
   "mimetype": "text/x-python",
   "name": "python",
   "nbconvert_exporter": "python",
   "pygments_lexer": "ipython3",
   "version": "3.11.4"
  }
 },
 "nbformat": 4,
 "nbformat_minor": 5
}
