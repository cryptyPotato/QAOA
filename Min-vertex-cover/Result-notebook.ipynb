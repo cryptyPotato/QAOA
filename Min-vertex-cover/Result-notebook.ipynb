{
 "cells": [
  {
   "cell_type": "code",
   "execution_count": 1,
   "id": "6120ec0f-0dcb-4b0b-abf3-0fa3611510b5",
   "metadata": {
    "tags": []
   },
   "outputs": [],
   "source": [
    "import Min_vertex_cover as mvc\n",
    "import networkx as nx\n",
    "import rustworkx as rx\n",
    "import csv\n",
    "import tensorflow as tf\n",
    "import matplotlib.pyplot as plt\n",
    "\n",
    "import pennylane as qml\n",
    "from pennylane.wires import Wires\n",
    "from pennylane import numpy as np\n",
    "from pennylane import qaoa\n"
   ]
  },
  {
   "cell_type": "code",
   "execution_count": 2,
   "id": "9c6f0c14-271f-41c9-a48c-50754b25e074",
   "metadata": {
    "tags": []
   },
   "outputs": [],
   "source": [
    "edges = [(0,i) for i in range(1,4)]\n",
    "graph = nx.Graph(edges)\n"
   ]
  },
  {
   "cell_type": "code",
   "execution_count": null,
   "id": "7d22881c-0c25-4639-9edc-49419ce3c647",
   "metadata": {},
   "outputs": [],
   "source": []
  },
  {
   "cell_type": "code",
   "execution_count": 7,
   "id": "26d6cc74-cfd0-459e-97a1-a02498cda4f2",
   "metadata": {},
   "outputs": [],
   "source": [
    "cost = mvc.cost_h(graph,1)\n",
    "mixer = mvc.bit_flip_mixer(graph,1)\n",
    "def qaoa_layer(gamma, beta):\n",
    "    qaoa.cost_layer(gamma, cost)\n",
    "    qaoa.mixer_layer(beta, mixer)\n",
    "\n",
    "wires = (graph.nodes())\n",
    "depth = 1\n",
    "\n",
    "def circuit(params, **kwargs):\n",
    "    for w in wires:\n",
    "        qml.PauliX(wires=w)\n",
    "    qml.layer(qaoa_layer, depth, params[0],params[1])\n",
    "\n",
    "dev = qml.device(\"default.qubit\", wires=wires)\n",
    "\n",
    "@qml.qnode(dev)\n",
    "def cost_function(params):\n",
    "    circuit(params)\n",
    "    return qml.expval(cost_h)\n",
    "\n",
    "\n",
    "def exp_values(cost_h,mixer_h):\n",
    "    bet   = np.arange(0,2*np.pi,0.01)\n",
    "    gam   = np.linspace(1,1,np.size(bet))\n",
    "    res   = []\n",
    "    for i in range(np.size(bet)):\n",
    "        params = np.array([[gam[i]],[bet[i]]])\n",
    "        res   += [cost_function(params)]\n",
    "    return res"
   ]
  },
  {
   "cell_type": "code",
   "execution_count": null,
   "id": "0ef5e30e-d20f-4514-8493-d5008508379e",
   "metadata": {},
   "outputs": [],
   "source": []
  },
  {
   "cell_type": "code",
   "execution_count": 8,
   "id": "294bdc61-c166-46a8-9856-bb1d50016cd9",
   "metadata": {
    "tags": []
   },
   "outputs": [],
   "source": [
    "dev = qml.device(\"default.qubit\", wires=wires)\n",
    "\n",
    "@qml.qnode(dev)\n",
    "def cost_function(params):\n",
    "    circuit(params)\n",
    "    return qml.expval(cost)"
   ]
  },
  {
   "cell_type": "code",
   "execution_count": 9,
   "id": "b995ee2b-61cd-4e68-ab6a-4b60dcc783f0",
   "metadata": {
    "tags": []
   },
   "outputs": [],
   "source": [
    "optimizer = qml.GradientDescentOptimizer()\n",
    "steps = 100\n",
    "params = np.array([[0.5], [0.5]], requires_grad=True)"
   ]
  },
  {
   "cell_type": "code",
   "execution_count": 10,
   "id": "df173758-6a80-4d40-84c4-407014b83531",
   "metadata": {
    "tags": []
   },
   "outputs": [
    {
     "name": "stdout",
     "output_type": "stream",
     "text": [
      "Optimal Parameters\n",
      "[[0.5       ]\n",
      " [0.95531187]]\n"
     ]
    }
   ],
   "source": [
    "for i in range(steps):\n",
    "    params = optimizer.step(cost_function, params)\n",
    "\n",
    "print(\"Optimal Parameters\")\n",
    "print(params)"
   ]
  },
  {
   "cell_type": "code",
   "execution_count": 11,
   "id": "c133d8ff-6b87-4ada-814d-3d5d7d529314",
   "metadata": {
    "tags": []
   },
   "outputs": [],
   "source": [
    "@qml.qnode(dev)\n",
    "def probability_circuit(gamma, alpha):\n",
    "    circuit([gamma, alpha])\n",
    "    return qml.probs(wires=wires)\n",
    "\n",
    "\n",
    "probs = probability_circuit(params[0], params[1])"
   ]
  },
  {
   "cell_type": "code",
   "execution_count": 12,
   "id": "fb548665-f0c3-4e45-9294-bbb66d2296bf",
   "metadata": {
    "tags": []
   },
   "outputs": [
    {
     "data": {
      "image/png": "[encoded data removed]",
      "text/plain": [
       "<Figure size 640x480 with 1 Axes>"
      ]
     },
     "metadata": {},
     "output_type": "display_data"
    }
   ],
   "source": [
    "import matplotlib.pyplot as plt\n",
    "plt.bar(range(2 ** len(wires)), probs)\n",
    "plt.show()\n"
   ]
  },
  {
   "cell_type": "code",
   "execution_count": 13,
   "id": "2983dcf6-9c9d-472d-9446-49d6ba5cde09",
   "metadata": {
    "tags": []
   },
   "outputs": [
    {
     "data": {
      "text/plain": [
       "(array([7]),)"
      ]
     },
     "execution_count": 13,
     "metadata": {},
     "output_type": "execute_result"
    }
   ],
   "source": [
    "\n",
    "np.where(probs == max(probs))"
   ]
  },
  {
   "cell_type": "code",
   "execution_count": 14,
   "id": "0126109f-e2a5-42ba-a037-63017c17aa20",
   "metadata": {
    "tags": []
   },
   "outputs": [
    {
     "data": {
      "text/plain": [
       "tensor(0.66666219, requires_grad=True)"
      ]
     },
     "execution_count": 14,
     "metadata": {},
     "output_type": "execute_result"
    }
   ],
   "source": [
    "max(probs)"
   ]
  },
  {
   "cell_type": "code",
   "execution_count": 15,
   "id": "a6d4bf72-d67f-4ce9-ac43-be54d0f38727",
   "metadata": {
    "tags": []
   },
   "outputs": [],
   "source": [
    "def qaoa_layer(gamma, beta):\n",
    "    qaoa.cost_layer(gamma, cost_h)\n",
    "    qaoa.mixer_layer(beta, mixer_h)\n",
    "\n",
    "wires = range(len(graph.nodes()))\n",
    "depth = 1\n",
    "\n",
    "def circuit(params, **kwargs):\n",
    "    for w in wires:\n",
    "        qml.PauliX(wires=w)\n",
    "    qml.layer(qaoa_layer, depth, params[0],params[1])\n",
    "\n",
    "dev = qml.device(\"default.qubit\", wires=wires)\n",
    "\n",
    "@qml.qnode(dev)\n",
    "def cost_function(params):\n",
    "    circuit(params)\n",
    "    return qml.expval(cost_h)\n",
    "\n",
    "\n",
    "def exp_values(cost_h,mixer_h):\n",
    "    bet   = np.arange(0,2*np.pi,0.01)\n",
    "    gam   = np.linspace(1,1,np.size(bet))\n",
    "    res   = []\n",
    "    for i in range(np.size(bet)):\n",
    "        params = np.array([[gam[i]],[bet[i]]])\n",
    "        res   += [cost_function(params)]\n",
    "    return res"
   ]
  },
  {
   "cell_type": "code",
   "execution_count": 16,
   "id": "4a2f481b-38af-4adb-9f62-9cfa6e1c62ff",
   "metadata": {
    "tags": []
   },
   "outputs": [],
   "source": [
    "cost_h = mvc.cost_h(graph,1)\n",
    "\n",
    "mixer_h_1 = mvc.bit_flip_mixer(graph,1)\n",
    "mixer_h = mixer_h_1\n",
    "exp_value_1 = exp_values(cost_h,mixer_h_1)"
   ]
  },
  {
   "cell_type": "code",
   "execution_count": 18,
   "id": "0cb96af5-239b-49d7-a47b-8360db241b95",
   "metadata": {
    "tags": []
   },
   "outputs": [],
   "source": [
    "off_set = len(graph.nodes())/2\n",
    "c = []\n",
    "for a in exp_value_1:\n",
    "    c += [a.numpy()]\n",
    "c = np.array(c)\n",
    "c = c/2+off_set\n",
    "\n"
   ]
  },
  {
   "cell_type": "code",
   "execution_count": 19,
   "id": "637f4dc8-e7ec-4cd4-afb4-49720607ad81",
   "metadata": {
    "tags": []
   },
   "outputs": [
    {
     "data": {
      "image/png": "[encoded data removed]",
      "text/plain": [
       "<Figure size 640x480 with 1 Axes>"
      ]
     },
     "metadata": {},
     "output_type": "display_data"
    }
   ],
   "source": [
    "import matplotlib.pyplot as plt\n",
    "bet   = np.arange(0,2*np.pi,0.01)\n",
    "plt.plot(bet,c,'r',label = 'H_M1')\n",
    "#plt.plot(bet,d,'b',label = 'H_M2')\n",
    "#plt.plot(bet,e,'g',label = 'H_M3')\n",
    "plt.plot(bet,np.linspace(np.mean(c),np.mean(c),np.size(bet)),'r')\n",
    "#plt.plot(bet,np.linspace(np.mean(d),np.mean(d),np.size(bet)),'b')\n",
    "#plt.plot(bet,np.linspace(np.mean(e),np.mean(e),np.size(bet)),'g')\n",
    "plt.xlabel('beta')\n",
    "plt.ylabel('F(beta)')\n",
    "plt.title(f'F(beta) vs beta for graph P_{int(2*off_set)} graph')\n",
    "plt.legend()\n",
    "plt.savefig(f'Results/Path-{int(2*off_set)}.png')\n",
    "plt.show()"
   ]
  },
  {
   "cell_type": "code",
   "execution_count": null,
   "id": "97e3f81b-bf43-482c-a0da-75643d641aa1",
   "metadata": {},
   "outputs": [],
   "source": []
  }
 ],
 "metadata": {
  "kernelspec": {
   "display_name": "Python 3 (ipykernel)",
   "language": "python",
   "name": "python3"
  },
  "language_info": {
   "codemirror_mode": {
    "name": "ipython",
    "version": 3
   },
   "file_extension": ".py",
   "mimetype": "text/x-python",
   "name": "python",
   "nbconvert_exporter": "python",
   "pygments_lexer": "ipython3",
   "version": "3.11.4"
  }
 },
 "nbformat": 4,
 "nbformat_minor": 5
}
