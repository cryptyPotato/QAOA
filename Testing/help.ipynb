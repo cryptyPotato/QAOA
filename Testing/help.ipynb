{
 "cells": [
  {
   "cell_type": "code",
   "execution_count": 8,
   "id": "ff3a66a6-fe10-4be1-bb21-8b7f487366f1",
   "metadata": {
    "tags": []
   },
   "outputs": [],
   "source": [
    "import itertools\n",
    "import functools\n",
    "from typing import Iterable, Union\n",
    "\n",
    "import networkx as nx\n",
    "import rustworkx as rx\n",
    "\n",
    "import pennylane as qml\n",
    "from pennylane.wires import Wires\n",
    "from pennylane import numpy as nps\n",
    "from pennylane.qaoa.cost import bit_driver"
   ]
  },
  {
   "cell_type": "code",
   "execution_count": 2,
   "id": "0c5f22c6-505e-4d9d-98a2-63e686c8ef8b",
   "metadata": {
    "tags": []
   },
   "outputs": [],
   "source": [
    "n_terms = [[qml.PauliX(0)],[qml.Identity(1),qml.PauliZ(1)],[qml.Identity(2),qml.PauliZ(2)]]\n",
    "final_terms = [qml.operation.Tensor(*list(m)).prune() for m in itertools.product(*n_terms)]"
   ]
  },
  {
   "cell_type": "code",
   "execution_count": 5,
   "id": "e22dbd62-a53c-4b47-805d-ed5cc389e757",
   "metadata": {
    "tags": []
   },
   "outputs": [
    {
     "data": {
      "text/plain": [
       "[PauliX(wires=[0]),\n",
       " PauliX(wires=[0]) @ PauliZ(wires=[2]),\n",
       " PauliX(wires=[0]) @ PauliZ(wires=[1]),\n",
       " PauliX(wires=[0]) @ PauliZ(wires=[1]) @ PauliZ(wires=[2])]"
      ]
     },
     "execution_count": 5,
     "metadata": {},
     "output_type": "execute_result"
    }
   ],
   "source": [
    "final_terms"
   ]
  },
  {
   "cell_type": "code",
   "execution_count": 4,
   "id": "e29c51b5-c1e6-4876-9048-36aab6e5e24d",
   "metadata": {
    "tags": []
   },
   "outputs": [],
   "source": [
    "degree = 2\n",
    "n_coeffs = [[1],[1,-1],[1,-1]]\n",
    "final_coeffs = [\n",
    "            (0.5**degree) * functools.reduce(lambda x, y: x * y, list(m), 1)\n",
    "            for m in itertools.product(*n_coeffs)\n",
    "        ]"
   ]
  },
  {
   "cell_type": "code",
   "execution_count": 6,
   "id": "5a520e4c-66f7-426b-a9c2-197e9f823807",
   "metadata": {
    "tags": []
   },
   "outputs": [
    {
     "data": {
      "text/plain": [
       "[0.25, -0.25, -0.25, 0.25]"
      ]
     },
     "execution_count": 6,
     "metadata": {},
     "output_type": "execute_result"
    }
   ],
   "source": [
    "final_coeffs"
   ]
  },
  {
   "cell_type": "code",
   "execution_count": 14,
   "id": "bdf47009-318b-4609-9e89-a5aa4850d951",
   "metadata": {
    "tags": []
   },
   "outputs": [],
   "source": [
    "c = qml.Hamiltonian(final_coeffs,final_terms)"
   ]
  },
  {
   "cell_type": "code",
   "execution_count": 12,
   "id": "c90b87b9-2fba-4771-abe3-bd6e3f647d53",
   "metadata": {
    "tags": []
   },
   "outputs": [],
   "source": [
    "a = qml.PauliX(0)+qml.PauliY(1)\n",
    "b = qml.PauliZ(1)"
   ]
  },
  {
   "cell_type": "code",
   "execution_count": 15,
   "id": "80cd3b8c-02ae-4f0d-86f7-3df36fdc0dc7",
   "metadata": {
    "tags": []
   },
   "outputs": [
    {
     "ename": "KeyError",
     "evalue": "'Hamiltonian'",
     "output_type": "error",
     "traceback": [
      "\u001b[0;31m---------------------------------------------------------------------------\u001b[0m",
      "\u001b[0;31mKeyError\u001b[0m                                  Traceback (most recent call last)",
      "Cell \u001b[0;32mIn[15], line 1\u001b[0m\n\u001b[0;32m----> 1\u001b[0m \u001b[43mqml\u001b[49m\u001b[38;5;241;43m.\u001b[39;49m\u001b[43mis_commuting\u001b[49m\u001b[43m(\u001b[49m\u001b[43ma\u001b[49m\u001b[43m,\u001b[49m\u001b[43mc\u001b[49m\u001b[43m)\u001b[49m\n",
      "File \u001b[0;32m/opt/homebrew/lib/python3.11/site-packages/pennylane/ops/functions/is_commuting.py:396\u001b[0m, in \u001b[0;36mis_commuting\u001b[0;34m(operation1, operation2, wire_map)\u001b[0m\n\u001b[1;32m    393\u001b[0m target_wires_1 \u001b[38;5;241m=\u001b[39m qml\u001b[38;5;241m.\u001b[39mwires\u001b[38;5;241m.\u001b[39mWires([w \u001b[38;5;28;01mfor\u001b[39;00m w \u001b[38;5;129;01min\u001b[39;00m operation1\u001b[38;5;241m.\u001b[39mwires \u001b[38;5;28;01mif\u001b[39;00m w \u001b[38;5;129;01mnot\u001b[39;00m \u001b[38;5;129;01min\u001b[39;00m op1_control_wires])\n\u001b[1;32m    394\u001b[0m target_wires_2 \u001b[38;5;241m=\u001b[39m qml\u001b[38;5;241m.\u001b[39mwires\u001b[38;5;241m.\u001b[39mWires([w \u001b[38;5;28;01mfor\u001b[39;00m w \u001b[38;5;129;01min\u001b[39;00m operation2\u001b[38;5;241m.\u001b[39mwires \u001b[38;5;28;01mif\u001b[39;00m w \u001b[38;5;129;01mnot\u001b[39;00m \u001b[38;5;129;01min\u001b[39;00m op2_control_wires])\n\u001b[0;32m--> 396\u001b[0m \u001b[38;5;28;01mif\u001b[39;00m intersection(target_wires_1, target_wires_2) \u001b[38;5;129;01mand\u001b[39;00m \u001b[38;5;129;01mnot\u001b[39;00m \u001b[43m_commutes\u001b[49m\u001b[43m(\u001b[49m\u001b[43mctrl_base_1\u001b[49m\u001b[43m,\u001b[49m\u001b[43m \u001b[49m\u001b[43mctrl_base_2\u001b[49m\u001b[43m)\u001b[49m:\n\u001b[1;32m    397\u001b[0m     \u001b[38;5;28;01mreturn\u001b[39;00m \u001b[38;5;28;01mFalse\u001b[39;00m\n\u001b[1;32m    399\u001b[0m \u001b[38;5;28;01mif\u001b[39;00m intersection(target_wires_1, op2_control_wires) \u001b[38;5;129;01mand\u001b[39;00m \u001b[38;5;129;01mnot\u001b[39;00m _commutes(\u001b[38;5;124m\"\u001b[39m\u001b[38;5;124mctrl\u001b[39m\u001b[38;5;124m\"\u001b[39m, ctrl_base_1):\n",
      "File \u001b[0;32m/opt/homebrew/lib/python3.11/site-packages/pennylane/ops/functions/is_commuting.py:156\u001b[0m, in \u001b[0;36m_create_commute_function.<locals>.commutes_inner\u001b[0;34m(op_name1, op_name2)\u001b[0m\n\u001b[1;32m    143\u001b[0m \u001b[38;5;28;01mdef\u001b[39;00m \u001b[38;5;21mcommutes_inner\u001b[39m(op_name1, op_name2):\n\u001b[1;32m    144\u001b[0m \u001b[38;5;250m    \u001b[39m\u001b[38;5;124;03m\"\"\"Determine whether or not two operations commute.\u001b[39;00m\n\u001b[1;32m    145\u001b[0m \n\u001b[1;32m    146\u001b[0m \u001b[38;5;124;03m    Relies on ``commutation_map`` from the enclosing namespace of ``_create_commute_function``.\u001b[39;00m\n\u001b[0;32m   (...)\u001b[0m\n\u001b[1;32m    154\u001b[0m \n\u001b[1;32m    155\u001b[0m \u001b[38;5;124;03m    \"\"\"\u001b[39;00m\n\u001b[0;32m--> 156\u001b[0m     \u001b[38;5;28;01mreturn\u001b[39;00m op_name1 \u001b[38;5;129;01min\u001b[39;00m \u001b[43mcommutation_map\u001b[49m\u001b[43m[\u001b[49m\u001b[43mop_name2\u001b[49m\u001b[43m]\u001b[49m\n",
      "\u001b[0;31mKeyError\u001b[0m: 'Hamiltonian'"
     ]
    }
   ],
   "source": [
    "qml.is_commuting(a,c)"
   ]
  },
  {
   "cell_type": "code",
   "execution_count": null,
   "id": "a955b6e4-6b07-48f6-bb8a-f30f6d772ce2",
   "metadata": {},
   "outputs": [],
   "source": []
  }
 ],
 "metadata": {
  "kernelspec": {
   "display_name": "Python 3 (ipykernel)",
   "language": "python",
   "name": "python3"
  },
  "language_info": {
   "codemirror_mode": {
    "name": "ipython",
    "version": 3
   },
   "file_extension": ".py",
   "mimetype": "text/x-python",
   "name": "python",
   "nbconvert_exporter": "python",
   "pygments_lexer": "ipython3",
   "version": "3.11.2"
  }
 },
 "nbformat": 4,
 "nbformat_minor": 5
}
