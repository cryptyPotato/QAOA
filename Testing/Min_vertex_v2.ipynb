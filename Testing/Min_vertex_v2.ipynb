{
 "cells": [
  {
   "cell_type": "code",
   "execution_count": 1,
   "id": "fa5e1d23-3ae2-4e81-9f83-0623ee3e637b",
   "metadata": {
    "tags": []
   },
   "outputs": [],
   "source": [
    "import itertools\n",
    "import functools\n",
    "from typing import Iterable, Union\n",
    "\n",
    "import networkx as nx\n",
    "import rustworkx as rx\n",
    "\n",
    "import pennylane as qml\n",
    "from pennylane.wires import Wires"
   ]
  },
  {
   "cell_type": "code",
   "execution_count": 81,
   "id": "d4da6a81-5ab1-43e7-b32b-b50d3cef3089",
   "metadata": {
    "tags": []
   },
   "outputs": [],
   "source": [
    "def bit_flip_mixer_2(graph: Union[nx.Graph, rx.PyGraph], b: int):\n",
    "    if not isinstance(graph, (nx.Graph, rx.PyGraph)):\n",
    "        raise ValueError(\n",
    "            f\"Input graph must be a nx.Graph or rx.PyGraph object, got {type(graph).__name__}\"\n",
    "        )\n",
    "\n",
    "    if b not in [0, 1]:\n",
    "        raise ValueError(f\"'b' must be either 0 or 1, got {b}\")\n",
    "\n",
    "    sign = 1 if b == 0 else -1\n",
    "\n",
    "    coeffs = []\n",
    "    terms = []\n",
    "\n",
    "    is_rx = isinstance(graph, rx.PyGraph)\n",
    "    graph_nodes = graph.node_indexes() if is_rx else graph.nodes\n",
    "\n",
    "    # In RX each node is assigned to an integer index starting from 0;\n",
    "    # thus, we use the following lambda function to get node-values.\n",
    "    get_nvalue = lambda i: graph.nodes()[i] if is_rx else i\n",
    "\n",
    "    for u in graph_nodes:\n",
    "        for v in graph_nodes:\n",
    "            if u==v:\n",
    "                i = u\n",
    "                neighbours = sorted(graph.neighbors(i)) if is_rx else list(graph.neighbors(i))\n",
    "                degree = len(neighbours)\n",
    "\n",
    "                n_terms = [[qml.PauliX(get_nvalue(i))]] + [\n",
    "                    [qml.Identity(get_nvalue(n)), qml.PauliZ(get_nvalue(n))] for n in neighbours\n",
    "                ]\n",
    "                n_coeffs = [[1, sign] for n in neighbours]\n",
    "\n",
    "                final_terms = [qml.operation.Tensor(*list(m)).prune() for m in itertools.product(*n_terms)]\n",
    "                final_coeffs = [\n",
    "                    (0.5**degree) * functools.reduce(lambda x, y: x * y, list(m), 1)\n",
    "                    for m in itertools.product(*n_coeffs)\n",
    "                ]\n",
    "\n",
    "                coeffs.extend(final_coeffs)\n",
    "                terms.extend(final_terms)\n",
    "            elif u < v and not graph.has_edge(u,v):\n",
    "                neighbours_u = sorted(graph.neighbors(u)) if is_rx else list(graph.neighbors(u))\n",
    "                neighbours_v = sorted(graph.neighbors(v)) if is_rx else list(graph.neighbors(v))\n",
    "                neighbours   = sorted(list(set(neighbours_u) | set(neighbours_v)))\n",
    "                degree       = len(neighbours)\n",
    "                n_terms      = [[qml.PauliX(get_nvalue(u))@qml.PauliX(get_nvalue(v))]] +[[qml.Identity(get_nvalue(n)), qml.PauliZ(get_nvalue(n))] for n in neighbours]\n",
    "                n_coeffs     = [[1, sign] for n in neighbours]\n",
    "                final_terms = [qml.operation.Tensor(*list(m)).prune() for m in itertools.product(*n_terms)]\n",
    "                final_coeffs = [\n",
    "                    (0.5**degree) * functools.reduce(lambda x, y: x * y, list(m), 1)\n",
    "                    for m in itertools.product(*n_coeffs)\n",
    "                ]\n",
    "\n",
    "                coeffs.extend(final_coeffs)\n",
    "                terms.extend(final_terms)\n",
    "    \n",
    "    return qml.Hamiltonian(coeffs, terms)\n",
    "                "
   ]
  },
  {
   "cell_type": "code",
   "execution_count": 78,
   "id": "5def6bf9-a3dd-40f7-9032-c0963b2ec289",
   "metadata": {
    "tags": []
   },
   "outputs": [
    {
     "data": {
      "image/png": "[encoded data removed]",
      "text/plain": [
       "<Figure size 640x480 with 1 Axes>"
      ]
     },
     "metadata": {},
     "output_type": "display_data"
    }
   ],
   "source": [
    "edges = [(0, 1), (1, 2), (2, 0), (2, 3)]\n",
    "graph = nx.Graph(edges)\n",
    "\n",
    "nx.draw(graph, with_labels=True)"
   ]
  },
  {
   "cell_type": "code",
   "execution_count": 82,
   "id": "469ed62c-d49b-4ab4-adab-59580d61cfaa",
   "metadata": {
    "tags": []
   },
   "outputs": [
    {
     "name": "stdout",
     "output_type": "stream",
     "text": [
      "Cost Hamiltonian   (-1) [Z0]\n",
      "+ (-1) [Z1]\n",
      "+ (-1) [Z2]\n",
      "+ (-1) [Z3]\n",
      "Mixer Hamiltonian   (0.125) [X2]\n",
      "+ (0.25) [X0]\n",
      "+ (0.25) [X1]\n",
      "+ (0.5) [X3]\n",
      "+ (-0.5) [X3 Z2]\n",
      "+ (-0.25) [X0 Z2]\n",
      "+ (-0.25) [X0 Z1]\n",
      "+ (-0.25) [X1 Z2]\n",
      "+ (-0.25) [X1 Z0]\n",
      "+ (-0.125) [X2 Z3]\n",
      "+ (-0.125) [X2 Z0]\n",
      "+ (-0.125) [X2 Z1]\n",
      "+ (0.25) [X0 X3]\n",
      "+ (0.25) [X1 X3]\n",
      "+ (-0.25) [X0 X3 Z2]\n",
      "+ (-0.25) [X0 X3 Z1]\n",
      "+ (-0.25) [X1 X3 Z2]\n",
      "+ (-0.25) [X1 X3 Z0]\n",
      "+ (0.125) [X2 Z0 Z3]\n",
      "+ (0.125) [X2 Z1 Z3]\n",
      "+ (0.125) [X2 Z1 Z0]\n",
      "+ (0.25) [X0 Z1 Z2]\n",
      "+ (0.25) [X1 Z0 Z2]\n",
      "+ (-0.125) [X2 Z1 Z0 Z3]\n",
      "+ (0.25) [X0 X3 Z1 Z2]\n",
      "+ (0.25) [X1 X3 Z0 Z2]\n"
     ]
    }
   ],
   "source": [
    "cost_h, mixer_h = qaoa.min_vertex_cover(graph, constrained=True)\n",
    "mixer_h = bit_flip_mixer_2(graph,1)\n",
    "print(\"Cost Hamiltonian\", cost_h)\n",
    "print(\"Mixer Hamiltonian\", mixer_h)"
   ]
  },
  {
   "cell_type": "code",
   "execution_count": 83,
   "id": "4d80d8ff-fa5f-407a-8056-bb66291c6ac7",
   "metadata": {
    "tags": []
   },
   "outputs": [],
   "source": [
    "def qaoa_layer(gamma, alpha):\n",
    "    qaoa.cost_layer(gamma, cost_h)\n",
    "    qaoa.mixer_layer(alpha, mixer_h)"
   ]
  },
  {
   "cell_type": "code",
   "execution_count": 84,
   "id": "de32321d-c274-4587-98bc-4d98516f6ec8",
   "metadata": {
    "tags": []
   },
   "outputs": [],
   "source": [
    "wires = range(4)\n",
    "depth = 2\n",
    "\n",
    "def circuit(params, **kwargs):\n",
    "    for w in wires:\n",
    "        qml.PauliX(wires=w)\n",
    "    qml.layer(qaoa_layer, depth, params[0], params[1])\n"
   ]
  },
  {
   "cell_type": "code",
   "execution_count": 85,
   "id": "a7aaec21-c349-45a9-8f6a-51a805a08567",
   "metadata": {
    "tags": []
   },
   "outputs": [],
   "source": [
    "dev = qml.device(\"default.qubit\", wires=wires)\n",
    "\n",
    "@qml.qnode(dev)\n",
    "def cost_function(params):\n",
    "    circuit(params)\n",
    "    return qml.expval(cost_h)"
   ]
  },
  {
   "cell_type": "code",
   "execution_count": 86,
   "id": "17b00ab3-3b44-4123-a238-f3aab657b1bb",
   "metadata": {
    "tags": []
   },
   "outputs": [],
   "source": [
    "optimizer = qml.GradientDescentOptimizer()\n",
    "steps = 70\n",
    "params = np.array([[0.5, 0.5], [0.5, 0.5]], requires_grad=True)"
   ]
  },
  {
   "cell_type": "code",
   "execution_count": 87,
   "id": "98ea8651-a14a-4711-b016-89f58b444208",
   "metadata": {
    "tags": []
   },
   "outputs": [
    {
     "name": "stdout",
     "output_type": "stream",
     "text": [
      "Optimal Parameters\n",
      "[[0.5        1.18818904]\n",
      " [0.5196871  0.8543746 ]]\n"
     ]
    }
   ],
   "source": [
    "for i in range(steps):\n",
    "    params = optimizer.step(cost_function, params)\n",
    "\n",
    "print(\"Optimal Parameters\")\n",
    "print(params)"
   ]
  },
  {
   "cell_type": "code",
   "execution_count": 88,
   "id": "10e33036-a9ea-44da-897a-1bb7fdc774f9",
   "metadata": {
    "tags": []
   },
   "outputs": [],
   "source": [
    "@qml.qnode(dev)\n",
    "def probability_circuit(gamma, alpha):\n",
    "    circuit([gamma, alpha])\n",
    "    return qml.probs(wires=wires)\n",
    "\n",
    "\n",
    "probs = probability_circuit(params[0], params[1])"
   ]
  },
  {
   "cell_type": "code",
   "execution_count": 90,
   "id": "89bca8f7-9232-4134-ab04-8b3fc2ec040a",
   "metadata": {
    "tags": []
   },
   "outputs": [
    {
     "data": {
      "image/png": "[encoded data removed]",
      "text/plain": [
       "<Figure size 640x480 with 1 Axes>"
      ]
     },
     "metadata": {},
     "output_type": "display_data"
    }
   ],
   "source": [
    "import matplotlib.pyplot as plt\n",
    "plt.bar(range(2 ** len(wires)), probs)\n",
    "plt.show()\n"
   ]
  },
  {
   "cell_type": "code",
   "execution_count": 23,
   "id": "4b81302f-53b5-4bfa-90dc-1468bcf88105",
   "metadata": {
    "tags": []
   },
   "outputs": [],
   "source": [
    "def bit_flip_mixer_3(graph: Union[nx.Graph, rx.PyGraph], b: int):\n",
    "    if not isinstance(graph, (nx.Graph, rx.PyGraph)):\n",
    "        raise ValueError(\n",
    "            f\"Input graph must be a nx.Graph or rx.PyGraph object, got {type(graph).__name__}\"\n",
    "        )\n",
    "\n",
    "    if b not in [0, 1]:\n",
    "        raise ValueError(f\"'b' must be either 0 or 1, got {b}\")\n",
    "\n",
    "    sign = 1 if b == 0 else -1\n",
    "\n",
    "    coeffs = []\n",
    "    terms = []\n",
    "\n",
    "    is_rx = isinstance(graph, rx.PyGraph)\n",
    "    graph_nodes = graph.node_indexes() if is_rx else graph.nodes\n",
    "\n",
    "    # In RX each node is assigned to an integer index starting from 0;\n",
    "    # thus, we use the following lambda function to get node-values.\n",
    "    get_nvalue = lambda i: graph.nodes()[i] if is_rx else i\n",
    "\n",
    "    for u in graph_nodes:\n",
    "        for v in graph_nodes:\n",
    "            if u==v:\n",
    "                i = u\n",
    "                neighbours = sorted(graph.neighbors(i)) if is_rx else list(graph.neighbors(i))\n",
    "                degree = len(neighbours)\n",
    "\n",
    "                n_terms = [[qml.PauliX(get_nvalue(i))]] + [\n",
    "                    [qml.Identity(get_nvalue(n)), qml.PauliZ(get_nvalue(n))] for n in neighbours\n",
    "                ]\n",
    "                n_coeffs = [[1, sign] for n in neighbours]\n",
    "\n",
    "                final_terms = [qml.operation.Tensor(*list(m)).prune() for m in itertools.product(*n_terms)]\n",
    "                final_coeffs = [\n",
    "                    (0.5**degree) * functools.reduce(lambda x, y: x * y, list(m), 1)\n",
    "                    for m in itertools.product(*n_coeffs)\n",
    "                ]\n",
    "\n",
    "                coeffs.extend(final_coeffs)\n",
    "                terms.extend(final_terms)\n",
    "            elif u < v and not graph.has_edge(u,v):\n",
    "                neighbours_u = sorted(graph.neighbors(u)) if is_rx else list(graph.neighbors(u))\n",
    "                neighbours_v = sorted(graph.neighbors(v)) if is_rx else list(graph.neighbors(v))\n",
    "                neighbours   = sorted(list(set(neighbours_u) | set(neighbours_v)))\n",
    "                degree       = len(neighbours)\n",
    "                n_terms      = [[qml.PauliX(get_nvalue(u))@qml.PauliX(get_nvalue(v))]] +[[qml.Identity(get_nvalue(n)), qml.PauliZ(get_nvalue(n))] for n in neighbours]\n",
    "                n_coeffs     = [[1, sign] for n in neighbours]\n",
    "                final_terms = [qml.operation.Tensor(*list(m)).prune() for m in itertools.product(*n_terms)]\n",
    "                final_coeffs = [\n",
    "                    (0.5**degree) * functools.reduce(lambda x, y: x * y, list(m), 1)\n",
    "                    for m in itertools.product(*n_coeffs)\n",
    "                ]\n",
    "\n",
    "                coeffs.extend(final_coeffs)\n",
    "                terms.extend(final_terms)\n",
    "            \n",
    "            \n",
    "            elif u < v and graph.has_edge(u,v):\n",
    "                neighbours_u = sorted(graph.neighbors(u)) if is_rx else list(graph.neighbors(u))\n",
    "                neighbours_v = sorted(graph.neighbors(v)) if is_rx else list(graph.neighbors(v))\n",
    "                neighbours   = sorted(list(set(neighbours_u) | set(neighbours_v))) \n",
    "                neighbours.remove(u)\n",
    "                neighbours.remove(v)\n",
    "                degree       = len(neighbours)\n",
    "                \n",
    "                \n",
    "                n_terms      = [[qml.PauliX(get_nvalue(u))@qml.PauliX(get_nvalue(v))]] +[[qml.Identity(get_nvalue(n)), qml.PauliZ(get_nvalue(n))] for n in neighbours]\n",
    "                n_coeffs     = [[1, sign] for n in neighbours]\n",
    "                final_terms = [qml.operation.Tensor(*list(m)).prune() for m in itertools.product(*n_terms)]\n",
    "                final_coeffs = [\n",
    "                    (0.5**(degree+1)) * functools.reduce(lambda x, y: x * y, list(m), 1)\n",
    "                    for m in itertools.product(*n_coeffs)\n",
    "                ]\n",
    "\n",
    "                coeffs.extend(final_coeffs)\n",
    "                terms.extend(final_terms)\n",
    "                \n",
    "                n_terms      = [[qml.PauliY(get_nvalue(u))@qml.PauliY(get_nvalue(v))]] +[[qml.Identity(get_nvalue(n)), qml.PauliZ(get_nvalue(n))] for n in neighbours]\n",
    "                n_coeffs     = [[1, sign] for n in neighbours]\n",
    "                final_terms = [qml.operation.Tensor(*list(m)).prune() for m in itertools.product(*n_terms)]\n",
    "                final_coeffs = [\n",
    "                  (0.5**(degree+1)) * functools.reduce(lambda x, y: x * y, list(m), 1)\n",
    "                    for m in itertools.product(*n_coeffs)\n",
    "                ]\n",
    "\n",
    "                coeffs.extend(final_coeffs)\n",
    "                terms.extend(final_terms)\n",
    "            \n",
    "                \n",
    "    return qml.Hamiltonian(coeffs, terms)"
   ]
  },
  {
   "cell_type": "code",
   "execution_count": 32,
   "id": "47a34338-b4fd-433a-a727-17df586b9cfc",
   "metadata": {
    "tags": []
   },
   "outputs": [
    {
     "data": {
      "image/png": "[encoded data removed]",
      "text/plain": [
       "<Figure size 640x480 with 1 Axes>"
      ]
     },
     "metadata": {},
     "output_type": "display_data"
    }
   ],
   "source": [
    "edges = [(0, 1), (1, 2)]\n",
    "graph = nx.Graph(edges)\n",
    "\n",
    "nx.draw(graph, with_labels=True)\n",
    "\n",
    "\n",
    "H = bit_flip_mixer_3(graph,1)-bit_flip_mixer(graph,1)"
   ]
  },
  {
   "cell_type": "code",
   "execution_count": 28,
   "id": "02d417da-cf33-4da7-b472-f9a990ae4f83",
   "metadata": {
    "tags": []
   },
   "outputs": [],
   "source": [
    "from pennylane.qaoa.mixers import bit_flip_mixer"
   ]
  },
  {
   "cell_type": "code",
   "execution_count": 59,
   "id": "e6bf4b07-f2b5-4f25-bd05-930f9d5c5eb9",
   "metadata": {
    "tags": []
   },
   "outputs": [
    {
     "data": {
      "text/plain": [
       "array([[0., 0., 0., 0., 0., 0., 0., 0.],\n",
       "       [0., 0., 0., 0., 0., 0., 0., 0.],\n",
       "       [0., 0., 0., 0., 0., 0., 0., 1.],\n",
       "       [0., 0., 0., 0., 0., 1., 1., 0.],\n",
       "       [0., 0., 0., 0., 0., 0., 0., 0.],\n",
       "       [0., 0., 0., 1., 0., 0., 1., 0.],\n",
       "       [0., 0., 0., 1., 0., 1., 0., 0.],\n",
       "       [0., 0., 1., 0., 0., 0., 0., 0.]])"
      ]
     },
     "execution_count": 59,
     "metadata": {},
     "output_type": "execute_result"
    }
   ],
   "source": [
    "H\n",
    "Hmat = qml.Hamiltonian.sparse_matrix(H).real\n",
    "Hmat.toarray()"
   ]
  },
  {
   "cell_type": "code",
   "execution_count": 60,
   "id": "8f4906cd-b687-4cb9-8f22-e247a72b0db1",
   "metadata": {
    "tags": []
   },
   "outputs": [],
   "source": [
    "def cost_h(graph: Union[nx.Graph, rx.PyGraph],b: int):\n",
    "    if not isinstance(graph, (nx.Graph, rx.PyGraph)):\n",
    "        raise ValueError(\n",
    "            f\"Input graph must be a nx.Graph or rx.PyGraph, got {type(graph).__name__}\"\n",
    "        )\n",
    "    graph_nodes = graph.nodes\n",
    "    \n",
    "    for i in graph_nodes:\n",
    "        ops = qml.Identity(w) for w in wires]\n",
    "        coeffs = \n",
    "        ops = [qml.PauliZ(w) for w in wires]\n",
    "        coeffs = [-1 for _ in wires]\n",
    "    \n",
    "    return cost_h"
   ]
  },
  {
   "cell_type": "code",
   "execution_count": null,
   "id": "d1dcdf37-318c-4ebf-b76f-2aca64b472d7",
   "metadata": {},
   "outputs": [],
   "source": []
  }
 ],
 "metadata": {
  "kernelspec": {
   "display_name": "Python 3 (ipykernel)",
   "language": "python",
   "name": "python3"
  },
  "language_info": {
   "codemirror_mode": {
    "name": "ipython",
    "version": 3
   },
   "file_extension": ".py",
   "mimetype": "text/x-python",
   "name": "python",
   "nbconvert_exporter": "python",
   "pygments_lexer": "ipython3",
   "version": "3.11.2"
  }
 },
 "nbformat": 4,
 "nbformat_minor": 5
}
