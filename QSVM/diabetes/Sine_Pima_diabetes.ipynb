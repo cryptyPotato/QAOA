{
 "cells": [
  {
   "cell_type": "code",
   "execution_count": null,
   "id": "97a2efe2",
   "metadata": {},
   "outputs": [],
   "source": [
    "import sys\n",
    "sys.path.append('/home/g/gaur/gaur/.local/lib/python3.8/site-packages')"
   ]
  },
  {
   "cell_type": "code",
   "execution_count": null,
   "id": "03363627",
   "metadata": {},
   "outputs": [],
   "source": [
    "import numpy as np\n",
    "import torch \n",
    "from torch.nn.functional import relu\n",
    "\n",
    "from sklearn.svm import SVC\n",
    "from sklearn.datasets import load_iris,load_diabetes\n",
    "from sklearn.preprocessing import StandardScaler\n",
    "from sklearn.model_selection import train_test_split\n",
    "from sklearn.metrics import accuracy_score\n",
    "from sklearn.feature_selection import SelectKBest\n",
    "from sklearn.feature_selection import f_classif\n",
    "from sklearn.model_selection import GridSearchCV, KFold\n",
    "from sklearn.model_selection import cross_validate\n",
    "from sklearn.model_selection import RepeatedKFold\n",
    "\n",
    "\n",
    "from sklearn.pipeline import make_pipeline\n",
    "from sklearn import preprocessing\n",
    "\n",
    "import pennylane as qml\n",
    "from pennylane.templates import AngleEmbedding, StronglyEntanglingLayers,IQPEmbedding\n",
    "from pennylane.operation import Tensor\n",
    "\n",
    "import matplotlib.pyplot as plt\n",
    "\n",
    "np.random.seed(42)"
   ]
  },
  {
   "cell_type": "code",
   "execution_count": null,
   "id": "be8aea25",
   "metadata": {
    "tags": []
   },
   "outputs": [
    {
     "data": {
      "text/plain": [
       "(442, 2)"
      ]
     },
     "execution_count": 3,
     "metadata": {},
     "output_type": "execute_result"
    }
   ],
   "source": [
    "X, y = load_diabetes(return_X_y=True, as_frame=False)\n",
    "\n",
    "n = 442\n",
    "\n",
    "# pick inputs and labels from the first two classes only,\n",
    "# corresponding to the first 100 samples\n",
    "#X = X[:500]\n",
    "#y = y[:500]\n",
    "n_features = int(sys.argv[1])\n",
    "\n",
    "\n",
    "X = SelectKBest(f_classif, k=n_features).fit_transform(X, y)\n",
    "#print(X.shape)\n",
    "#print(X[1])\n",
    "\n",
    "# y is the blood glucose level one year after the base line test\n",
    "# change y to binary y >= 185 diabetes, no otherwise\n",
    "\n",
    "for i in range(len(y)):\n",
    "    if (y[i] > 185):\n",
    "        y[i] = 1\n",
    "    else:\n",
    "        y[i] = 0\n",
    "        \n",
    "#print(y)\n",
    "\n",
    "\n",
    "# scaling the inputs is important since the embedding we use is periodic\n",
    "#scaler = StandardScaler().fit(X)\n",
    "#X_scaled = scaler.transform(X)\n",
    "\n",
    "# scaling the labels to -1, 1 is important for the SVM and the\n",
    "# definition of a hinge loss\n",
    "y_scaled = 2 * (y - 0.5)\n",
    "\n",
    "\n",
    "#X_train, X_test, y_train, y_test = train_test_split(X_scaled, y_scaled)\n",
    "X_train, X_test, y_train, y_test = train_test_split(X , y_scaled)\n",
    "\n",
    "scaler = StandardScaler().fit(X_train)\n",
    "X_train = scaler.transform(X_train)\n",
    "\n",
    "#clf = svm.SVC(C=1).fit(X_train_transformed, y_train)\n",
    "X_test = scaler.transform(X_test)\n",
    "\n",
    "#X  = np.concatenate((X_train, X_test), axis=0)\n",
    "X.shape"
   ]
  },
  {
   "cell_type": "code",
   "execution_count": null,
   "id": "11caee2d",
   "metadata": {},
   "outputs": [],
   "source": [
    "def circuit(feature_vector,feature_vector_2,length):\n",
    "    qml.AngleEmbedding(features=feature_vector, wires=range(length),rotation='Z')\n",
    "    qml.adjoint(qml.AngleEmbedding(features=feature_vector_2, wires=range(length),rotation='Z'))\n",
    "    #qml.IQPEmbedding(features=feature_vector, wires=range(length),n_repeats=2)\n",
    "    #qml.adjoint(qml.IQPEmbedding(features=feature_vector_2, wires=range(length),n_repeats=2))\n",
    "    return qml.probs(wires=range(length))\n",
    "n_qubits = len(X_train[0])\n",
    "dev_kernel = qml.device(\"default.qubit\", wires=n_qubits)"
   ]
  },
  {
   "cell_type": "code",
   "execution_count": null,
   "id": "1152fcd4",
   "metadata": {
    "tags": []
   },
   "outputs": [],
   "source": [
    "\n",
    "@qml.qnode(dev_kernel, interface=\"autograd\")\n",
    "def kernel(x1, x2):\n",
    "    \"\"\"The quantum kernel.\"\"\"\n",
    "    u_1 = qml.matrix(circuit)(x1,x2,len(x1))\n",
    "    u_2 = u_1.conjugate().transpose()\n",
    "    projector = u_1+u_2\n",
    "    return qml.expval(qml.Hermitian(projector,wires=range(n_qubits)))"
   ]
  },
  {
   "cell_type": "code",
   "execution_count": null,
   "id": "e1392dfc",
   "metadata": {
    "tags": []
   },
   "outputs": [],
   "source": [
    "def qsvm(Xtrain,ytrain):\n",
    "    svm = SVC(kernel=new_kernel_par).fit(Xtrain, ytrain)\n",
    "    return svm"
   ]
  },
  {
   "cell_type": "code",
   "execution_count": null,
   "id": "2a65569a",
   "metadata": {
    "tags": []
   },
   "outputs": [],
   "source": [
    "def kernel_matrix_rectangular(A, B,i):\n",
    "    #sigma=0.1\n",
    "    gamma = 1\n",
    "    \"\"\"Compute the matrix whose entries are the kernel\n",
    "       evaluated on pairwise data from sets A and B.\"\"\"\n",
    "    res = np.zeros((1,len(B)))\n",
    " #   for i in range(len(A)):\n",
    "    for j in range(len(B)):\n",
    "        # if ( i < j):\n",
    "        # res[0,j] =  np.exp(- gamma*(2 - kernel(A[0], B[j]))**2) # np.exp((-2 + kernel(A[0], B[j])))\n",
    "        #res[0,j] =  np.exp(- gamma*(2 - kernel(A[0], B[j]))**2 )\n",
    "        res[0,j] = np.sin(np.pi/(2+gamma*(2-kernel(A[0],B[j]))**2))\n",
    "         #   else:\n",
    "             #   res[i,j] = res[j,i]\n",
    "    return list(res[0])\n",
    "def kernel_matrix_square(A, B, i):\n",
    "    gamma = 1\n",
    "    res = np.zeros((1,len(B)))\n",
    "    for j in range(i+1,len(B)):\n",
    "        # res[0,j] =  np.exp(- gamma*(2 - kernel(A[0], B[j]))**2) # np.exp((-2+kernel(A[0],B[j])))\n",
    "        #res[0,j] =  np.exp(- gamma*(2 - kernel(A[0], B[j]))**2 )\n",
    "        res[0,j] = np.sin(np.pi/(2+gamma*(2-kernel(A[0],B[j]))**2))\n",
    "    return list(res[0])"
   ]
  },
  {
   "cell_type": "code",
   "execution_count": null,
   "id": "4a3ba6c7",
   "metadata": {
    "tags": []
   },
   "outputs": [],
   "source": [
    "import time\n",
    "import joblib\n",
    "def new_kernel_par(A,B):\n",
    "    ans = np.zeros((len(A),len(B)))\n",
    "    s = time.time()\n",
    "    # kernel_matrix(X_train[0], X_train)\n",
    "    if len(A)==len(B):\n",
    "        ans = joblib.Parallel(n_jobs=4)(joblib.delayed(kernel_matrix_square)([A[i]],B,i) for i in range(len(A)))\n",
    "        #print(ans)\n",
    "        e = time.time()\n",
    "        ans = np.array(ans)\n",
    "        #print(ans.shape)\n",
    "        ans=ans+ans.T+np.eye(len(A),len(B))\n",
    "        #print(ans)\n",
    "    else:\n",
    "        ans = joblib.Parallel(n_jobs=4)(joblib.delayed(kernel_matrix_rectangular)([A[i]],B,i) for i in range(len(A)))\n",
    "        #print(ans)\n",
    "        e = time.time()\n",
    "        ans = np.array(ans)\n",
    "        #print(ans.shape)\n",
    "        #ans=ans+ans.T+np.eye(len(A),len(B))\n",
    "        #print(ans)\n",
    "   # ti=e-s\n",
    "    # print((e-s)/(40)* 900*10**6/2 /3600/24)\n",
    "    # print(1)\n",
    "    return ans   #, (e-s)/(400-20)* 900*10**6/2 /3600/24"
   ]
  },
  {
   "cell_type": "code",
   "execution_count": null,
   "id": "c07d20a9",
   "metadata": {
    "tags": []
   },
   "outputs": [],
   "source": [
    "# svc = qsvm(X_train,y_train)"
   ]
  },
  {
   "cell_type": "code",
   "execution_count": null,
   "id": "3ca23ed9",
   "metadata": {
    "tags": []
   },
   "outputs": [],
   "source": [
    "#predictions = svc.predict(X_test)\n",
    "#accuracy_score(predictions, y_test)"
   ]
  },
  {
   "cell_type": "code",
   "execution_count": null,
   "id": "3339e73b",
   "metadata": {},
   "outputs": [
    {
     "name": "stdout",
     "output_type": "stream",
     "text": [
      "Best Parameters: {'C': 1, 'gamma': 0.1}\n",
      "Accuracy for svm: 0.8468468468468469\n"
     ]
    }
   ],
   "source": [
    "#param_grid = {'C': [0.1, 1, 10],\n",
    "#              'gamma': [0.1, 1, 10]}\n",
    "# Create an SVM classifier with a radial basis function (RBF) kernel\n",
    "#svm = SVC(kernel='rbf')\n",
    "# Perform grid search with cross-validation\n",
    "#grid_search = GridSearchCV(svm, param_grid, cv=2)\n",
    "#grid_search.fit(X_train,y_train)\n",
    "#best_params = grid_search.best_params_\n",
    "#print(\"Best Parameters:\", best_params)\n",
    "# Make predictions on the test data using the best model\n",
    "#y_pred = grid_search.predict(X_test)\n",
    "#y_pred = grid_search.predict(X)\n",
    "#predictions = svm.predict(sxtes)\n",
    "#accuracy = accuracy_score(y_test, y_pred)\n",
    "#accuracy = accuracy_score(y, y_pred)\n",
    "#print(\"Accuracy for svm:\", accuracy)"
   ]
  },
  {
   "cell_type": "code",
   "execution_count": null,
   "id": "e72b498e",
   "metadata": {},
   "outputs": [
    {
     "name": "stdout",
     "output_type": "stream",
     "text": [
      "acc for 10-fold RBF  [0.8 0.9 0.8 0.9 0.9 0.6 0.8 0.9 0.7 0.8 0.8 0.9 0.7 1.  0.8 1.  0.6 0.8\n",
      " 0.8 0.7 0.8 0.8 0.7 1.  0.7 0.8 0.7 0.9 0.8 1.  0.9 0.7 0.9 0.7 0.9 0.9\n",
      " 0.8 0.8 0.9 0.8 0.9 0.9 0.8 0.6 0.7 1.  0.7 1.  0.7 0.9 0.5 1.  0.9 0.8\n",
      " 0.9 1.  0.7 0.5 1.  0.9 0.6 1.  0.8 0.7 1.  0.9 0.6 0.9 0.9 0.8 1.  0.9\n",
      " 0.6 0.8 0.6 1.  0.7 0.9 1.  0.8 0.9 0.7 0.8 0.9 0.7 0.9 0.7 0.8 1.  0.9\n",
      " 0.9 0.9 1.  0.9 0.6 0.9 0.7 1.  0.8 0.7] 0.823\n"
     ]
    }
   ],
   "source": [
    "# RBF kernel\n",
    "\n",
    "\n",
    "# >>> cross_val_score(clf, X, y, cv=cv)\n",
    "\n",
    "#X = X[:100]\n",
    "#y = y[:100]\n",
    "\n",
    "lasso = SVC(kernel='rbf')\n",
    "clf = make_pipeline(preprocessing.StandardScaler(), lasso)\n",
    "# cv = KFold(n_splits=10, random_state=42, shuffle=True)\n",
    "cv = RepeatedKFold(n_splits=10, n_repeats=10, random_state=42)\n",
    "\n",
    "cv_results1 = cross_validate(clf, X, y, cv=cv)\n",
    "sorted(cv_results1.keys())\n",
    "['fit_time', 'score_time', 'test_score']\n",
    "print(\"acc for 10-fold RBF \",cv_results1['test_score'], np.mean(cv_results1['test_score']))"
   ]
  },
  {
   "cell_type": "code",
   "execution_count": null,
   "id": "23c443ce",
   "metadata": {},
   "outputs": [
    {
     "name": "stdout",
     "output_type": "stream",
     "text": [
      "acc for 10-fold Qkernel angle embedding is  [0.8 0.9 0.8 1.  0.9 0.6 0.8 0.9 0.7 0.8] 0.8200000000000001\n"
     ]
    }
   ],
   "source": [
    "# angle embedding\n",
    "\n",
    "\n",
    "# >>> cross_val_score(clf, X, y, cv=cv)\n",
    "\n",
    "X = X[:100]\n",
    "y = y[:100]\n",
    "\n",
    "lasso = SVC(kernel=new_kernel_par)#newhttps://jupyter.scinet.utoronto.ca/user/gaur/notebooks/Siddartha/Pima_diabetes.ipynb#_kernel_par)\n",
    "clf = make_pipeline(preprocessing.StandardScaler(), lasso)\n",
    "# cv = KFold(n_splits=10, random_state=42, shuffle=True)\n",
    "cv = RepeatedKFold(n_splits=10, n_repeats=10, random_state=42)\n",
    "cv_results = cross_validate(clf, X, y, cv=cv)\n",
    "sorted(cv_results.keys())\n",
    "['fit_time', 'score_time', 'test_score']\n",
    "print(\"acc for 10-fold Qkernel angle embedding is \",cv_results['test_score'],np.mean(cv_results['test_score']))"
   ]
  },
  {
   "cell_type": "code",
   "execution_count": null,
   "id": "ed983b61",
   "metadata": {},
   "outputs": [
    {
     "name": "stdout",
     "output_type": "stream",
     "text": [
      "acc for 10-fold Qkernel IQP embedding depth 1 is  0.7799999999999999\n"
     ]
    }
   ],
   "source": [
    "# # IQP Embedding\n",
    "# X = X\n",
    "# y = y\n",
    "# lasso = SVC(kernel=new_kernel_par)\n",
    "# cv = KFold(n_splits=10, random_state=42, shuffle=True)\n",
    "# cv_results2 = cross_validate(lasso, X, y, cv=cv)\n",
    "# sorted(cv_results2.keys())\n",
    "# ['fit_time', 'score_time', 'test_score']\n",
    "# print(\"acc for 10-fold Qkernel IQP embedding depth 1 is \",sum(cv_results2['test_score'])/10)"
   ]
  },
  {
   "cell_type": "code",
   "execution_count": null,
   "id": "d0768f04",
   "metadata": {},
   "outputs": [
    {
     "name": "stdout",
     "output_type": "stream",
     "text": [
      "acc for 10-fold Qkernel IQP embedding depth 2 is  0.7799999999999999\n"
     ]
    }
   ],
   "source": [
    "# # IQP Embedding with depth 2\n",
    "# X = X\n",
    "# y = y\n",
    "# lasso = SVC(kernel=new_kernel_par)\n",
    "# cv = KFold(n_splits=10, random_state=42, shuffle=True)\n",
    "# cv_results3 = cross_validate(lasso, X, y, cv=cv)\n",
    "# sorted(cv_results3.keys())\n",
    "# ['fit_time', 'score_time', 'test_score']\n",
    "# print(\"acc for 10-fold Qkernel IQP embedding depth 2 is \",sum(cv_results3['test_score'])/10)"
   ]
  },
  {
   "cell_type": "code",
   "execution_count": null,
   "id": "8299f5de",
   "metadata": {},
   "outputs": [],
   "source": [
    "#X.shape"
   ]
  },
  {
   "cell_type": "code",
   "execution_count": null,
   "id": "6195b546",
   "metadata": {},
   "outputs": [],
   "source": []
  }
 ],
 "metadata": {
  "kernelspec": {
   "display_name": "Python 3 (ipykernel)",
   "language": "python",
   "name": "python3"
  },
  "language_info": {
   "codemirror_mode": {
    "name": "ipython",
    "version": 3
   },
   "file_extension": ".py",
   "mimetype": "text/x-python",
   "name": "python",
   "nbconvert_exporter": "python",
   "pygments_lexer": "ipython3",
   "version": "3.11.4"
  }
 },
 "nbformat": 4,
 "nbformat_minor": 5
}
