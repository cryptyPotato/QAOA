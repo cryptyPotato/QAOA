{
 "cells": [
  {
   "cell_type": "code",
   "execution_count": null,
   "id": "57a445b7-9e7b-42ec-bfc5-58e32efbdc3d",
   "metadata": {},
   "outputs": [],
   "source": [
    "import sys\n",
    "sys.path.append('/home/g/gaur/gaur/.local/lib/python3.8/site-packages')"
   ]
  },
  {
   "cell_type": "code",
   "execution_count": null,
   "id": "0d48a0f7-536b-41ab-bba5-70c6bd880ecb",
   "metadata": {
    "tags": []
   },
   "outputs": [],
   "source": [
    "import numpy as np\n",
    "import torch \n",
    "from torch.nn.functional import relu\n",
    "\n",
    "from sklearn.svm import SVC\n",
    "from sklearn.datasets import load_iris,load_diabetes\n",
    "from sklearn.preprocessing import StandardScaler\n",
    "from sklearn.model_selection import train_test_split\n",
    "from sklearn.metrics import accuracy_score\n",
    "from sklearn.feature_selection import SelectKBest\n",
    "from sklearn.feature_selection import f_classif\n",
    "from sklearn.model_selection import GridSearchCV, KFold\n",
    "from sklearn.model_selection import cross_validate\n",
    "from sklearn.model_selection import RepeatedKFold\n",
    "\n",
    "\n",
    "from sklearn.pipeline import make_pipeline\n",
    "from sklearn import preprocessing\n",
    "\n",
    "import pennylane as qml\n",
    "from pennylane.templates import AngleEmbedding, StronglyEntanglingLayers,IQPEmbedding\n",
    "from pennylane.operation import Tensor\n",
    "\n",
    "import matplotlib.pyplot as plt\n",
    "\n",
    "from sklearn import metrics\n",
    "np.random.seed(42)"
   ]
  },
  {
   "cell_type": "code",
   "execution_count": null,
   "id": "df72dd3e-28ae-4a59-8bb9-7104987d111e",
   "metadata": {
    "tags": []
   },
   "outputs": [],
   "source": [
    "X, y = load_diabetes(return_X_y=True, as_frame=False)\n",
    "\n",
    "n = 442\n",
    "\n",
    "# pick inputs and labels from the first two classes only,\n",
    "# corresponding to the first 100 samples\n",
    "#X = X[:500]\n",
    "#y = y[:500]\n",
    "\n",
    "\n",
    "\n",
    "X = SelectKBest(f_classif, k=4).fit_transform(X, y)\n",
    "#print(X.shape)\n",
    "#print(X[1])\n",
    "\n",
    "# y is the blood glucose level one year after the base line test\n",
    "# change y to binary y >= 185 diabetes, no otherwise\n",
    "\n",
    "for i in range(len(y)):\n",
    "    if (y[i] > 185):\n",
    "        y[i] = 1\n",
    "    else:\n",
    "        y[i] = 0\n",
    "        \n",
    "#print(y)\n",
    "\n",
    "\n",
    "# scaling the inputs is important since the embedding we use is periodic\n",
    "#scaler = StandardScaler().fit(X)\n",
    "#X_scaled = scaler.transform(X)\n",
    "\n",
    "# scaling the labels to -1, 1 is important for the SVM and the\n",
    "# definition of a hinge loss\n",
    "y_scaled = 2 * (y - 0.5)\n",
    "\n",
    "\n",
    "#X_train, X_test, y_train, y_test = train_test_split(X_scaled, y_scaled)\n",
    "X_train, X_test, y_train, y_test = train_test_split(X , y_scaled)\n",
    "\n",
    "scaler = StandardScaler().fit(X_train)\n",
    "X_train = scaler.transform(X_train)\n",
    "\n",
    "#clf = svm.SVC(C=1).fit(X_train_transformed, y_train)\n",
    "X_test = scaler.transform(X_test)\n",
    "\n",
    "#X  = np.concatenate((X_train, X_test), axis=0)\n",
    "X.shape"
   ]
  },
  {
   "cell_type": "code",
   "execution_count": null,
   "id": "f8bbbdfa-393e-4ad9-b8ea-e5fd16922be5",
   "metadata": {
    "tags": []
   },
   "outputs": [],
   "source": [
    "# Define the custom unitary matrix\n",
    "custom_matrix = np.array([[1, -1], [1, 1]])\n",
    "custom_matrix = custom_matrix/(2**0.5)\n",
    "\n",
    "# Define the quantum circuit\n",
    "dev = qml.device(\"default.qubit\", wires=4,shots = None)\n",
    "@qml.qnode(dev)\n",
    "def circuit(x1,x2,length):\n",
    "    # Apply the custom gate to the qubit\n",
    "    #k = True\n",
    "    #while k == True:\n",
    "    qml.QubitUnitary(custom_matrix, wires=0)\n",
    "    qml.PauliX(wires = 0)\n",
    "    qml.ctrl(qml.AngleEmbedding, control=0)(features=x1, wires=range(1,length+1))\n",
    "    qml.PauliX(wires = 0)\n",
    "    qml.ctrl(qml.AngleEmbedding, control=0)(features=x2, wires=range(1,length+1))#,n_repeats=1)\n",
    "    qml.QubitUnitary(custom_matrix, wires = 0)\n",
    "    #qml.PauliX(0)\n",
    "    #m_0 = qml.measure(0)\n",
    "    #print(m_0)\n",
    "    #if m_0 == 0:\n",
    "    #    k = False\n",
    "    identity = np.array([[1,0],[0,1]])\n",
    "    for i in range(length-1):\n",
    "        identity = np.kron(identity,np.array([[1,0],[0,0]]))\n",
    "    #return #qml.cond(m_0 == 0,qml.expval(qml.Hermitian))(identity,wires=range(1,length+1))\n",
    "    return qml.probs()\n",
    "# Print the resulting state after applying the gate\n",
    "#print(qml.draw_mpl(circuit)(X_train[0],X_train[1],len(X_train[0])))\n",
    "#print('')\n",
    "#print(qml.matrix(circuit)(X_train[0],X_train[1],len(X_train[0])))\n",
    "#print(circuit(X_train[0],X_train[1],len(X_train[0])))"
   ]
  },
  {
   "cell_type": "code",
   "execution_count": null,
   "id": "946e2b7e-bbaa-4913-9ca4-9d453f2787c1",
   "metadata": {
    "tags": []
   },
   "outputs": [],
   "source": [
    "def kernel_value(x1,x2):\n",
    "    #state = circuit(x1,x2,len(x1))\n",
    "    #state[len(state)//2:] = 0\n",
    "    #state[1::2] = 0\n",
    "    #state = state / np.linalg.norm(state)\n",
    "    #np.linalg.norm(state)\n",
    "    probs = circuit(x1,x2,len(x1))\n",
    "    return 4*np.sum(probs[:len(probs)//2])\n",
    "    #return 4*np.real(np.matmul(np.conjugate(np.transpose(state)),state))"
   ]
  },
  {
   "cell_type": "code",
   "execution_count": null,
   "id": "0d51d21a-fb97-4b2b-92bd-3cf88b624bb2",
   "metadata": {
    "tags": []
   },
   "outputs": [],
   "source": [
    "def kernel_matrix_rectangular(A, B,i):\n",
    "    #sigma=0.1\n",
    "    gamma = 1\n",
    "    \"\"\"Compute the matrix whose entries are the kernel\n",
    "       evaluated on pairwise data from sets A and B.\"\"\"\n",
    "    res = np.zeros((1,len(B)))\n",
    " #   for i in range(len(A)):\n",
    "    for j in range(len(B)):\n",
    "        # if ( i < j):\n",
    "        # res[0,j] =  np.exp(- gamma*(2 - kernel(A[0], B[j]))**2) # np.exp((-2 + kernel(A[0], B[j])))\n",
    "        #res[0,j] =  np.exp(- gamma*(2 - kernel(A[0], B[j]))**2 )\n",
    "        res[0,j] = np.exp(- gamma*kernel_value(A[0],B[j])**2)\n",
    "         #   else:\n",
    "             #   res[i,j] = res[j,i]\n",
    "    return list(res[0])\n",
    "def kernel_matrix_square(A, B, i):\n",
    "    gamma = 1\n",
    "    res = np.zeros((1,len(B)))\n",
    "    for j in range(i+1,len(B)):\n",
    "        # res[0,j] =  np.exp(- gamma*(2 - kernel(A[0], B[j]))**2) # np.exp((-2+kernel(A[0],B[j])))\n",
    "        #res[0,j] =  np.exp(- gamma*(2 - kernel(A[0], B[j]))**2 )\n",
    "        res[0,j] = np.exp(- gamma*kernel_value(A[0],B[j])**2)\n",
    "    return list(res[0])"
   ]
  },
  {
   "cell_type": "code",
   "execution_count": null,
   "id": "de617874-1977-49e2-9767-1b7d93154496",
   "metadata": {
    "tags": []
   },
   "outputs": [],
   "source": [
    "import time\n",
    "import joblib\n",
    "def new_kernel_par(A,B):\n",
    "    ans = np.zeros((len(A),len(B)))\n",
    "    s = time.time()\n",
    "    # kernel_matrix(X_train[0], X_train)\n",
    "    if len(A)==len(B):\n",
    "        ans = joblib.Parallel(n_jobs=4)(joblib.delayed(kernel_matrix_square)([A[i]],B,i) for i in range(len(A)))\n",
    "        #print(ans)\n",
    "        e = time.time()\n",
    "        ans = np.array(ans)\n",
    "        #print(ans.shape)\n",
    "        ans=ans+ans.T+np.eye(len(A),len(B))\n",
    "        #print(ans)\n",
    "    else:\n",
    "        ans = joblib.Parallel(n_jobs=4)(joblib.delayed(kernel_matrix_rectangular)([A[i]],B,i) for i in range(len(A)))\n",
    "        #print(ans)\n",
    "        e = time.time()\n",
    "        ans = np.array(ans)\n",
    "        #print(ans.shape)\n",
    "        #ans=ans+ans.T+np.eye(len(A),len(B))\n",
    "        #print(ans)\n",
    "   # ti=e-s\n",
    "    # print((e-s)/(40)* 900*10**6/2 /3600/24)\n",
    "    # print(1)\n",
    "    return ans   #, (e-s)/(400-20)* 900*10**6/2 /3600/24"
   ]
  },
  {
   "cell_type": "code",
   "execution_count": null,
   "id": "b642fa2d-fde6-4448-91cc-2a94eb47019b",
   "metadata": {},
   "outputs": [],
   "source": [
    "# angle embedding\n",
    "\n",
    "\n",
    "# >>> cross_val_score(clf, X, y, cv=cv)\n",
    "\n",
    "#X = X[:100]\n",
    "#y = y[:100]\n",
    "\n",
    "lasso = SVC(kernel= new_kernel_par)#newhttps://jupyter.scinet.utoronto.ca/user/gaur/notebooks/Siddartha/Pima_diabetes.ipynb#_kernel_par)\n",
    "clf = make_pipeline(preprocessing.StandardScaler(), lasso)\n",
    "# cv = KFold(n_splits=10, random_state=42, shuffle=True)\n",
    "cv = RepeatedKFold(n_splits=10, n_repeats=10, random_state=42)\n",
    "cv_results = cross_validate(clf, X, y, cv=cv)\n",
    "sorted(cv_results.keys())\n",
    "['fit_time', 'score_time', 'test_score']\n",
    "print(\"acc for 10-fold Qkernel-2 angle embedding is \",cv_results['test_score'],np.mean(cv_results['test_score']))"
   ]
  },
  {
   "cell_type": "code",
   "execution_count": null,
   "id": "b1c74b6b-81dd-4b23-b35a-4f5c606eba26",
   "metadata": {},
   "outputs": [],
   "source": []
  }
 ],
 "metadata": {
  "kernelspec": {
   "display_name": "Python 3 (ipykernel)",
   "language": "python",
   "name": "python3"
  },
  "language_info": {
   "codemirror_mode": {
    "name": "ipython",
    "version": 3
   },
   "file_extension": ".py",
   "mimetype": "text/x-python",
   "name": "python",
   "nbconvert_exporter": "python",
   "pygments_lexer": "ipython3",
   "version": "3.11.4"
  }
 },
 "nbformat": 4,
 "nbformat_minor": 5
}
