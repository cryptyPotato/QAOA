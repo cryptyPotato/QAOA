{
 "cells": [
  {
   "cell_type": "code",
   "execution_count": 143,
   "id": "4be8aab1-ffd1-4912-85ee-ba32894db5b6",
   "metadata": {
    "tags": []
   },
   "outputs": [],
   "source": [
    "import numpy as np\n",
    "import torch \n",
    "from torch.nn.functional import relu\n",
    "\n",
    "from sklearn.svm import SVC\n",
    "from sklearn.datasets import load_iris,load_breast_cancer\n",
    "from sklearn.preprocessing import StandardScaler\n",
    "from sklearn.model_selection import train_test_split\n",
    "from sklearn.metrics import accuracy_score\n",
    "\n",
    "import pennylane as qml\n",
    "from pennylane.templates import AngleEmbedding, StronglyEntanglingLayers,IQPEmbedding\n",
    "from pennylane.operation import Tensor\n",
    "\n",
    "import matplotlib.pyplot as plt\n",
    "\n",
    "np.random.seed(42)"
   ]
  },
  {
   "cell_type": "code",
   "execution_count": 2,
   "id": "e66990a7-c10e-49f9-bbfa-7a54f568ec5e",
   "metadata": {
    "tags": []
   },
   "outputs": [],
   "source": [
    "X, y = load_iris(return_X_y=True)\n",
    "\n",
    "# pick inputs and labels from the first two classes only,\n",
    "# corresponding to the first 100 samples\n",
    "X = X[:100]\n",
    "y = y[:100]\n",
    "\n",
    "# scaling the inputs is important since the embedding we use is periodic\n",
    "scaler = StandardScaler().fit(X)\n",
    "X_scaled = scaler.transform(X)\n",
    "\n",
    "# scaling the labels to -1, 1 is important for the SVM and the\n",
    "# definition of a hinge loss\n",
    "y_scaled = 2 * (y - 0.5)\n",
    "\n",
    "X_train, X_test, y_train, y_test = train_test_split(X_scaled, y_scaled)"
   ]
  },
  {
   "cell_type": "code",
   "execution_count": 5,
   "id": "90cb7b80-9a94-4ea2-ae0b-d0de966b9cf3",
   "metadata": {},
   "outputs": [],
   "source": [
    "def circuit(feature_vector,feature_vector_2,length):\n",
    "#    qml.AngleEmbedding(features=feature_vector, wires=range(length),rotation='Z')\n",
    "#    qml.adjoint(qml.AngleEmbedding(features=feature_vector_2, wires=range(length),rotation='Z'))\n",
    "    qml.IQPEmbedding(features=feature_vector, wires=range(length),n_repeats=2)\n",
    "    qml.adjoint(qml.IQPEmbedding(features=feature_vector_2, wires=range(length),n_repeats=2))\n",
    "    return qml.probs(wires=range(length))\n",
    "n_qubits = len(X_train[0])\n",
    "dev_kernel = qml.device(\"default.qubit\", wires=n_qubits)"
   ]
  },
  {
   "cell_type": "code",
   "execution_count": 6,
   "id": "bb6c6339-b799-4056-af3c-287d50fcfb5e",
   "metadata": {
    "tags": []
   },
   "outputs": [],
   "source": [
    "\n",
    "@qml.qnode(dev_kernel, interface=\"autograd\")\n",
    "def kernel(x1, x2):\n",
    "    \"\"\"The quantum kernel.\"\"\"\n",
    "    u_1 = qml.matrix(circuit)(x1,x2,len(x1))\n",
    "    u_2 = u_1.conjugate().transpose()\n",
    "    projector = u_1+u_2\n",
    "    return qml.expval(qml.Hermitian(projector,wires=range(n_qubits)))"
   ]
  },
  {
   "cell_type": "code",
   "execution_count": 80,
   "id": "cce021f8-4939-48b4-8349-78cdf1e72e62",
   "metadata": {
    "tags": []
   },
   "outputs": [],
   "source": [
    "def kernel_matrix_2(A, B):\n",
    "    \"\"\"Compute the matrix whose entries are the kernel\n",
    "       evaluated on pairwise data from sets A and B.\"\"\"\n",
    "    return np.array([[np.exp(-2 + kernel(a, b)) for b in B] for a in A])"
   ]
  },
  {
   "cell_type": "code",
   "execution_count": 116,
   "id": "6b1ce182-7039-4a8f-94b4-42a53a55d0c7",
   "metadata": {
    "tags": []
   },
   "outputs": [],
   "source": [
    "def qsvm(Xtrain,ytrain):\n",
    "    svm = SVC(kernel=new_kernel_par).fit(Xtrain, ytrain)\n",
    "    return svm"
   ]
  },
  {
   "cell_type": "code",
   "execution_count": 9,
   "id": "286c5aef-9e3c-4d7e-9625-6f53dc18ef4a",
   "metadata": {
    "tags": []
   },
   "outputs": [],
   "source": [
    "svm = qsvm(X_train,y_train)"
   ]
  },
  {
   "cell_type": "code",
   "execution_count": 10,
   "id": "56af4617-7e82-4124-aefc-9baf38d4885a",
   "metadata": {
    "tags": []
   },
   "outputs": [
    {
     "data": {
      "text/plain": [
       "1.0"
      ]
     },
     "execution_count": 10,
     "metadata": {},
     "output_type": "execute_result"
    }
   ],
   "source": [
    "predictions = svm.predict(X_test)\n",
    "accuracy_score(predictions, y_test)"
   ]
  },
  {
   "cell_type": "code",
   "execution_count": 83,
   "id": "35af3a05-aef4-4812-a1fc-69994348b5c5",
   "metadata": {
    "tags": []
   },
   "outputs": [],
   "source": [
    "array = np.random.randint(low=0, high=10, size=(5, 5))\n"
   ]
  },
  {
   "cell_type": "code",
   "execution_count": 88,
   "id": "ab60d126-ad22-4d5d-8189-233411515374",
   "metadata": {
    "tags": []
   },
   "outputs": [],
   "source": [
    "import time\n",
    "start = time.time()\n",
    "kernel_matrix(array[0:2],array[0:2])\n",
    "end = time.time()"
   ]
  },
  {
   "cell_type": "code",
   "execution_count": 54,
   "id": "f05296d0-39c8-4087-a037-c4aab4d39029",
   "metadata": {
    "tags": []
   },
   "outputs": [
    {
     "data": {
      "text/plain": [
       "10"
      ]
     },
     "execution_count": 54,
     "metadata": {},
     "output_type": "execute_result"
    }
   ],
   "source": [
    "len(array[0])"
   ]
  },
  {
   "cell_type": "code",
   "execution_count": 91,
   "id": "d1a694a7-1d6e-495d-b542-a27afb8fc4df",
   "metadata": {
    "tags": []
   },
   "outputs": [
    {
     "name": "stdout",
     "output_type": "stream",
     "text": [
      "1.1090355936759784\n"
     ]
    }
   ],
   "source": [
    "print((end-start)/9 * 0.9* 10**9 /2 /3600/24/48)"
   ]
  },
  {
   "cell_type": "code",
   "execution_count": 138,
   "id": "293e077c-e5a1-4dcc-9905-f92fff673867",
   "metadata": {
    "tags": []
   },
   "outputs": [],
   "source": [
    "def kernel_matrix1(A, B,i):\n",
    "    sigma=0.1\n",
    "    \"\"\"Compute the matrix whose entries are the kernel\n",
    "       evaluated on pairwise data from sets A and B.\"\"\"\n",
    "    res = np.zeros((1,len(B)))\n",
    " #   for i in range(len(A)):\n",
    "    for j in range(len(B)):\n",
    "        # if ( i < j):\n",
    "        res[0,j] = np.exp((-2 + kernel(A[0], B[j])))\n",
    "         #   else:\n",
    "             #   res[i,j] = res[j,i]\n",
    "    return list(res[0])\n",
    "\n",
    "import time\n",
    "import joblib\n",
    "def new_kernel_par(A,B):\n",
    "    ans = np.zeros((len(A),len(B)))\n",
    "    s = time.time()\n",
    "    # kernel_matrix(X_train[0], X_train)\n",
    "    ans = joblib.Parallel(n_jobs=7)(joblib.delayed(kernel_matrix1)([A[i]],B,i) for i in range(len(A)))\n",
    "    #pool_obj.map(kernel_matrix,[(X_train[i],X_train) for i in range(len(X_train))])\n",
    "    #print(ans)\n",
    "    e = time.time()\n",
    "    ans = np.array(ans)\n",
    "    print(ans.shape)\n",
    "    #ans=ans+ans.T+np.eye(len(A),len(B))\n",
    "    print(ans)\n",
    "   # ti=e-s\n",
    "    print((e-s)/(400-20)* 900*10**6/2 /3600/24)\n",
    "    return ans   #, (e-s)/(400-20)* 900*10**6/2 /3600/24\n",
    "\n",
    "\n",
    "\n",
    "\n",
    "\n",
    "\n",
    "\n"
   ]
  },
  {
   "cell_type": "code",
   "execution_count": 139,
   "id": "081aca6d-ecdc-4835-a460-ab12e4d71fff",
   "metadata": {
    "tags": []
   },
   "outputs": [
    {
     "name": "stdout",
     "output_type": "stream",
     "text": [
      "(75, 75)\n",
      "[[1.         0.16688894 0.20860824 ... 0.64315212 0.16092629 0.16406905]\n",
      " [0.16688894 1.         0.06395884 ... 0.26309003 0.09730596 0.10769684]\n",
      " [0.20860824 0.06395884 1.         ... 0.13965006 0.69280807 0.33362774]\n",
      " ...\n",
      " [0.64315212 0.26309003 0.13965006 ... 1.         0.14637386 0.113567  ]\n",
      " [0.16092629 0.09730596 0.69280807 ... 0.14637386 1.         0.20919519]\n",
      " [0.16406905 0.10769684 0.33362774 ... 0.113567   0.20919519 1.        ]]\n",
      "206.5943652077725\n"
     ]
    }
   ],
   "source": [
    "c = new_kernel_par(X_train,X_train)"
   ]
  },
  {
   "cell_type": "code",
   "execution_count": 141,
   "id": "84a617e6-4fd2-4759-a806-ab48a41b37f4",
   "metadata": {
    "tags": []
   },
   "outputs": [
    {
     "data": {
      "text/plain": [
       "4.291666666666667"
      ]
     },
     "execution_count": 141,
     "metadata": {},
     "output_type": "execute_result"
    }
   ],
   "source": [
    "206/48"
   ]
  },
  {
   "cell_type": "code",
   "execution_count": 140,
   "id": "c61cde72-fd29-47ff-8207-b497b9aa4d45",
   "metadata": {
    "tags": []
   },
   "outputs": [],
   "source": [
    "s = time.time()\n",
    "b = kernel_matrix_2(X_train,X_train)\n",
    "e = time.time()\n"
   ]
  },
  {
   "cell_type": "code",
   "execution_count": 100,
   "id": "2834875d-6ff4-4402-aaad-71105a9dc3b2",
   "metadata": {
    "tags": []
   },
   "outputs": [
    {
     "name": "stdout",
     "output_type": "stream",
     "text": [
      "152.94998043910007\n"
     ]
    }
   ],
   "source": [
    "print((e-s)/(400-20)* 900*10**6/7 /3600/24)"
   ]
  },
  {
   "cell_type": "code",
   "execution_count": 86,
   "id": "69b49a46-54aa-4db6-a2e1-b3f3de65a057",
   "metadata": {
    "tags": []
   },
   "outputs": [
    {
     "data": {
      "text/plain": [
       "array([[False,  True,  True, ...,  True,  True,  True],\n",
       "       [False, False,  True, ...,  True,  True,  True],\n",
       "       [False, False, False, ...,  True,  True,  True],\n",
       "       ...,\n",
       "       [False, False, False, ..., False,  True,  True],\n",
       "       [ True, False, False, ...,  True, False,  True],\n",
       "       [False, False, False, ..., False, False, False]])"
      ]
     },
     "execution_count": 86,
     "metadata": {},
     "output_type": "execute_result"
    }
   ],
   "source": [
    "b == c"
   ]
  },
  {
   "cell_type": "code",
   "execution_count": 111,
   "id": "6ea09a97-606f-4dda-ac22-f355b0a70624",
   "metadata": {
    "tags": []
   },
   "outputs": [],
   "source": [
    "e = b - c"
   ]
  },
  {
   "cell_type": "code",
   "execution_count": 112,
   "id": "0dbc638f-2a7f-42e1-9e5c-1ec2d848aa24",
   "metadata": {
    "tags": []
   },
   "outputs": [
    {
     "data": {
      "text/plain": [
       "2.4424906541753444e-15"
      ]
     },
     "execution_count": 112,
     "metadata": {},
     "output_type": "execute_result"
    }
   ],
   "source": [
    "np.max(e)"
   ]
  },
  {
   "cell_type": "code",
   "execution_count": 113,
   "id": "e8f484ea-15f0-4992-ba0d-564c88bdc991",
   "metadata": {
    "tags": []
   },
   "outputs": [
    {
     "data": {
      "text/plain": [
       "-5.329070518200751e-15"
      ]
     },
     "execution_count": 113,
     "metadata": {},
     "output_type": "execute_result"
    }
   ],
   "source": [
    "np.min(e)"
   ]
  },
  {
   "cell_type": "code",
   "execution_count": 114,
   "id": "99788e4b-3bd4-4bbc-8ca6-f8f8af5b0084",
   "metadata": {
    "tags": []
   },
   "outputs": [],
   "source": [
    "f  = np.abs(e)"
   ]
  },
  {
   "cell_type": "code",
   "execution_count": 115,
   "id": "94fe4e15-47e9-4f42-b440-3aba20debe90",
   "metadata": {
    "tags": []
   },
   "outputs": [
    {
     "data": {
      "text/plain": [
       "5.329070518200751e-15"
      ]
     },
     "execution_count": 115,
     "metadata": {},
     "output_type": "execute_result"
    }
   ],
   "source": [
    "np.max(f)"
   ]
  },
  {
   "cell_type": "code",
   "execution_count": 95,
   "id": "b346c91d-2ba5-4f21-bdc2-937cc8f2aa2d",
   "metadata": {
    "tags": []
   },
   "outputs": [
    {
     "data": {
      "text/plain": [
       "0.0"
      ]
     },
     "execution_count": 95,
     "metadata": {},
     "output_type": "execute_result"
    }
   ],
   "source": [
    "np.min(f)"
   ]
  },
  {
   "cell_type": "code",
   "execution_count": 97,
   "id": "92972485-d911-4a0e-9f93-eb0e6c35ded9",
   "metadata": {
    "tags": []
   },
   "outputs": [
    {
     "data": {
      "text/plain": [
       "(75, 75)"
      ]
     },
     "execution_count": 97,
     "metadata": {},
     "output_type": "execute_result"
    }
   ],
   "source": [
    "np.shape(c)"
   ]
  },
  {
   "cell_type": "code",
   "execution_count": 98,
   "id": "6ad22322-c164-4c6d-a282-0da33be33058",
   "metadata": {
    "tags": []
   },
   "outputs": [
    {
     "data": {
      "text/plain": [
       "(75, 75)"
      ]
     },
     "execution_count": 98,
     "metadata": {},
     "output_type": "execute_result"
    }
   ],
   "source": [
    "np.shape(b)"
   ]
  },
  {
   "cell_type": "code",
   "execution_count": 136,
   "id": "b3c61e31-9cd6-438f-b2f0-19f4af5fe197",
   "metadata": {
    "tags": []
   },
   "outputs": [
    {
     "name": "stdout",
     "output_type": "stream",
     "text": [
      "(75, 75)\n",
      "[[1.         0.16688894 0.20860824 ... 0.64315212 0.16092629 0.16406905]\n",
      " [0.16688894 1.         0.06395884 ... 0.26309003 0.09730596 0.10769684]\n",
      " [0.20860824 0.06395884 1.         ... 0.13965006 0.69280807 0.33362774]\n",
      " ...\n",
      " [0.64315212 0.26309003 0.13965006 ... 1.         0.14637386 0.113567  ]\n",
      " [0.16092629 0.09730596 0.69280807 ... 0.14637386 1.         0.20919519]\n",
      " [0.16406905 0.10769684 0.33362774 ... 0.113567   0.20919519 1.        ]]\n",
      "542.3802621009057\n"
     ]
    }
   ],
   "source": [
    "svc = qsvm(X_train,y_train)"
   ]
  },
  {
   "cell_type": "code",
   "execution_count": 137,
   "id": "6b9bd501-0e55-401e-b60f-226813951e58",
   "metadata": {
    "tags": []
   },
   "outputs": [
    {
     "name": "stdout",
     "output_type": "stream",
     "text": [
      "(25, 75)\n",
      "[[0.20124598 0.07183374 0.46793124 ... 0.20207024 0.42642714 0.2452879 ]\n",
      " [0.10671095 0.16962686 0.33357255 ... 0.14111441 0.58520811 0.09335604]\n",
      " [0.19937626 0.10173829 0.39294518 ... 0.1531241  0.24753385 0.49297063]\n",
      " ...\n",
      " [0.17452395 0.85226386 0.08078443 ... 0.31476012 0.13989326 0.11765276]\n",
      " [0.12915539 0.30112457 0.0634223  ... 0.11796773 0.06751795 0.14322252]\n",
      " [0.17310143 0.14541086 0.53903886 ... 0.1816135  0.84731179 0.14106726]]\n",
      "183.3927343811905\n"
     ]
    },
    {
     "data": {
      "text/plain": [
       "1.0"
      ]
     },
     "execution_count": 137,
     "metadata": {},
     "output_type": "execute_result"
    }
   ],
   "source": [
    "predictions = svc.predict(X_test)\n",
    "accuracy_score(predictions, y_test)"
   ]
  },
  {
   "cell_type": "code",
   "execution_count": 142,
   "id": "c52e7800-a962-4b59-862f-8309b52ee331",
   "metadata": {
    "tags": []
   },
   "outputs": [
    {
     "data": {
      "text/plain": [
       "3.8125"
      ]
     },
     "execution_count": 142,
     "metadata": {},
     "output_type": "execute_result"
    }
   ],
   "source": [
    "183/48"
   ]
  },
  {
   "cell_type": "code",
   "execution_count": 125,
   "id": "d8313b17-9f23-4830-8fa0-c4038df8e20d",
   "metadata": {
    "tags": []
   },
   "outputs": [
    {
     "data": {
      "text/plain": [
       "array([[0., 0., 0.],\n",
       "       [0., 0., 0.]])"
      ]
     },
     "execution_count": 125,
     "metadata": {},
     "output_type": "execute_result"
    }
   ],
   "source": [
    "np.zeros((2,3))"
   ]
  },
  {
   "cell_type": "code",
   "execution_count": 129,
   "id": "8223e2e9-8ba2-48e5-b171-cb4bdc920416",
   "metadata": {
    "tags": []
   },
   "outputs": [
    {
     "data": {
      "text/html": [
       "<style>#sk-container-id-2 {color: black;background-color: white;}#sk-container-id-2 pre{padding: 0;}#sk-container-id-2 div.sk-toggleable {background-color: white;}#sk-container-id-2 label.sk-toggleable__label {cursor: pointer;display: block;width: 100%;margin-bottom: 0;padding: 0.3em;box-sizing: border-box;text-align: center;}#sk-container-id-2 label.sk-toggleable__label-arrow:before {content: \"▸\";float: left;margin-right: 0.25em;color: #696969;}#sk-container-id-2 label.sk-toggleable__label-arrow:hover:before {color: black;}#sk-container-id-2 div.sk-estimator:hover label.sk-toggleable__label-arrow:before {color: black;}#sk-container-id-2 div.sk-toggleable__content {max-height: 0;max-width: 0;overflow: hidden;text-align: left;background-color: #f0f8ff;}#sk-container-id-2 div.sk-toggleable__content pre {margin: 0.2em;color: black;border-radius: 0.25em;background-color: #f0f8ff;}#sk-container-id-2 input.sk-toggleable__control:checked~div.sk-toggleable__content {max-height: 200px;max-width: 100%;overflow: auto;}#sk-container-id-2 input.sk-toggleable__control:checked~label.sk-toggleable__label-arrow:before {content: \"▾\";}#sk-container-id-2 div.sk-estimator input.sk-toggleable__control:checked~label.sk-toggleable__label {background-color: #d4ebff;}#sk-container-id-2 div.sk-label input.sk-toggleable__control:checked~label.sk-toggleable__label {background-color: #d4ebff;}#sk-container-id-2 input.sk-hidden--visually {border: 0;clip: rect(1px 1px 1px 1px);clip: rect(1px, 1px, 1px, 1px);height: 1px;margin: -1px;overflow: hidden;padding: 0;position: absolute;width: 1px;}#sk-container-id-2 div.sk-estimator {font-family: monospace;background-color: #f0f8ff;border: 1px dotted black;border-radius: 0.25em;box-sizing: border-box;margin-bottom: 0.5em;}#sk-container-id-2 div.sk-estimator:hover {background-color: #d4ebff;}#sk-container-id-2 div.sk-parallel-item::after {content: \"\";width: 100%;border-bottom: 1px solid gray;flex-grow: 1;}#sk-container-id-2 div.sk-label:hover label.sk-toggleable__label {background-color: #d4ebff;}#sk-container-id-2 div.sk-serial::before {content: \"\";position: absolute;border-left: 1px solid gray;box-sizing: border-box;top: 0;bottom: 0;left: 50%;z-index: 0;}#sk-container-id-2 div.sk-serial {display: flex;flex-direction: column;align-items: center;background-color: white;padding-right: 0.2em;padding-left: 0.2em;position: relative;}#sk-container-id-2 div.sk-item {position: relative;z-index: 1;}#sk-container-id-2 div.sk-parallel {display: flex;align-items: stretch;justify-content: center;background-color: white;position: relative;}#sk-container-id-2 div.sk-item::before, #sk-container-id-2 div.sk-parallel-item::before {content: \"\";position: absolute;border-left: 1px solid gray;box-sizing: border-box;top: 0;bottom: 0;left: 50%;z-index: -1;}#sk-container-id-2 div.sk-parallel-item {display: flex;flex-direction: column;z-index: 1;position: relative;background-color: white;}#sk-container-id-2 div.sk-parallel-item:first-child::after {align-self: flex-end;width: 50%;}#sk-container-id-2 div.sk-parallel-item:last-child::after {align-self: flex-start;width: 50%;}#sk-container-id-2 div.sk-parallel-item:only-child::after {width: 0;}#sk-container-id-2 div.sk-dashed-wrapped {border: 1px dashed gray;margin: 0 0.4em 0.5em 0.4em;box-sizing: border-box;padding-bottom: 0.4em;background-color: white;}#sk-container-id-2 div.sk-label label {font-family: monospace;font-weight: bold;display: inline-block;line-height: 1.2em;}#sk-container-id-2 div.sk-label-container {text-align: center;}#sk-container-id-2 div.sk-container {/* jupyter's `normalize.less` sets `[hidden] { display: none; }` but bootstrap.min.css set `[hidden] { display: none !important; }` so we also need the `!important` here to be able to override the default hidden behavior on the sphinx rendered scikit-learn.org. See: https://github.com/scikit-learn/scikit-learn/issues/21755 */display: inline-block !important;position: relative;}#sk-container-id-2 div.sk-text-repr-fallback {display: none;}</style><div id=\"sk-container-id-2\" class=\"sk-top-container\"><div class=\"sk-text-repr-fallback\"><pre>SVC(kernel=&lt;function new_kernel_par at 0x2985e91c0&gt;)</pre><b>In a Jupyter environment, please rerun this cell to show the HTML representation or trust the notebook. <br />On GitHub, the HTML representation is unable to render, please try loading this page with nbviewer.org.</b></div><div class=\"sk-container\" hidden><div class=\"sk-item\"><div class=\"sk-estimator sk-toggleable\"><input class=\"sk-toggleable__control sk-hidden--visually\" id=\"sk-estimator-id-2\" type=\"checkbox\" checked><label for=\"sk-estimator-id-2\" class=\"sk-toggleable__label sk-toggleable__label-arrow\">SVC</label><div class=\"sk-toggleable__content\"><pre>SVC(kernel=&lt;function new_kernel_par at 0x2985e91c0&gt;)</pre></div></div></div></div></div>"
      ],
      "text/plain": [
       "SVC(kernel=<function new_kernel_par at 0x2985e91c0>)"
      ]
     },
     "execution_count": 129,
     "metadata": {},
     "output_type": "execute_result"
    }
   ],
   "source": [
    "svc"
   ]
  },
  {
   "cell_type": "code",
   "execution_count": null,
   "id": "aa7142c4-956c-4bb7-afb1-1b841357be5f",
   "metadata": {},
   "outputs": [],
   "source": []
  }
 ],
 "metadata": {
  "kernelspec": {
   "display_name": "Python 3 (ipykernel)",
   "language": "python",
   "name": "python3"
  },
  "language_info": {
   "codemirror_mode": {
    "name": "ipython",
    "version": 3
   },
   "file_extension": ".py",
   "mimetype": "text/x-python",
   "name": "python",
   "nbconvert_exporter": "python",
   "pygments_lexer": "ipython3",
   "version": "3.11.4"
  }
 },
 "nbformat": 4,
 "nbformat_minor": 5
}
