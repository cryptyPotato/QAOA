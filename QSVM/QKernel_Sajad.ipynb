{
 "cells": [
  {
   "cell_type": "code",
   "execution_count": 2,
   "id": "a937d434-6904-469e-b963-477fc12cdf9d",
   "metadata": {
    "tags": []
   },
   "outputs": [],
   "source": [
    "import pennylane as qml\n",
    "from pennylane.templates import AngleEmbedding, StronglyEntanglingLayers,IQPEmbedding\n",
    "from pennylane.operation import Tensor\n"
   ]
  },
  {
   "cell_type": "code",
   "execution_count": null,
   "id": "5dab4f43-ab51-4f4f-83a8-065727aab73c",
   "metadata": {},
   "outputs": [],
   "source": [
    "def circuit(feature_vector,feature_vector_2,length):\n",
    "#    qml.AngleEmbedding(features=feature_vector, wires=range(length),rotation='Z')\n",
    "#    qml.adjoint(qml.AngleEmbedding(features=feature_vector_2, wires=range(length),rotation='Z'))\n",
    "    qml.IQPEmbedding(features=feature_vector, wires=range(length),n_repeats=2)\n",
    "    qml.adjoint(qml.IQPEmbedding(features=feature_vector_2, wires=range(length),n_repeats=2))\n",
    "    return qml.probs(wires=range(length))\n",
    "n_qubits = len(X_train[0])\n",
    "dev_kernel = qml.device(\"default.qubit\", wires=n_qubits)"
   ]
  },
  {
   "cell_type": "code",
   "execution_count": 4,
   "id": "1e3be0c4-e992-499e-a1c9-59f2b3309ae3",
   "metadata": {
    "tags": []
   },
   "outputs": [],
   "source": [
    "\n",
    "@qml.qnode(dev_kernel, interface=\"autograd\")\n",
    "def kernel(x1, x2):\n",
    "    \"\"\"The quantum kernel.\"\"\"\n",
    "    u_1 = qml.matrix(circuit)(x1,x2,len(x1))\n",
    "    u_2 = u_1.conjugate().transpose()\n",
    "    projector = u_1+u_2\n",
    "    return qml.expval(qml.Hermitian(projector,wires=range(n_qubits)))"
   ]
  },
  {
   "cell_type": "code",
   "execution_count": 13,
   "id": "eb4e5574-0797-4183-8ed7-0613dacd30eb",
   "metadata": {
    "tags": []
   },
   "outputs": [],
   "source": [
    "# Samples are in rows.\n",
    "def kernel_matrix(A, B):\n",
    "    \"\"\"Compute the matrix whose entries are the kernel\n",
    "       evaluated on pairwise data from sets A and B.\"\"\"\n",
    "    return np.array([[np.exp(-2 + kernel(a, b)) for b in B] for a in A])"
   ]
  },
  {
   "cell_type": "code",
   "execution_count": 14,
   "id": "76b0bfa9-7d23-4a54-b5ff-bdee12480534",
   "metadata": {
    "tags": []
   },
   "outputs": [],
   "source": [
    "def qsvm(Xtrain,ytrain):\n",
    "    svm = SVC(kernel=kernel_matrix).fit(Xtrain, ytrain)\n",
    "    return svm"
   ]
  }
 ],
 "metadata": {
  "kernelspec": {
   "display_name": "Python 3 (ipykernel)",
   "language": "python",
   "name": "python3"
  },
  "language_info": {
   "codemirror_mode": {
    "name": "ipython",
    "version": 3
   },
   "file_extension": ".py",
   "mimetype": "text/x-python",
   "name": "python",
   "nbconvert_exporter": "python",
   "pygments_lexer": "ipython3",
   "version": "3.11.4"
  }
 },
 "nbformat": 4,
 "nbformat_minor": 5
}
