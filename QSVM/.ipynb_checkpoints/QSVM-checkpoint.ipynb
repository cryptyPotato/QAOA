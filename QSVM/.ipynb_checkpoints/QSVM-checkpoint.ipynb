{
 "cells": [
  {
   "cell_type": "code",
   "execution_count": 23,
   "id": "4be8aab1-ffd1-4912-85ee-ba32894db5b6",
   "metadata": {
    "tags": []
   },
   "outputs": [],
   "source": [
    "import numpy as np\n",
    "import torch \n",
    "from torch.nn.functional import relu\n",
    "\n",
    "from sklearn.svm import SVC\n",
    "from sklearn.datasets import load_iris,load_breast_cancer\n",
    "from sklearn.preprocessing import StandardScaler\n",
    "from sklearn.model_selection import train_test_split\n",
    "from sklearn.metrics import accuracy_score\n",
    "\n",
    "import pennylane as qml\n",
    "from pennylane.templates import AngleEmbedding, StronglyEntanglingLayers,IQPEmbedding\n",
    "from pennylane.operation import Tensor\n",
    "\n",
    "import matplotlib.pyplot as plt\n",
    "\n",
    "np.random.seed(42)"
   ]
  },
  {
   "cell_type": "code",
   "execution_count": 2,
   "id": "e66990a7-c10e-49f9-bbfa-7a54f568ec5e",
   "metadata": {
    "tags": []
   },
   "outputs": [],
   "source": [
    "X, y = load_iris(return_X_y=True)\n",
    "\n",
    "# pick inputs and labels from the first two classes only,\n",
    "# corresponding to the first 100 samples\n",
    "X = X[:100]\n",
    "y = y[:100]\n",
    "\n",
    "# scaling the inputs is important since the embedding we use is periodic\n",
    "scaler = StandardScaler().fit(X)\n",
    "X_scaled = scaler.transform(X)\n",
    "\n",
    "# scaling the labels to -1, 1 is important for the SVM and the\n",
    "# definition of a hinge loss\n",
    "y_scaled = 2 * (y - 0.5)\n",
    "\n",
    "X_train, X_test, y_train, y_test = train_test_split(X_scaled, y_scaled)"
   ]
  },
  {
   "cell_type": "code",
   "execution_count": 85,
   "id": "90cb7b80-9a94-4ea2-ae0b-d0de966b9cf3",
   "metadata": {},
   "outputs": [],
   "source": [
    "def circuit(feature_vector,feature_vector_2,length):\n",
    "#    qml.AngleEmbedding(features=feature_vector, wires=range(length),rotation='Z')\n",
    "#    qml.adjoint(qml.AngleEmbedding(features=feature_vector_2, wires=range(length),rotation='Z'))\n",
    "    qml.IQPEmbedding(features=feature_vector, wires=range(length),n_repeats=2)\n",
    "    qml.adjoint(qml.IQPEmbedding(features=feature_vector_2, wires=range(length),n_repeats=2))\n",
    "    return qml.probs(wires=range(length))\n",
    "n_qubits = len(array[0])\n",
    "dev_kernel = qml.device(\"default.qubit\", wires=n_qubits)"
   ]
  },
  {
   "cell_type": "code",
   "execution_count": 86,
   "id": "bb6c6339-b799-4056-af3c-287d50fcfb5e",
   "metadata": {
    "tags": []
   },
   "outputs": [],
   "source": [
    "\n",
    "@qml.qnode(dev_kernel, interface=\"autograd\")\n",
    "def kernel(x1, x2):\n",
    "    \"\"\"The quantum kernel.\"\"\"\n",
    "    u_1 = qml.matrix(circuit)(x1,x2,len(x1))\n",
    "    u_2 = u_1.conjugate().transpose()\n",
    "    projector = u_1+u_2\n",
    "    return qml.expval(qml.Hermitian(projector,wires=range(n_qubits)))"
   ]
  },
  {
   "cell_type": "code",
   "execution_count": 87,
   "id": "cce021f8-4939-48b4-8349-78cdf1e72e62",
   "metadata": {
    "tags": []
   },
   "outputs": [],
   "source": [
    "def kernel_matrix(A, B):\n",
    "    \"\"\"Compute the matrix whose entries are the kernel\n",
    "       evaluated on pairwise data from sets A and B.\"\"\"\n",
    "    return np.array([[np.exp(-2 + kernel(a, b)) for b in B] for a in A])"
   ]
  },
  {
   "cell_type": "code",
   "execution_count": 33,
   "id": "6b1ce182-7039-4a8f-94b4-42a53a55d0c7",
   "metadata": {
    "tags": []
   },
   "outputs": [],
   "source": [
    "def qsvm(Xtrain,ytrain):\n",
    "    svm = SVC(kernel=kernel_matrix).fit(Xtrain, ytrain)\n",
    "    return svm"
   ]
  },
  {
   "cell_type": "code",
   "execution_count": 34,
   "id": "286c5aef-9e3c-4d7e-9625-6f53dc18ef4a",
   "metadata": {
    "tags": []
   },
   "outputs": [],
   "source": [
    "svm = qsvm(X_train,y_train)"
   ]
  },
  {
   "cell_type": "code",
   "execution_count": 35,
   "id": "56af4617-7e82-4124-aefc-9baf38d4885a",
   "metadata": {
    "tags": []
   },
   "outputs": [
    {
     "data": {
      "text/plain": [
       "1.0"
      ]
     },
     "execution_count": 35,
     "metadata": {},
     "output_type": "execute_result"
    }
   ],
   "source": [
    "predictions = svm.predict(X_test)\n",
    "accuracy_score(predictions, y_test)"
   ]
  },
  {
   "cell_type": "code",
   "execution_count": 83,
   "id": "35af3a05-aef4-4812-a1fc-69994348b5c5",
   "metadata": {
    "tags": []
   },
   "outputs": [],
   "source": [
    "array = np.random.randint(low=0, high=10, size=(5, 5))\n"
   ]
  },
  {
   "cell_type": "code",
   "execution_count": 88,
   "id": "ab60d126-ad22-4d5d-8189-233411515374",
   "metadata": {
    "tags": []
   },
   "outputs": [],
   "source": [
    "import time\n",
    "start = time.time()\n",
    "kernel_matrix(array[0:2],array[0:2])\n",
    "end = time.time()"
   ]
  },
  {
   "cell_type": "code",
   "execution_count": 54,
   "id": "f05296d0-39c8-4087-a037-c4aab4d39029",
   "metadata": {
    "tags": []
   },
   "outputs": [
    {
     "data": {
      "text/plain": [
       "10"
      ]
     },
     "execution_count": 54,
     "metadata": {},
     "output_type": "execute_result"
    }
   ],
   "source": [
    "len(array[0])"
   ]
  },
  {
   "cell_type": "code",
   "execution_count": 91,
   "id": "d1a694a7-1d6e-495d-b542-a27afb8fc4df",
   "metadata": {
    "tags": []
   },
   "outputs": [
    {
     "name": "stdout",
     "output_type": "stream",
     "text": [
      "1.1090355936759784\n"
     ]
    }
   ],
   "source": [
    "print((end-start)/9 * 0.9* 10**9 /2 /3600/24/48)"
   ]
  },
  {
   "cell_type": "code",
   "execution_count": null,
   "id": "56aac8be-14cd-459a-9bde-476df0b98257",
   "metadata": {},
   "outputs": [],
   "source": []
  }
 ],
 "metadata": {
  "kernelspec": {
   "display_name": "Python 3 (ipykernel)",
   "language": "python",
   "name": "python3"
  },
  "language_info": {
   "codemirror_mode": {
    "name": "ipython",
    "version": 3
   },
   "file_extension": ".py",
   "mimetype": "text/x-python",
   "name": "python",
   "nbconvert_exporter": "python",
   "pygments_lexer": "ipython3",
   "version": "3.11.4"
  }
 },
 "nbformat": 4,
 "nbformat_minor": 5
}
